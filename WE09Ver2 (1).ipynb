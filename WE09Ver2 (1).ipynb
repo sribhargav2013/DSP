{
 "cells": [
  {
   "cell_type": "markdown",
   "id": "8f850ed1-30ed-42c9-803c-91bfae47604c",
   "metadata": {},
   "source": [
    "# Data\n",
    "We are going to use the GoldMan Sachs data, from yahoo finance.\n",
    "https://finance.yahoo.com/quote/GS/history?p=GS\n",
    "In this note book we will be building models to predict the closing share of 10th day based on the previous 9 days."
   ]
  },
  {
   "cell_type": "code",
   "execution_count": 1,
   "id": "2acc2a4b-88d1-4f60-be20-8c7b724e9456",
   "metadata": {
    "tags": []
   },
   "outputs": [],
   "source": [
    "import tensorflow as tf\n",
    "from tensorflow import keras\n",
    "from sklearn.metrics import mean_squared_error\n",
    "\n",
    "\n",
    "# Common imports\n",
    "import numpy as np\n",
    "import os\n",
    "\n",
    "# to make this notebook's output stable across runs\n",
    "np.random.seed(42)\n",
    "\n",
    "# To plot pretty figures\n",
    "%matplotlib inline\n",
    "import matplotlib as mpl\n",
    "import matplotlib.pyplot as plt\n",
    "mpl.rc('axes', labelsize=14)\n",
    "mpl.rc('xtick', labelsize=12)\n",
    "mpl.rc('ytick', labelsize=12)"
   ]
  },
  {
   "cell_type": "markdown",
   "id": "11784aee-effd-4358-b1f0-9ff0348b1946",
   "metadata": {},
   "source": [
    "# Read the Dataset"
   ]
  },
  {
   "cell_type": "code",
   "execution_count": 2,
   "id": "6e314508-c3a9-4922-84be-5d0fe3edb684",
   "metadata": {},
   "outputs": [
    {
     "data": {
      "text/html": [
       "<div>\n",
       "<style scoped>\n",
       "    .dataframe tbody tr th:only-of-type {\n",
       "        vertical-align: middle;\n",
       "    }\n",
       "\n",
       "    .dataframe tbody tr th {\n",
       "        vertical-align: top;\n",
       "    }\n",
       "\n",
       "    .dataframe thead th {\n",
       "        text-align: right;\n",
       "    }\n",
       "</style>\n",
       "<table border=\"1\" class=\"dataframe\">\n",
       "  <thead>\n",
       "    <tr style=\"text-align: right;\">\n",
       "      <th></th>\n",
       "      <th>Date</th>\n",
       "      <th>Open</th>\n",
       "      <th>High</th>\n",
       "      <th>Low</th>\n",
       "      <th>Close</th>\n",
       "      <th>Adj Close</th>\n",
       "      <th>Volume</th>\n",
       "    </tr>\n",
       "  </thead>\n",
       "  <tbody>\n",
       "    <tr>\n",
       "      <th>0</th>\n",
       "      <td>2022-11-22</td>\n",
       "      <td>381.399994</td>\n",
       "      <td>385.829987</td>\n",
       "      <td>381.399994</td>\n",
       "      <td>383.869995</td>\n",
       "      <td>378.657684</td>\n",
       "      <td>2019400</td>\n",
       "    </tr>\n",
       "    <tr>\n",
       "      <th>1</th>\n",
       "      <td>2022-11-23</td>\n",
       "      <td>383.899994</td>\n",
       "      <td>388.200012</td>\n",
       "      <td>383.410004</td>\n",
       "      <td>386.250000</td>\n",
       "      <td>381.005371</td>\n",
       "      <td>1865400</td>\n",
       "    </tr>\n",
       "    <tr>\n",
       "      <th>2</th>\n",
       "      <td>2022-11-25</td>\n",
       "      <td>385.760010</td>\n",
       "      <td>389.440002</td>\n",
       "      <td>385.179993</td>\n",
       "      <td>388.859985</td>\n",
       "      <td>383.579926</td>\n",
       "      <td>1129300</td>\n",
       "    </tr>\n",
       "    <tr>\n",
       "      <th>3</th>\n",
       "      <td>2022-11-28</td>\n",
       "      <td>385.429993</td>\n",
       "      <td>388.390015</td>\n",
       "      <td>380.890015</td>\n",
       "      <td>382.359985</td>\n",
       "      <td>377.168152</td>\n",
       "      <td>2232200</td>\n",
       "    </tr>\n",
       "    <tr>\n",
       "      <th>4</th>\n",
       "      <td>2022-11-29</td>\n",
       "      <td>381.130005</td>\n",
       "      <td>384.929993</td>\n",
       "      <td>379.260010</td>\n",
       "      <td>383.709991</td>\n",
       "      <td>378.499847</td>\n",
       "      <td>1746900</td>\n",
       "    </tr>\n",
       "  </tbody>\n",
       "</table>\n",
       "</div>"
      ],
      "text/plain": [
       "         Date        Open        High         Low       Close   Adj Close  \\\n",
       "0  2022-11-22  381.399994  385.829987  381.399994  383.869995  378.657684   \n",
       "1  2022-11-23  383.899994  388.200012  383.410004  386.250000  381.005371   \n",
       "2  2022-11-25  385.760010  389.440002  385.179993  388.859985  383.579926   \n",
       "3  2022-11-28  385.429993  388.390015  380.890015  382.359985  377.168152   \n",
       "4  2022-11-29  381.130005  384.929993  379.260010  383.709991  378.499847   \n",
       "\n",
       "    Volume  \n",
       "0  2019400  \n",
       "1  1865400  \n",
       "2  1129300  \n",
       "3  2232200  \n",
       "4  1746900  "
      ]
     },
     "execution_count": 2,
     "metadata": {},
     "output_type": "execute_result"
    }
   ],
   "source": [
    "import pandas as pd\n",
    "\n",
    "GS = pd.read_csv('GS (9).csv')\n",
    "\n",
    "GS.head()"
   ]
  },
  {
   "cell_type": "code",
   "execution_count": 3,
   "id": "4fe7dd25-a730-4d07-8430-db0d34beb4ff",
   "metadata": {},
   "outputs": [],
   "source": [
    "#Drop the columns we don't need\n",
    "\n",
    "GS= GS.drop(['Open', 'High', 'Low', 'Adj Close', 'Volume'], axis=1)"
   ]
  },
  {
   "cell_type": "code",
   "execution_count": 4,
   "id": "dcd002fb-ac96-4d33-993f-cad440654379",
   "metadata": {},
   "outputs": [
    {
     "data": {
      "text/html": [
       "<div>\n",
       "<style scoped>\n",
       "    .dataframe tbody tr th:only-of-type {\n",
       "        vertical-align: middle;\n",
       "    }\n",
       "\n",
       "    .dataframe tbody tr th {\n",
       "        vertical-align: top;\n",
       "    }\n",
       "\n",
       "    .dataframe thead th {\n",
       "        text-align: right;\n",
       "    }\n",
       "</style>\n",
       "<table border=\"1\" class=\"dataframe\">\n",
       "  <thead>\n",
       "    <tr style=\"text-align: right;\">\n",
       "      <th></th>\n",
       "      <th>Date</th>\n",
       "      <th>Close</th>\n",
       "    </tr>\n",
       "  </thead>\n",
       "  <tbody>\n",
       "    <tr>\n",
       "      <th>0</th>\n",
       "      <td>2022-11-22</td>\n",
       "      <td>383.869995</td>\n",
       "    </tr>\n",
       "    <tr>\n",
       "      <th>1</th>\n",
       "      <td>2022-11-23</td>\n",
       "      <td>386.250000</td>\n",
       "    </tr>\n",
       "    <tr>\n",
       "      <th>2</th>\n",
       "      <td>2022-11-25</td>\n",
       "      <td>388.859985</td>\n",
       "    </tr>\n",
       "    <tr>\n",
       "      <th>3</th>\n",
       "      <td>2022-11-28</td>\n",
       "      <td>382.359985</td>\n",
       "    </tr>\n",
       "    <tr>\n",
       "      <th>4</th>\n",
       "      <td>2022-11-29</td>\n",
       "      <td>383.709991</td>\n",
       "    </tr>\n",
       "    <tr>\n",
       "      <th>...</th>\n",
       "      <td>...</td>\n",
       "      <td>...</td>\n",
       "    </tr>\n",
       "    <tr>\n",
       "      <th>96</th>\n",
       "      <td>2023-04-13</td>\n",
       "      <td>332.130005</td>\n",
       "    </tr>\n",
       "    <tr>\n",
       "      <th>97</th>\n",
       "      <td>2023-04-14</td>\n",
       "      <td>336.920013</td>\n",
       "    </tr>\n",
       "    <tr>\n",
       "      <th>98</th>\n",
       "      <td>2023-04-17</td>\n",
       "      <td>339.679993</td>\n",
       "    </tr>\n",
       "    <tr>\n",
       "      <th>99</th>\n",
       "      <td>2023-04-18</td>\n",
       "      <td>333.910004</td>\n",
       "    </tr>\n",
       "    <tr>\n",
       "      <th>100</th>\n",
       "      <td>2023-04-19</td>\n",
       "      <td>336.890015</td>\n",
       "    </tr>\n",
       "  </tbody>\n",
       "</table>\n",
       "<p>101 rows × 2 columns</p>\n",
       "</div>"
      ],
      "text/plain": [
       "           Date       Close\n",
       "0    2022-11-22  383.869995\n",
       "1    2022-11-23  386.250000\n",
       "2    2022-11-25  388.859985\n",
       "3    2022-11-28  382.359985\n",
       "4    2022-11-29  383.709991\n",
       "..          ...         ...\n",
       "96   2023-04-13  332.130005\n",
       "97   2023-04-14  336.920013\n",
       "98   2023-04-17  339.679993\n",
       "99   2023-04-18  333.910004\n",
       "100  2023-04-19  336.890015\n",
       "\n",
       "[101 rows x 2 columns]"
      ]
     },
     "execution_count": 4,
     "metadata": {},
     "output_type": "execute_result"
    }
   ],
   "source": [
    "GS"
   ]
  },
  {
   "cell_type": "code",
   "execution_count": 5,
   "id": "88ce9f80-d735-4348-9c9f-0705dfab9de0",
   "metadata": {},
   "outputs": [
    {
     "data": {
      "image/png": "[encoded data removed]",
      "text/plain": [
       "<Figure size 640x480 with 1 Axes>"
      ]
     },
     "metadata": {},
     "output_type": "display_data"
    }
   ],
   "source": [
    "#Plot temp\n",
    "\n",
    "plt.plot(GS['Close'])\n",
    "plt.show()"
   ]
  },
  {
   "cell_type": "markdown",
   "id": "48f6721e-d180-487a-aed2-e10536030f6a",
   "metadata": {},
   "source": [
    "# Data Cleanup"
   ]
  },
  {
   "cell_type": "markdown",
   "id": "ea61add3-7934-47d2-b5c9-66a847e629c9",
   "metadata": {},
   "source": [
    "## RESHAPE the data set!"
   ]
  },
  {
   "cell_type": "code",
   "execution_count": 6,
   "id": "e91e9713-43f4-4bc6-83be-ba430306cd4a",
   "metadata": {},
   "outputs": [
    {
     "data": {
      "text/plain": [
       "(101, 2)"
      ]
     },
     "execution_count": 6,
     "metadata": {},
     "output_type": "execute_result"
    }
   ],
   "source": [
    "GS.shape"
   ]
  },
  {
   "cell_type": "code",
   "execution_count": 7,
   "id": "aedb0aea-914b-4f51-852e-ebd2cae5de8b",
   "metadata": {},
   "outputs": [
    {
     "data": {
      "text/plain": [
       "10.1"
      ]
     },
     "execution_count": 7,
     "metadata": {},
     "output_type": "execute_result"
    }
   ],
   "source": [
    "# Note that not all days have 24 readings. Some are missing.\n",
    "\n",
    "GS.shape[0]/10"
   ]
  },
  {
   "cell_type": "code",
   "execution_count": 10,
   "id": "cab9e67c-dd66-402a-8899-c8896336ca6c",
   "metadata": {},
   "outputs": [
    {
     "data": {
      "text/plain": [
       "(100, 2)"
      ]
     },
     "execution_count": 10,
     "metadata": {},
     "output_type": "execute_result"
    }
   ],
   "source": [
    "row_count = GS.shape[0] # store the number of obersvations (daily temperature readings)\n",
    "row_count\n",
    "GS = GS[row_count % 10: ]\n",
    "GS.shape"
   ]
  },
  {
   "cell_type": "code",
   "execution_count": 12,
   "id": "6d840fee-8f07-4f91-987b-db501d97b868",
   "metadata": {},
   "outputs": [
    {
     "data": {
      "text/html": [
       "<div>\n",
       "<style scoped>\n",
       "    .dataframe tbody tr th:only-of-type {\n",
       "        vertical-align: middle;\n",
       "    }\n",
       "\n",
       "    .dataframe tbody tr th {\n",
       "        vertical-align: top;\n",
       "    }\n",
       "\n",
       "    .dataframe thead th {\n",
       "        text-align: right;\n",
       "    }\n",
       "</style>\n",
       "<table border=\"1\" class=\"dataframe\">\n",
       "  <thead>\n",
       "    <tr style=\"text-align: right;\">\n",
       "      <th></th>\n",
       "      <th>Close</th>\n",
       "    </tr>\n",
       "    <tr>\n",
       "      <th>Date</th>\n",
       "      <th></th>\n",
       "    </tr>\n",
       "  </thead>\n",
       "  <tbody>\n",
       "    <tr>\n",
       "      <th>2022-11-23</th>\n",
       "      <td>1</td>\n",
       "    </tr>\n",
       "    <tr>\n",
       "      <th>2022-11-25</th>\n",
       "      <td>1</td>\n",
       "    </tr>\n",
       "    <tr>\n",
       "      <th>2022-11-28</th>\n",
       "      <td>1</td>\n",
       "    </tr>\n",
       "    <tr>\n",
       "      <th>2022-11-29</th>\n",
       "      <td>1</td>\n",
       "    </tr>\n",
       "    <tr>\n",
       "      <th>2022-11-30</th>\n",
       "      <td>1</td>\n",
       "    </tr>\n",
       "    <tr>\n",
       "      <th>...</th>\n",
       "      <td>...</td>\n",
       "    </tr>\n",
       "    <tr>\n",
       "      <th>2023-04-13</th>\n",
       "      <td>1</td>\n",
       "    </tr>\n",
       "    <tr>\n",
       "      <th>2023-04-14</th>\n",
       "      <td>1</td>\n",
       "    </tr>\n",
       "    <tr>\n",
       "      <th>2023-04-17</th>\n",
       "      <td>1</td>\n",
       "    </tr>\n",
       "    <tr>\n",
       "      <th>2023-04-18</th>\n",
       "      <td>1</td>\n",
       "    </tr>\n",
       "    <tr>\n",
       "      <th>2023-04-19</th>\n",
       "      <td>1</td>\n",
       "    </tr>\n",
       "  </tbody>\n",
       "</table>\n",
       "<p>100 rows × 1 columns</p>\n",
       "</div>"
      ],
      "text/plain": [
       "            Close\n",
       "Date             \n",
       "2022-11-23      1\n",
       "2022-11-25      1\n",
       "2022-11-28      1\n",
       "2022-11-29      1\n",
       "2022-11-30      1\n",
       "...           ...\n",
       "2023-04-13      1\n",
       "2023-04-14      1\n",
       "2023-04-17      1\n",
       "2023-04-18      1\n",
       "2023-04-19      1\n",
       "\n",
       "[100 rows x 1 columns]"
      ]
     },
     "execution_count": 12,
     "metadata": {},
     "output_type": "execute_result"
    }
   ],
   "source": [
    "GS.groupby(['Date']).count()"
   ]
  },
  {
   "cell_type": "code",
   "execution_count": 20,
   "id": "5c528573-552e-49c2-8abf-142478154ee4",
   "metadata": {},
   "outputs": [
    {
     "data": {
      "text/plain": [
       "array([[386.25    ],\n",
       "       [388.859985],\n",
       "       [382.359985],\n",
       "       [383.709991],\n",
       "       [386.149994],\n",
       "       [383.809998],\n",
       "       [380.579987],\n",
       "       [371.540009],\n",
       "       [362.910004],\n",
       "       [359.920013],\n",
       "       [358.079987],\n",
       "       [359.140015],\n",
       "       [363.179993],\n",
       "       [368.690002],\n",
       "       [360.380005],\n",
       "       [349.829987],\n",
       "       [346.350006],\n",
       "       [344.609985],\n",
       "       [344.48999 ],\n",
       "       [350.160004],\n",
       "       [345.579987],\n",
       "       [345.51001 ],\n",
       "       [341.970001],\n",
       "       [340.869995],\n",
       "       [343.429993],\n",
       "       [343.380005],\n",
       "       [346.220001],\n",
       "       [347.700012],\n",
       "       [343.76001 ],\n",
       "       [348.079987],\n",
       "       [353.      ],\n",
       "       [357.359985],\n",
       "       [364.480011],\n",
       "       [369.940002],\n",
       "       [374.      ],\n",
       "       [349.920013],\n",
       "       [349.089996],\n",
       "       [350.75    ],\n",
       "       [341.839996],\n",
       "       [349.140015],\n",
       "       [348.329987],\n",
       "       [349.630005],\n",
       "       [354.970001],\n",
       "       [353.700012],\n",
       "       [357.459991],\n",
       "       [365.809998],\n",
       "       [365.709991],\n",
       "       [369.470001],\n",
       "       [369.950012],\n",
       "       [370.799988],\n",
       "       [374.399994],\n",
       "       [375.100006],\n",
       "       [367.98999 ],\n",
       "       [371.279999],\n",
       "       [374.019989],\n",
       "       [371.779999],\n",
       "       [374.339996],\n",
       "       [370.200012],\n",
       "       [368.5     ],\n",
       "       [361.119995],\n",
       "       [360.890015],\n",
       "       [363.540009],\n",
       "       [363.850006],\n",
       "       [365.529999],\n",
       "       [351.649994],\n",
       "       [346.230011],\n",
       "       [349.100006],\n",
       "       [357.089996],\n",
       "       [357.049988],\n",
       "       [346.079987],\n",
       "       [349.290009],\n",
       "       [342.089996],\n",
       "       [327.670013],\n",
       "       [315.51001 ],\n",
       "       [322.149994],\n",
       "       [312.190002],\n",
       "       [315.089996],\n",
       "       [303.540009],\n",
       "       [309.529999],\n",
       "       [317.279999],\n",
       "       [313.670013],\n",
       "       [314.850006],\n",
       "       [312.570007],\n",
       "       [318.529999],\n",
       "       [318.440002],\n",
       "       [320.720001],\n",
       "       [321.140015],\n",
       "       [327.109985],\n",
       "       [326.519989],\n",
       "       [322.649994],\n",
       "       [321.529999],\n",
       "       [322.399994],\n",
       "       [324.959991],\n",
       "       [327.369995],\n",
       "       [330.23999 ],\n",
       "       [332.130005],\n",
       "       [336.920013],\n",
       "       [339.679993],\n",
       "       [333.910004],\n",
       "       [336.890015]])"
      ]
     },
     "execution_count": 20,
     "metadata": {},
     "output_type": "execute_result"
    }
   ],
   "source": [
    "# Re-organize the data set by day and hours\n",
    "temp = np.array(GS['Close']).reshape(100,1)\n",
    "\n",
    "temp"
   ]
  },
  {
   "cell_type": "code",
   "execution_count": 23,
   "id": "05d7e068-09be-433d-a6a9-24f37edf511e",
   "metadata": {},
   "outputs": [
    {
     "data": {
      "text/html": [
       "<div>\n",
       "<style scoped>\n",
       "    .dataframe tbody tr th:only-of-type {\n",
       "        vertical-align: middle;\n",
       "    }\n",
       "\n",
       "    .dataframe tbody tr th {\n",
       "        vertical-align: top;\n",
       "    }\n",
       "\n",
       "    .dataframe thead th {\n",
       "        text-align: right;\n",
       "    }\n",
       "</style>\n",
       "<table border=\"1\" class=\"dataframe\">\n",
       "  <thead>\n",
       "    <tr style=\"text-align: right;\">\n",
       "      <th></th>\n",
       "      <th>0</th>\n",
       "      <th>1</th>\n",
       "      <th>2</th>\n",
       "      <th>3</th>\n",
       "      <th>4</th>\n",
       "      <th>5</th>\n",
       "      <th>6</th>\n",
       "      <th>7</th>\n",
       "      <th>8</th>\n",
       "      <th>9</th>\n",
       "    </tr>\n",
       "  </thead>\n",
       "  <tbody>\n",
       "    <tr>\n",
       "      <th>0</th>\n",
       "      <td>386.250000</td>\n",
       "      <td>388.859985</td>\n",
       "      <td>382.359985</td>\n",
       "      <td>383.709991</td>\n",
       "      <td>386.149994</td>\n",
       "      <td>383.809998</td>\n",
       "      <td>380.579987</td>\n",
       "      <td>371.540009</td>\n",
       "      <td>362.910004</td>\n",
       "      <td>359.920013</td>\n",
       "    </tr>\n",
       "    <tr>\n",
       "      <th>1</th>\n",
       "      <td>358.079987</td>\n",
       "      <td>359.140015</td>\n",
       "      <td>363.179993</td>\n",
       "      <td>368.690002</td>\n",
       "      <td>360.380005</td>\n",
       "      <td>349.829987</td>\n",
       "      <td>346.350006</td>\n",
       "      <td>344.609985</td>\n",
       "      <td>344.489990</td>\n",
       "      <td>350.160004</td>\n",
       "    </tr>\n",
       "    <tr>\n",
       "      <th>2</th>\n",
       "      <td>345.579987</td>\n",
       "      <td>345.510010</td>\n",
       "      <td>341.970001</td>\n",
       "      <td>340.869995</td>\n",
       "      <td>343.429993</td>\n",
       "      <td>343.380005</td>\n",
       "      <td>346.220001</td>\n",
       "      <td>347.700012</td>\n",
       "      <td>343.760010</td>\n",
       "      <td>348.079987</td>\n",
       "    </tr>\n",
       "    <tr>\n",
       "      <th>3</th>\n",
       "      <td>353.000000</td>\n",
       "      <td>357.359985</td>\n",
       "      <td>364.480011</td>\n",
       "      <td>369.940002</td>\n",
       "      <td>374.000000</td>\n",
       "      <td>349.920013</td>\n",
       "      <td>349.089996</td>\n",
       "      <td>350.750000</td>\n",
       "      <td>341.839996</td>\n",
       "      <td>349.140015</td>\n",
       "    </tr>\n",
       "    <tr>\n",
       "      <th>4</th>\n",
       "      <td>348.329987</td>\n",
       "      <td>349.630005</td>\n",
       "      <td>354.970001</td>\n",
       "      <td>353.700012</td>\n",
       "      <td>357.459991</td>\n",
       "      <td>365.809998</td>\n",
       "      <td>365.709991</td>\n",
       "      <td>369.470001</td>\n",
       "      <td>369.950012</td>\n",
       "      <td>370.799988</td>\n",
       "    </tr>\n",
       "    <tr>\n",
       "      <th>5</th>\n",
       "      <td>374.399994</td>\n",
       "      <td>375.100006</td>\n",
       "      <td>367.989990</td>\n",
       "      <td>371.279999</td>\n",
       "      <td>374.019989</td>\n",
       "      <td>371.779999</td>\n",
       "      <td>374.339996</td>\n",
       "      <td>370.200012</td>\n",
       "      <td>368.500000</td>\n",
       "      <td>361.119995</td>\n",
       "    </tr>\n",
       "    <tr>\n",
       "      <th>6</th>\n",
       "      <td>360.890015</td>\n",
       "      <td>363.540009</td>\n",
       "      <td>363.850006</td>\n",
       "      <td>365.529999</td>\n",
       "      <td>351.649994</td>\n",
       "      <td>346.230011</td>\n",
       "      <td>349.100006</td>\n",
       "      <td>357.089996</td>\n",
       "      <td>357.049988</td>\n",
       "      <td>346.079987</td>\n",
       "    </tr>\n",
       "    <tr>\n",
       "      <th>7</th>\n",
       "      <td>349.290009</td>\n",
       "      <td>342.089996</td>\n",
       "      <td>327.670013</td>\n",
       "      <td>315.510010</td>\n",
       "      <td>322.149994</td>\n",
       "      <td>312.190002</td>\n",
       "      <td>315.089996</td>\n",
       "      <td>303.540009</td>\n",
       "      <td>309.529999</td>\n",
       "      <td>317.279999</td>\n",
       "    </tr>\n",
       "    <tr>\n",
       "      <th>8</th>\n",
       "      <td>313.670013</td>\n",
       "      <td>314.850006</td>\n",
       "      <td>312.570007</td>\n",
       "      <td>318.529999</td>\n",
       "      <td>318.440002</td>\n",
       "      <td>320.720001</td>\n",
       "      <td>321.140015</td>\n",
       "      <td>327.109985</td>\n",
       "      <td>326.519989</td>\n",
       "      <td>322.649994</td>\n",
       "    </tr>\n",
       "    <tr>\n",
       "      <th>9</th>\n",
       "      <td>321.529999</td>\n",
       "      <td>322.399994</td>\n",
       "      <td>324.959991</td>\n",
       "      <td>327.369995</td>\n",
       "      <td>330.239990</td>\n",
       "      <td>332.130005</td>\n",
       "      <td>336.920013</td>\n",
       "      <td>339.679993</td>\n",
       "      <td>333.910004</td>\n",
       "      <td>336.890015</td>\n",
       "    </tr>\n",
       "  </tbody>\n",
       "</table>\n",
       "</div>"
      ],
      "text/plain": [
       "            0           1           2           3           4           5  \\\n",
       "0  386.250000  388.859985  382.359985  383.709991  386.149994  383.809998   \n",
       "1  358.079987  359.140015  363.179993  368.690002  360.380005  349.829987   \n",
       "2  345.579987  345.510010  341.970001  340.869995  343.429993  343.380005   \n",
       "3  353.000000  357.359985  364.480011  369.940002  374.000000  349.920013   \n",
       "4  348.329987  349.630005  354.970001  353.700012  357.459991  365.809998   \n",
       "5  374.399994  375.100006  367.989990  371.279999  374.019989  371.779999   \n",
       "6  360.890015  363.540009  363.850006  365.529999  351.649994  346.230011   \n",
       "7  349.290009  342.089996  327.670013  315.510010  322.149994  312.190002   \n",
       "8  313.670013  314.850006  312.570007  318.529999  318.440002  320.720001   \n",
       "9  321.529999  322.399994  324.959991  327.369995  330.239990  332.130005   \n",
       "\n",
       "            6           7           8           9  \n",
       "0  380.579987  371.540009  362.910004  359.920013  \n",
       "1  346.350006  344.609985  344.489990  350.160004  \n",
       "2  346.220001  347.700012  343.760010  348.079987  \n",
       "3  349.089996  350.750000  341.839996  349.140015  \n",
       "4  365.709991  369.470001  369.950012  370.799988  \n",
       "5  374.339996  370.200012  368.500000  361.119995  \n",
       "6  349.100006  357.089996  357.049988  346.079987  \n",
       "7  315.089996  303.540009  309.529999  317.279999  \n",
       "8  321.140015  327.109985  326.519989  322.649994  \n",
       "9  336.920013  339.679993  333.910004  336.890015  "
      ]
     },
     "execution_count": 23,
     "metadata": {},
     "output_type": "execute_result"
    }
   ],
   "source": [
    "\n",
    "# Assume temp is a numpy array with shape (100, 1)\n",
    "temp_reshaped = np.reshape(temp, (-1, 10))\n",
    "# Reshape the temp array into (-1, 10) shape, where -1 means to infer the number of rows based on the number of columns (10 in this case)\n",
    "\n",
    "temp_df = pd.DataFrame(temp_reshaped, columns=np.arange(0,10,1))\n",
    "temp_df"
   ]
  },
  {
   "cell_type": "markdown",
   "id": "4b7a040c-bd68-41f4-9c46-466008442051",
   "metadata": {},
   "source": [
    "# Reshape for Standardizing Data"
   ]
  },
  {
   "cell_type": "code",
   "execution_count": 24,
   "id": "26ca2b60-4323-4008-bcfe-6c36ac36fe85",
   "metadata": {},
   "outputs": [
    {
     "data": {
      "text/plain": [
       "(100, 1)"
      ]
     },
     "execution_count": 24,
     "metadata": {},
     "output_type": "execute_result"
    }
   ],
   "source": [
    "# Let's create a single sequence (i.e., feature) for standardization\n",
    "\n",
    "temp_1feature = np.array(temp_df).ravel().reshape(-1,1)\n",
    "\n",
    "temp_1feature.shape"
   ]
  },
  {
   "cell_type": "code",
   "execution_count": 25,
   "id": "1133a39f-590b-4366-91f4-aeb26b2364e3",
   "metadata": {
    "scrolled": true
   },
   "outputs": [
    {
     "data": {
      "text/plain": [
       "array([[386.25    ],\n",
       "       [388.859985],\n",
       "       [382.359985],\n",
       "       [383.709991],\n",
       "       [386.149994],\n",
       "       [383.809998],\n",
       "       [380.579987],\n",
       "       [371.540009],\n",
       "       [362.910004],\n",
       "       [359.920013],\n",
       "       [358.079987],\n",
       "       [359.140015],\n",
       "       [363.179993],\n",
       "       [368.690002],\n",
       "       [360.380005],\n",
       "       [349.829987],\n",
       "       [346.350006],\n",
       "       [344.609985],\n",
       "       [344.48999 ],\n",
       "       [350.160004],\n",
       "       [345.579987],\n",
       "       [345.51001 ],\n",
       "       [341.970001],\n",
       "       [340.869995],\n",
       "       [343.429993],\n",
       "       [343.380005],\n",
       "       [346.220001],\n",
       "       [347.700012],\n",
       "       [343.76001 ],\n",
       "       [348.079987],\n",
       "       [353.      ],\n",
       "       [357.359985],\n",
       "       [364.480011],\n",
       "       [369.940002],\n",
       "       [374.      ],\n",
       "       [349.920013],\n",
       "       [349.089996],\n",
       "       [350.75    ],\n",
       "       [341.839996],\n",
       "       [349.140015],\n",
       "       [348.329987],\n",
       "       [349.630005],\n",
       "       [354.970001],\n",
       "       [353.700012],\n",
       "       [357.459991],\n",
       "       [365.809998],\n",
       "       [365.709991],\n",
       "       [369.470001],\n",
       "       [369.950012],\n",
       "       [370.799988],\n",
       "       [374.399994],\n",
       "       [375.100006],\n",
       "       [367.98999 ],\n",
       "       [371.279999],\n",
       "       [374.019989],\n",
       "       [371.779999],\n",
       "       [374.339996],\n",
       "       [370.200012],\n",
       "       [368.5     ],\n",
       "       [361.119995],\n",
       "       [360.890015],\n",
       "       [363.540009],\n",
       "       [363.850006],\n",
       "       [365.529999],\n",
       "       [351.649994],\n",
       "       [346.230011],\n",
       "       [349.100006],\n",
       "       [357.089996],\n",
       "       [357.049988],\n",
       "       [346.079987],\n",
       "       [349.290009],\n",
       "       [342.089996],\n",
       "       [327.670013],\n",
       "       [315.51001 ],\n",
       "       [322.149994],\n",
       "       [312.190002],\n",
       "       [315.089996],\n",
       "       [303.540009],\n",
       "       [309.529999],\n",
       "       [317.279999],\n",
       "       [313.670013],\n",
       "       [314.850006],\n",
       "       [312.570007],\n",
       "       [318.529999],\n",
       "       [318.440002],\n",
       "       [320.720001],\n",
       "       [321.140015],\n",
       "       [327.109985],\n",
       "       [326.519989],\n",
       "       [322.649994],\n",
       "       [321.529999],\n",
       "       [322.399994],\n",
       "       [324.959991],\n",
       "       [327.369995],\n",
       "       [330.23999 ],\n",
       "       [332.130005],\n",
       "       [336.920013],\n",
       "       [339.679993],\n",
       "       [333.910004],\n",
       "       [336.890015]])"
      ]
     },
     "execution_count": 25,
     "metadata": {},
     "output_type": "execute_result"
    }
   ],
   "source": [
    "temp_1feature"
   ]
  },
  {
   "cell_type": "markdown",
   "id": "8a41ed8f-fc8f-4e26-881e-255aeec8765d",
   "metadata": {},
   "source": [
    "## Standardize the values"
   ]
  },
  {
   "cell_type": "code",
   "execution_count": 26,
   "id": "3697ba03-4c17-4076-88fd-a693e1b4e200",
   "metadata": {},
   "outputs": [],
   "source": [
    "# Next, standardize\n",
    "\n",
    "from sklearn.preprocessing import StandardScaler\n",
    "\n",
    "scaler = StandardScaler()\n",
    "\n",
    "temp_std = scaler.fit_transform(temp_1feature)"
   ]
  },
  {
   "cell_type": "code",
   "execution_count": 29,
   "id": "e1f48fb2-7860-4568-b384-372f92960f41",
   "metadata": {},
   "outputs": [
    {
     "data": {
      "text/plain": [
       "(10, 10)"
      ]
     },
     "execution_count": 29,
     "metadata": {},
     "output_type": "execute_result"
    }
   ],
   "source": [
    "#Pandas version of the reshaped data\n",
    "temp_reshaped = temp_std.reshape(-1,10)\n",
    "\n",
    "temp_reshaped.shape"
   ]
  },
  {
   "cell_type": "code",
   "execution_count": 30,
   "id": "6fbe297f-25ea-4df3-80b1-cd543d9a15fa",
   "metadata": {},
   "outputs": [
    {
     "data": {
      "text/html": [
       "<div>\n",
       "<style scoped>\n",
       "    .dataframe tbody tr th:only-of-type {\n",
       "        vertical-align: middle;\n",
       "    }\n",
       "\n",
       "    .dataframe tbody tr th {\n",
       "        vertical-align: top;\n",
       "    }\n",
       "\n",
       "    .dataframe thead th {\n",
       "        text-align: right;\n",
       "    }\n",
       "</style>\n",
       "<table border=\"1\" class=\"dataframe\">\n",
       "  <thead>\n",
       "    <tr style=\"text-align: right;\">\n",
       "      <th></th>\n",
       "      <th>0</th>\n",
       "      <th>1</th>\n",
       "      <th>2</th>\n",
       "      <th>3</th>\n",
       "      <th>4</th>\n",
       "      <th>5</th>\n",
       "      <th>6</th>\n",
       "      <th>7</th>\n",
       "      <th>8</th>\n",
       "      <th>9</th>\n",
       "    </tr>\n",
       "  </thead>\n",
       "  <tbody>\n",
       "    <tr>\n",
       "      <th>0</th>\n",
       "      <td>1.794966</td>\n",
       "      <td>1.921726</td>\n",
       "      <td>1.606039</td>\n",
       "      <td>1.671605</td>\n",
       "      <td>1.790109</td>\n",
       "      <td>1.676462</td>\n",
       "      <td>1.519589</td>\n",
       "      <td>1.080543</td>\n",
       "      <td>0.661408</td>\n",
       "      <td>0.516192</td>\n",
       "    </tr>\n",
       "    <tr>\n",
       "      <th>1</th>\n",
       "      <td>0.426827</td>\n",
       "      <td>0.478310</td>\n",
       "      <td>0.674520</td>\n",
       "      <td>0.942126</td>\n",
       "      <td>0.538533</td>\n",
       "      <td>0.026148</td>\n",
       "      <td>-0.142865</td>\n",
       "      <td>-0.227373</td>\n",
       "      <td>-0.233201</td>\n",
       "      <td>0.042176</td>\n",
       "    </tr>\n",
       "    <tr>\n",
       "      <th>2</th>\n",
       "      <td>-0.180263</td>\n",
       "      <td>-0.183661</td>\n",
       "      <td>-0.355590</td>\n",
       "      <td>-0.409014</td>\n",
       "      <td>-0.284682</td>\n",
       "      <td>-0.287110</td>\n",
       "      <td>-0.149179</td>\n",
       "      <td>-0.077299</td>\n",
       "      <td>-0.268654</td>\n",
       "      <td>-0.058845</td>\n",
       "    </tr>\n",
       "    <tr>\n",
       "      <th>3</th>\n",
       "      <td>0.180107</td>\n",
       "      <td>0.391859</td>\n",
       "      <td>0.737659</td>\n",
       "      <td>1.002835</td>\n",
       "      <td>1.200018</td>\n",
       "      <td>0.030520</td>\n",
       "      <td>-0.009791</td>\n",
       "      <td>0.070830</td>\n",
       "      <td>-0.361904</td>\n",
       "      <td>-0.007362</td>\n",
       "    </tr>\n",
       "    <tr>\n",
       "      <th>4</th>\n",
       "      <td>-0.046703</td>\n",
       "      <td>0.016435</td>\n",
       "      <td>0.275784</td>\n",
       "      <td>0.214104</td>\n",
       "      <td>0.396716</td>\n",
       "      <td>0.802252</td>\n",
       "      <td>0.797395</td>\n",
       "      <td>0.980008</td>\n",
       "      <td>1.003321</td>\n",
       "      <td>1.044602</td>\n",
       "    </tr>\n",
       "    <tr>\n",
       "      <th>5</th>\n",
       "      <td>1.219444</td>\n",
       "      <td>1.253442</td>\n",
       "      <td>0.908128</td>\n",
       "      <td>1.067915</td>\n",
       "      <td>1.200989</td>\n",
       "      <td>1.092199</td>\n",
       "      <td>1.216531</td>\n",
       "      <td>1.015463</td>\n",
       "      <td>0.932898</td>\n",
       "      <td>0.574472</td>\n",
       "    </tr>\n",
       "    <tr>\n",
       "      <th>6</th>\n",
       "      <td>0.563303</td>\n",
       "      <td>0.692005</td>\n",
       "      <td>0.707061</td>\n",
       "      <td>0.788654</td>\n",
       "      <td>0.114541</td>\n",
       "      <td>-0.148693</td>\n",
       "      <td>-0.009305</td>\n",
       "      <td>0.378746</td>\n",
       "      <td>0.376803</td>\n",
       "      <td>-0.155979</td>\n",
       "    </tr>\n",
       "    <tr>\n",
       "      <th>7</th>\n",
       "      <td>-0.000077</td>\n",
       "      <td>-0.349762</td>\n",
       "      <td>-1.050100</td>\n",
       "      <td>-1.640677</td>\n",
       "      <td>-1.318192</td>\n",
       "      <td>-1.801921</td>\n",
       "      <td>-1.661076</td>\n",
       "      <td>-2.222027</td>\n",
       "      <td>-1.931110</td>\n",
       "      <td>-1.554714</td>\n",
       "    </tr>\n",
       "    <tr>\n",
       "      <th>8</th>\n",
       "      <td>-1.730041</td>\n",
       "      <td>-1.672732</td>\n",
       "      <td>-1.783465</td>\n",
       "      <td>-1.494005</td>\n",
       "      <td>-1.498376</td>\n",
       "      <td>-1.387643</td>\n",
       "      <td>-1.367244</td>\n",
       "      <td>-1.077299</td>\n",
       "      <td>-1.105953</td>\n",
       "      <td>-1.293908</td>\n",
       "    </tr>\n",
       "    <tr>\n",
       "      <th>9</th>\n",
       "      <td>-1.348303</td>\n",
       "      <td>-1.306050</td>\n",
       "      <td>-1.181718</td>\n",
       "      <td>-1.064671</td>\n",
       "      <td>-0.925283</td>\n",
       "      <td>-0.833491</td>\n",
       "      <td>-0.600853</td>\n",
       "      <td>-0.466809</td>\n",
       "      <td>-0.747041</td>\n",
       "      <td>-0.602310</td>\n",
       "    </tr>\n",
       "  </tbody>\n",
       "</table>\n",
       "</div>"
      ],
      "text/plain": [
       "          0         1         2         3         4         5         6  \\\n",
       "0  1.794966  1.921726  1.606039  1.671605  1.790109  1.676462  1.519589   \n",
       "1  0.426827  0.478310  0.674520  0.942126  0.538533  0.026148 -0.142865   \n",
       "2 -0.180263 -0.183661 -0.355590 -0.409014 -0.284682 -0.287110 -0.149179   \n",
       "3  0.180107  0.391859  0.737659  1.002835  1.200018  0.030520 -0.009791   \n",
       "4 -0.046703  0.016435  0.275784  0.214104  0.396716  0.802252  0.797395   \n",
       "5  1.219444  1.253442  0.908128  1.067915  1.200989  1.092199  1.216531   \n",
       "6  0.563303  0.692005  0.707061  0.788654  0.114541 -0.148693 -0.009305   \n",
       "7 -0.000077 -0.349762 -1.050100 -1.640677 -1.318192 -1.801921 -1.661076   \n",
       "8 -1.730041 -1.672732 -1.783465 -1.494005 -1.498376 -1.387643 -1.367244   \n",
       "9 -1.348303 -1.306050 -1.181718 -1.064671 -0.925283 -0.833491 -0.600853   \n",
       "\n",
       "          7         8         9  \n",
       "0  1.080543  0.661408  0.516192  \n",
       "1 -0.227373 -0.233201  0.042176  \n",
       "2 -0.077299 -0.268654 -0.058845  \n",
       "3  0.070830 -0.361904 -0.007362  \n",
       "4  0.980008  1.003321  1.044602  \n",
       "5  1.015463  0.932898  0.574472  \n",
       "6  0.378746  0.376803 -0.155979  \n",
       "7 -2.222027 -1.931110 -1.554714  \n",
       "8 -1.077299 -1.105953 -1.293908  \n",
       "9 -0.466809 -0.747041 -0.602310  "
      ]
     },
     "execution_count": 30,
     "metadata": {},
     "output_type": "execute_result"
    }
   ],
   "source": [
    "#Pandas version of the reshaped data\n",
    "\n",
    "pd.DataFrame(temp_reshaped, columns=np.arange(0,10,1))"
   ]
  },
  {
   "cell_type": "markdown",
   "id": "457bf702-9bf5-435f-9fcb-f842d78c6a82",
   "metadata": {},
   "source": [
    "# Split the Data\n",
    "\n",
    "**In certain cases, we cannot use a random split. For example, if we are trying to predict the stock market, we cannot use a random split. We need to use a chronological split.**\n",
    "\n",
    "BUT, keep in mind if we have something like hourly readings of dayly temperature, we can use a random split on days, but the sequence of the temperature within the day is important to remain sequential.\n",
    "\n",
    "In this case, we are using a random spli because each day as an independent sample."
   ]
  },
  {
   "cell_type": "code",
   "execution_count": 31,
   "id": "3f6f72f0-456b-47e3-b477-435c8a09b648",
   "metadata": {},
   "outputs": [],
   "source": [
    "from sklearn.model_selection import train_test_split\n",
    "\n",
    "#train, test = train_test_split(temp_reshaped, test_size=0.3)\n",
    "\n",
    "# if we neede to maintain the ordering of the data, we can use the following code to split the data\n",
    "split_point = int(len(temp_reshaped)*0.7)\n",
    "train, test = temp_reshaped[:split_point], temp_reshaped[split_point:]"
   ]
  },
  {
   "cell_type": "code",
   "execution_count": 32,
   "id": "483f6de8-7193-492a-a123-58234169a4c1",
   "metadata": {},
   "outputs": [
    {
     "data": {
      "text/plain": [
       "(7, 10)"
      ]
     },
     "execution_count": 32,
     "metadata": {},
     "output_type": "execute_result"
    }
   ],
   "source": [
    "train.shape"
   ]
  },
  {
   "cell_type": "code",
   "execution_count": 33,
   "id": "f5531fe7-ae8c-4a35-a6e0-1e965e703e18",
   "metadata": {},
   "outputs": [
    {
     "data": {
      "text/plain": [
       "array([[ 1.79496607,  1.92172574,  1.60603893,  1.67160494,  1.79010906,\n",
       "         1.676462  ,  1.51958941,  1.08054297,  0.66140778,  0.51619229],\n",
       "       [ 0.42682737,  0.47830997,  0.67452039,  0.94212611,  0.53853281,\n",
       "         0.02614796, -0.14286498, -0.22737293, -0.23320075,  0.04217597]])"
      ]
     },
     "execution_count": 33,
     "metadata": {},
     "output_type": "execute_result"
    }
   ],
   "source": [
    "train[:2]"
   ]
  },
  {
   "cell_type": "code",
   "execution_count": 34,
   "id": "be3ecf6e-1559-4e4d-aeff-5df6203de6a0",
   "metadata": {},
   "outputs": [
    {
     "data": {
      "text/plain": [
       "(3, 10)"
      ]
     },
     "execution_count": 34,
     "metadata": {},
     "output_type": "execute_result"
    }
   ],
   "source": [
    "test.shape"
   ]
  },
  {
   "cell_type": "code",
   "execution_count": 35,
   "id": "e4e3235e-2a88-42a4-a0e5-b311be8326b1",
   "metadata": {},
   "outputs": [
    {
     "data": {
      "text/plain": [
       "array([[-7.72573043e-05, -3.49761739e-01, -1.05009996e+00,\n",
       "        -1.64067727e+00, -1.31819183e+00, -1.80192077e+00,\n",
       "        -1.66107618e+00, -2.22202672e+00, -1.93110967e+00,\n",
       "        -1.55471386e+00],\n",
       "       [-1.73004078e+00, -1.67273182e+00, -1.78346499e+00,\n",
       "        -1.49400486e+00, -1.49837576e+00, -1.38764259e+00,\n",
       "        -1.36724369e+00, -1.07729895e+00, -1.10595340e+00,\n",
       "        -1.29390823e+00]])"
      ]
     },
     "execution_count": 35,
     "metadata": {},
     "output_type": "execute_result"
    }
   ],
   "source": [
    "test[:2]"
   ]
  },
  {
   "cell_type": "markdown",
   "id": "193fdfb2-24fc-4be0-b5a8-f324688fbb42",
   "metadata": {},
   "source": [
    "# Create Input and Target values\n",
    "\n",
    "The first 9 days will be input to predict the 10th day closing share(i.e., target)"
   ]
  },
  {
   "cell_type": "code",
   "execution_count": 37,
   "id": "adb2799e-1a11-4d0b-90ba-d70d29b75d6c",
   "metadata": {},
   "outputs": [
    {
     "data": {
      "text/html": [
       "<div>\n",
       "<style scoped>\n",
       "    .dataframe tbody tr th:only-of-type {\n",
       "        vertical-align: middle;\n",
       "    }\n",
       "\n",
       "    .dataframe tbody tr th {\n",
       "        vertical-align: top;\n",
       "    }\n",
       "\n",
       "    .dataframe thead th {\n",
       "        text-align: right;\n",
       "    }\n",
       "</style>\n",
       "<table border=\"1\" class=\"dataframe\">\n",
       "  <thead>\n",
       "    <tr style=\"text-align: right;\">\n",
       "      <th></th>\n",
       "      <th>0</th>\n",
       "      <th>1</th>\n",
       "      <th>2</th>\n",
       "      <th>3</th>\n",
       "      <th>4</th>\n",
       "      <th>5</th>\n",
       "      <th>6</th>\n",
       "      <th>7</th>\n",
       "      <th>8</th>\n",
       "    </tr>\n",
       "  </thead>\n",
       "  <tbody>\n",
       "    <tr>\n",
       "      <th>0</th>\n",
       "      <td>1.794966</td>\n",
       "      <td>1.921726</td>\n",
       "      <td>1.606039</td>\n",
       "      <td>1.671605</td>\n",
       "      <td>1.790109</td>\n",
       "      <td>1.676462</td>\n",
       "      <td>1.519589</td>\n",
       "      <td>1.080543</td>\n",
       "      <td>0.661408</td>\n",
       "    </tr>\n",
       "    <tr>\n",
       "      <th>1</th>\n",
       "      <td>0.426827</td>\n",
       "      <td>0.478310</td>\n",
       "      <td>0.674520</td>\n",
       "      <td>0.942126</td>\n",
       "      <td>0.538533</td>\n",
       "      <td>0.026148</td>\n",
       "      <td>-0.142865</td>\n",
       "      <td>-0.227373</td>\n",
       "      <td>-0.233201</td>\n",
       "    </tr>\n",
       "    <tr>\n",
       "      <th>2</th>\n",
       "      <td>-0.180263</td>\n",
       "      <td>-0.183661</td>\n",
       "      <td>-0.355590</td>\n",
       "      <td>-0.409014</td>\n",
       "      <td>-0.284682</td>\n",
       "      <td>-0.287110</td>\n",
       "      <td>-0.149179</td>\n",
       "      <td>-0.077299</td>\n",
       "      <td>-0.268654</td>\n",
       "    </tr>\n",
       "    <tr>\n",
       "      <th>3</th>\n",
       "      <td>0.180107</td>\n",
       "      <td>0.391859</td>\n",
       "      <td>0.737659</td>\n",
       "      <td>1.002835</td>\n",
       "      <td>1.200018</td>\n",
       "      <td>0.030520</td>\n",
       "      <td>-0.009791</td>\n",
       "      <td>0.070830</td>\n",
       "      <td>-0.361904</td>\n",
       "    </tr>\n",
       "    <tr>\n",
       "      <th>4</th>\n",
       "      <td>-0.046703</td>\n",
       "      <td>0.016435</td>\n",
       "      <td>0.275784</td>\n",
       "      <td>0.214104</td>\n",
       "      <td>0.396716</td>\n",
       "      <td>0.802252</td>\n",
       "      <td>0.797395</td>\n",
       "      <td>0.980008</td>\n",
       "      <td>1.003321</td>\n",
       "    </tr>\n",
       "    <tr>\n",
       "      <th>5</th>\n",
       "      <td>1.219444</td>\n",
       "      <td>1.253442</td>\n",
       "      <td>0.908128</td>\n",
       "      <td>1.067915</td>\n",
       "      <td>1.200989</td>\n",
       "      <td>1.092199</td>\n",
       "      <td>1.216531</td>\n",
       "      <td>1.015463</td>\n",
       "      <td>0.932898</td>\n",
       "    </tr>\n",
       "    <tr>\n",
       "      <th>6</th>\n",
       "      <td>0.563303</td>\n",
       "      <td>0.692005</td>\n",
       "      <td>0.707061</td>\n",
       "      <td>0.788654</td>\n",
       "      <td>0.114541</td>\n",
       "      <td>-0.148693</td>\n",
       "      <td>-0.009305</td>\n",
       "      <td>0.378746</td>\n",
       "      <td>0.376803</td>\n",
       "    </tr>\n",
       "  </tbody>\n",
       "</table>\n",
       "</div>"
      ],
      "text/plain": [
       "          0         1         2         3         4         5         6  \\\n",
       "0  1.794966  1.921726  1.606039  1.671605  1.790109  1.676462  1.519589   \n",
       "1  0.426827  0.478310  0.674520  0.942126  0.538533  0.026148 -0.142865   \n",
       "2 -0.180263 -0.183661 -0.355590 -0.409014 -0.284682 -0.287110 -0.149179   \n",
       "3  0.180107  0.391859  0.737659  1.002835  1.200018  0.030520 -0.009791   \n",
       "4 -0.046703  0.016435  0.275784  0.214104  0.396716  0.802252  0.797395   \n",
       "5  1.219444  1.253442  0.908128  1.067915  1.200989  1.092199  1.216531   \n",
       "6  0.563303  0.692005  0.707061  0.788654  0.114541 -0.148693 -0.009305   \n",
       "\n",
       "          7         8  \n",
       "0  1.080543  0.661408  \n",
       "1 -0.227373 -0.233201  \n",
       "2 -0.077299 -0.268654  \n",
       "3  0.070830 -0.361904  \n",
       "4  0.980008  1.003321  \n",
       "5  1.015463  0.932898  \n",
       "6  0.378746  0.376803  "
      ]
     },
     "execution_count": 37,
     "metadata": {},
     "output_type": "execute_result"
    }
   ],
   "source": [
    "# The first 9 columns (from 0 to 8) are inputs\n",
    "\n",
    "train_inputs = train[:,:9]\n",
    "\n",
    "\n",
    "pd.DataFrame(train_inputs, columns=np.arange(0,9,1))"
   ]
  },
  {
   "cell_type": "markdown",
   "id": "334e3d66-16a9-4d76-882e-ad8175ab7389",
   "metadata": {},
   "source": [
    "## Add one more dimension to make it ready for RNNs"
   ]
  },
  {
   "cell_type": "markdown",
   "id": "5c7dd179-3c25-495d-a602-b21360041e0b",
   "metadata": {},
   "source": [
    "See here for more details: https://keras.io/layers/recurrent/, and https://shiva-verma.medium.com/understanding-input-and-output-shape-in-lstm-keras-c501ee95c65e\n"
   ]
  },
  {
   "cell_type": "code",
   "execution_count": 38,
   "id": "c0b0bc0a-1d8e-4bfc-bdc8-9c01042ed37d",
   "metadata": {},
   "outputs": [
    {
     "data": {
      "text/plain": [
       "array([[ 1.79496607,  1.92172574,  1.60603893,  1.67160494,  1.79010906,\n",
       "         1.676462  ,  1.51958941,  1.08054297,  0.66140778],\n",
       "       [ 0.42682737,  0.47830997,  0.67452039,  0.94212611,  0.53853281,\n",
       "         0.02614796, -0.14286498, -0.22737293, -0.23320075],\n",
       "       [-0.18026264, -0.18366123, -0.35558956, -0.40901377, -0.28468183,\n",
       "        -0.28710961, -0.14917895, -0.07729896, -0.26865383],\n",
       "       [ 0.18010662,  0.39185889,  0.73765863,  1.00283511,  1.20001785,\n",
       "         0.03052027, -0.00979133,  0.07083042, -0.36190354],\n",
       "       [-0.04670284,  0.0164354 ,  0.27578406,  0.21410425,  0.3967159 ,\n",
       "         0.80225238,  0.79739532,  0.98000848,  1.00332127],\n",
       "       [ 1.21944444,  1.25344207,  0.90812849,  1.06791502,  1.20098866,\n",
       "         1.09219862,  1.21653051,  1.01546307,  0.93289824],\n",
       "       [ 0.56330257,  0.69200536,  0.70706105,  0.78865361,  0.11454061,\n",
       "        -0.1486928 , -0.00930517,  0.37874628,  0.37680321]])"
      ]
     },
     "execution_count": 38,
     "metadata": {},
     "output_type": "execute_result"
    }
   ],
   "source": [
    "train_inputs"
   ]
  },
  {
   "cell_type": "code",
   "execution_count": 39,
   "id": "72760d4e-b5af-42aa-b3a2-31d544a3c32b",
   "metadata": {},
   "outputs": [
    {
     "data": {
      "text/plain": [
       "(7, 9)"
      ]
     },
     "execution_count": 39,
     "metadata": {},
     "output_type": "execute_result"
    }
   ],
   "source": [
    "train_inputs.shape "
   ]
  },
  {
   "cell_type": "code",
   "execution_count": 40,
   "id": "66720b4c-7386-4381-a648-f577b7cc3dfc",
   "metadata": {},
   "outputs": [
    {
     "data": {
      "text/plain": [
       "(7, 9, 1)"
      ]
     },
     "execution_count": 40,
     "metadata": {},
     "output_type": "execute_result"
    }
   ],
   "source": [
    "#Create an additional dimension for train\n",
    "\n",
    "train_x = train_inputs[:,:,np.newaxis]\n",
    "\n",
    "train_x.shape "
   ]
  },
  {
   "cell_type": "code",
   "execution_count": 41,
   "id": "eaf0fa0a-9db5-42c3-b79d-7f5fa74d5aca",
   "metadata": {},
   "outputs": [
    {
     "data": {
      "text/plain": [
       "array([[[ 1.79496607],\n",
       "        [ 1.92172574],\n",
       "        [ 1.60603893],\n",
       "        [ 1.67160494],\n",
       "        [ 1.79010906],\n",
       "        [ 1.676462  ],\n",
       "        [ 1.51958941],\n",
       "        [ 1.08054297],\n",
       "        [ 0.66140778]],\n",
       "\n",
       "       [[ 0.42682737],\n",
       "        [ 0.47830997],\n",
       "        [ 0.67452039],\n",
       "        [ 0.94212611],\n",
       "        [ 0.53853281],\n",
       "        [ 0.02614796],\n",
       "        [-0.14286498],\n",
       "        [-0.22737293],\n",
       "        [-0.23320075]],\n",
       "\n",
       "       [[-0.18026264],\n",
       "        [-0.18366123],\n",
       "        [-0.35558956],\n",
       "        [-0.40901377],\n",
       "        [-0.28468183],\n",
       "        [-0.28710961],\n",
       "        [-0.14917895],\n",
       "        [-0.07729896],\n",
       "        [-0.26865383]],\n",
       "\n",
       "       [[ 0.18010662],\n",
       "        [ 0.39185889],\n",
       "        [ 0.73765863],\n",
       "        [ 1.00283511],\n",
       "        [ 1.20001785],\n",
       "        [ 0.03052027],\n",
       "        [-0.00979133],\n",
       "        [ 0.07083042],\n",
       "        [-0.36190354]],\n",
       "\n",
       "       [[-0.04670284],\n",
       "        [ 0.0164354 ],\n",
       "        [ 0.27578406],\n",
       "        [ 0.21410425],\n",
       "        [ 0.3967159 ],\n",
       "        [ 0.80225238],\n",
       "        [ 0.79739532],\n",
       "        [ 0.98000848],\n",
       "        [ 1.00332127]],\n",
       "\n",
       "       [[ 1.21944444],\n",
       "        [ 1.25344207],\n",
       "        [ 0.90812849],\n",
       "        [ 1.06791502],\n",
       "        [ 1.20098866],\n",
       "        [ 1.09219862],\n",
       "        [ 1.21653051],\n",
       "        [ 1.01546307],\n",
       "        [ 0.93289824]],\n",
       "\n",
       "       [[ 0.56330257],\n",
       "        [ 0.69200536],\n",
       "        [ 0.70706105],\n",
       "        [ 0.78865361],\n",
       "        [ 0.11454061],\n",
       "        [-0.1486928 ],\n",
       "        [-0.00930517],\n",
       "        [ 0.37874628],\n",
       "        [ 0.37680321]]])"
      ]
     },
     "execution_count": 41,
     "metadata": {},
     "output_type": "execute_result"
    }
   ],
   "source": [
    "train_x"
   ]
  },
  {
   "cell_type": "markdown",
   "id": "f05d6c3a-78db-4f8c-ad64-6f26a282dac3",
   "metadata": {},
   "source": [
    "## Set the target"
   ]
  },
  {
   "cell_type": "code",
   "execution_count": 42,
   "id": "37bd8c93-3bcd-4d44-8890-5c7e4abf1fcd",
   "metadata": {},
   "outputs": [
    {
     "data": {
      "text/html": [
       "<div>\n",
       "<style scoped>\n",
       "    .dataframe tbody tr th:only-of-type {\n",
       "        vertical-align: middle;\n",
       "    }\n",
       "\n",
       "    .dataframe tbody tr th {\n",
       "        vertical-align: top;\n",
       "    }\n",
       "\n",
       "    .dataframe thead th {\n",
       "        text-align: right;\n",
       "    }\n",
       "</style>\n",
       "<table border=\"1\" class=\"dataframe\">\n",
       "  <thead>\n",
       "    <tr style=\"text-align: right;\">\n",
       "      <th></th>\n",
       "      <th>9</th>\n",
       "    </tr>\n",
       "  </thead>\n",
       "  <tbody>\n",
       "    <tr>\n",
       "      <th>0</th>\n",
       "      <td>0.516192</td>\n",
       "    </tr>\n",
       "    <tr>\n",
       "      <th>1</th>\n",
       "      <td>0.042176</td>\n",
       "    </tr>\n",
       "    <tr>\n",
       "      <th>2</th>\n",
       "      <td>-0.058845</td>\n",
       "    </tr>\n",
       "    <tr>\n",
       "      <th>3</th>\n",
       "      <td>-0.007362</td>\n",
       "    </tr>\n",
       "    <tr>\n",
       "      <th>4</th>\n",
       "      <td>1.044602</td>\n",
       "    </tr>\n",
       "    <tr>\n",
       "      <th>5</th>\n",
       "      <td>0.574472</td>\n",
       "    </tr>\n",
       "    <tr>\n",
       "      <th>6</th>\n",
       "      <td>-0.155979</td>\n",
       "    </tr>\n",
       "  </tbody>\n",
       "</table>\n",
       "</div>"
      ],
      "text/plain": [
       "          9\n",
       "0  0.516192\n",
       "1  0.042176\n",
       "2 -0.058845\n",
       "3 -0.007362\n",
       "4  1.044602\n",
       "5  0.574472\n",
       "6 -0.155979"
      ]
     },
     "execution_count": 42,
     "metadata": {},
     "output_type": "execute_result"
    }
   ],
   "source": [
    "# The last column  is TARGET\n",
    "\n",
    "train_target = train[:,-1]\n",
    "\n",
    "\n",
    "pd.DataFrame(train_target, columns=['9'])"
   ]
  },
  {
   "cell_type": "markdown",
   "id": "1d0570be-6ff3-46af-94f3-8fd231e3145c",
   "metadata": {},
   "source": [
    "## Repeat for TEST"
   ]
  },
  {
   "cell_type": "code",
   "execution_count": 43,
   "id": "064b4f4e-08ca-44a3-a521-b9df38da8244",
   "metadata": {},
   "outputs": [
    {
     "data": {
      "text/plain": [
       "(3, 10)"
      ]
     },
     "execution_count": 43,
     "metadata": {},
     "output_type": "execute_result"
    }
   ],
   "source": [
    "test.shape"
   ]
  },
  {
   "cell_type": "code",
   "execution_count": 44,
   "id": "5bc0c2e9-2f7f-4aac-93f4-1c9699db917a",
   "metadata": {},
   "outputs": [],
   "source": [
    "# The first 23 columns (from 0 to 22) are inputs\n",
    "\n",
    "test_inputs = test[:,:9]"
   ]
  },
  {
   "cell_type": "code",
   "execution_count": 45,
   "id": "60c74d50-cabf-4adf-a9ec-4bb4f21e7de1",
   "metadata": {},
   "outputs": [
    {
     "data": {
      "text/plain": [
       "(3, 9, 1)"
      ]
     },
     "execution_count": 45,
     "metadata": {},
     "output_type": "execute_result"
    }
   ],
   "source": [
    "#Create an additional dimension for test\n",
    "\n",
    "test_x = test_inputs[:,:,np.newaxis]\n",
    "\n",
    "test_x.shape "
   ]
  },
  {
   "cell_type": "code",
   "execution_count": 46,
   "id": "85ad54f0-5287-44ba-a0f9-2f0e36b7cc13",
   "metadata": {},
   "outputs": [
    {
     "data": {
      "text/html": [
       "<div>\n",
       "<style scoped>\n",
       "    .dataframe tbody tr th:only-of-type {\n",
       "        vertical-align: middle;\n",
       "    }\n",
       "\n",
       "    .dataframe tbody tr th {\n",
       "        vertical-align: top;\n",
       "    }\n",
       "\n",
       "    .dataframe thead th {\n",
       "        text-align: right;\n",
       "    }\n",
       "</style>\n",
       "<table border=\"1\" class=\"dataframe\">\n",
       "  <thead>\n",
       "    <tr style=\"text-align: right;\">\n",
       "      <th></th>\n",
       "      <th>9</th>\n",
       "    </tr>\n",
       "  </thead>\n",
       "  <tbody>\n",
       "    <tr>\n",
       "      <th>0</th>\n",
       "      <td>-1.554714</td>\n",
       "    </tr>\n",
       "    <tr>\n",
       "      <th>1</th>\n",
       "      <td>-1.293908</td>\n",
       "    </tr>\n",
       "    <tr>\n",
       "      <th>2</th>\n",
       "      <td>-0.602310</td>\n",
       "    </tr>\n",
       "  </tbody>\n",
       "</table>\n",
       "</div>"
      ],
      "text/plain": [
       "          9\n",
       "0 -1.554714\n",
       "1 -1.293908\n",
       "2 -0.602310"
      ]
     },
     "execution_count": 46,
     "metadata": {},
     "output_type": "execute_result"
    }
   ],
   "source": [
    "# The last column (23) is TARGET\n",
    "\n",
    "test_target = test[:,-1]\n",
    "\n",
    "\n",
    "pd.DataFrame(test_target, columns=['9'])"
   ]
  },
  {
   "cell_type": "markdown",
   "id": "16a98262-0b4b-418f-901a-0609a9a5deec",
   "metadata": {
    "jp-MarkdownHeadingCollapsed": true,
    "tags": []
   },
   "source": [
    "# A normal (cross-sectional) NN\n",
    "\n",
    "This model assumes that the data is NOT a time-series data set. It treats the data as cross-sectional and the columns being independent of each other."
   ]
  },
  {
   "cell_type": "code",
   "execution_count": 47,
   "id": "a687d3a8-7a51-40f0-8f8e-ff30a355b8d3",
   "metadata": {},
   "outputs": [
    {
     "name": "stdout",
     "output_type": "stream",
     "text": [
      "Epoch 1/100\n",
      "1/1 [==============================] - 1s 590ms/step - loss: 0.3277\n",
      "Epoch 2/100\n",
      "1/1 [==============================] - 0s 5ms/step - loss: 0.3225\n",
      "Epoch 3/100\n",
      "1/1 [==============================] - 0s 6ms/step - loss: 0.3174\n",
      "Epoch 4/100\n",
      "1/1 [==============================] - 0s 6ms/step - loss: 0.3123\n",
      "Epoch 5/100\n",
      "1/1 [==============================] - 0s 5ms/step - loss: 0.3073\n",
      "Epoch 6/100\n",
      "1/1 [==============================] - 0s 6ms/step - loss: 0.3023\n",
      "Epoch 7/100\n",
      "1/1 [==============================] - 0s 5ms/step - loss: 0.2974\n",
      "Epoch 8/100\n",
      "1/1 [==============================] - 0s 8ms/step - loss: 0.2926\n",
      "Epoch 9/100\n",
      "1/1 [==============================] - 0s 5ms/step - loss: 0.2878\n",
      "Epoch 10/100\n",
      "1/1 [==============================] - 0s 6ms/step - loss: 0.2831\n",
      "Epoch 11/100\n",
      "1/1 [==============================] - 0s 6ms/step - loss: 0.2784\n",
      "Epoch 12/100\n",
      "1/1 [==============================] - 0s 5ms/step - loss: 0.2738\n",
      "Epoch 13/100\n",
      "1/1 [==============================] - 0s 6ms/step - loss: 0.2693\n",
      "Epoch 14/100\n",
      "1/1 [==============================] - 0s 5ms/step - loss: 0.2648\n",
      "Epoch 15/100\n",
      "1/1 [==============================] - 0s 6ms/step - loss: 0.2604\n",
      "Epoch 16/100\n",
      "1/1 [==============================] - 0s 5ms/step - loss: 0.2560\n",
      "Epoch 17/100\n",
      "1/1 [==============================] - 0s 5ms/step - loss: 0.2517\n",
      "Epoch 18/100\n",
      "1/1 [==============================] - 0s 5ms/step - loss: 0.2475\n",
      "Epoch 19/100\n",
      "1/1 [==============================] - 0s 5ms/step - loss: 0.2433\n",
      "Epoch 20/100\n",
      "1/1 [==============================] - 0s 5ms/step - loss: 0.2391\n",
      "Epoch 21/100\n",
      "1/1 [==============================] - 0s 6ms/step - loss: 0.2351\n",
      "Epoch 22/100\n",
      "1/1 [==============================] - 0s 4ms/step - loss: 0.2310\n",
      "Epoch 23/100\n",
      "1/1 [==============================] - 0s 6ms/step - loss: 0.2271\n",
      "Epoch 24/100\n",
      "1/1 [==============================] - 0s 5ms/step - loss: 0.2232\n",
      "Epoch 25/100\n",
      "1/1 [==============================] - 0s 6ms/step - loss: 0.2193\n",
      "Epoch 26/100\n",
      "1/1 [==============================] - 0s 6ms/step - loss: 0.2155\n",
      "Epoch 27/100\n",
      "1/1 [==============================] - 0s 5ms/step - loss: 0.2118\n",
      "Epoch 28/100\n",
      "1/1 [==============================] - 0s 6ms/step - loss: 0.2081\n",
      "Epoch 29/100\n",
      "1/1 [==============================] - 0s 5ms/step - loss: 0.2044\n",
      "Epoch 30/100\n",
      "1/1 [==============================] - 0s 5ms/step - loss: 0.2017\n",
      "Epoch 31/100\n",
      "1/1 [==============================] - 0s 5ms/step - loss: 0.1990\n",
      "Epoch 32/100\n",
      "1/1 [==============================] - 0s 6ms/step - loss: 0.1964\n",
      "Epoch 33/100\n",
      "1/1 [==============================] - 0s 5ms/step - loss: 0.1937\n",
      "Epoch 34/100\n",
      "1/1 [==============================] - 0s 6ms/step - loss: 0.1911\n",
      "Epoch 35/100\n",
      "1/1 [==============================] - 0s 6ms/step - loss: 0.1886\n",
      "Epoch 36/100\n",
      "1/1 [==============================] - 0s 5ms/step - loss: 0.1861\n",
      "Epoch 37/100\n",
      "1/1 [==============================] - 0s 5ms/step - loss: 0.1838\n",
      "Epoch 38/100\n",
      "1/1 [==============================] - 0s 5ms/step - loss: 0.1815\n",
      "Epoch 39/100\n",
      "1/1 [==============================] - 0s 7ms/step - loss: 0.1793\n",
      "Epoch 40/100\n",
      "1/1 [==============================] - 0s 7ms/step - loss: 0.1771\n",
      "Epoch 41/100\n",
      "1/1 [==============================] - 0s 5ms/step - loss: 0.1749\n",
      "Epoch 42/100\n",
      "1/1 [==============================] - 0s 6ms/step - loss: 0.1728\n",
      "Epoch 43/100\n",
      "1/1 [==============================] - 0s 5ms/step - loss: 0.1706\n",
      "Epoch 44/100\n",
      "1/1 [==============================] - 0s 5ms/step - loss: 0.1686\n",
      "Epoch 45/100\n",
      "1/1 [==============================] - 0s 6ms/step - loss: 0.1665\n",
      "Epoch 46/100\n",
      "1/1 [==============================] - 0s 5ms/step - loss: 0.1645\n",
      "Epoch 47/100\n",
      "1/1 [==============================] - 0s 5ms/step - loss: 0.1625\n",
      "Epoch 48/100\n",
      "1/1 [==============================] - 0s 5ms/step - loss: 0.1605\n",
      "Epoch 49/100\n",
      "1/1 [==============================] - 0s 5ms/step - loss: 0.1586\n",
      "Epoch 50/100\n",
      "1/1 [==============================] - 0s 4ms/step - loss: 0.1566\n",
      "Epoch 51/100\n",
      "1/1 [==============================] - 0s 6ms/step - loss: 0.1547\n",
      "Epoch 52/100\n",
      "1/1 [==============================] - 0s 6ms/step - loss: 0.1527\n",
      "Epoch 53/100\n",
      "1/1 [==============================] - 0s 5ms/step - loss: 0.1509\n",
      "Epoch 54/100\n",
      "1/1 [==============================] - 0s 5ms/step - loss: 0.1489\n",
      "Epoch 55/100\n",
      "1/1 [==============================] - 0s 5ms/step - loss: 0.1469\n",
      "Epoch 56/100\n",
      "1/1 [==============================] - 0s 5ms/step - loss: 0.1449\n",
      "Epoch 57/100\n",
      "1/1 [==============================] - 0s 5ms/step - loss: 0.1429\n",
      "Epoch 58/100\n",
      "1/1 [==============================] - 0s 5ms/step - loss: 0.1409\n",
      "Epoch 59/100\n",
      "1/1 [==============================] - 0s 4ms/step - loss: 0.1389\n",
      "Epoch 60/100\n",
      "1/1 [==============================] - 0s 5ms/step - loss: 0.1369\n",
      "Epoch 61/100\n",
      "1/1 [==============================] - 0s 5ms/step - loss: 0.1349\n",
      "Epoch 62/100\n",
      "1/1 [==============================] - 0s 4ms/step - loss: 0.1329\n",
      "Epoch 63/100\n",
      "1/1 [==============================] - 0s 10ms/step - loss: 0.1310\n",
      "Epoch 64/100\n",
      "1/1 [==============================] - 0s 5ms/step - loss: 0.1291\n",
      "Epoch 65/100\n",
      "1/1 [==============================] - 0s 5ms/step - loss: 0.1272\n",
      "Epoch 66/100\n",
      "1/1 [==============================] - 0s 5ms/step - loss: 0.1254\n",
      "Epoch 67/100\n",
      "1/1 [==============================] - 0s 5ms/step - loss: 0.1236\n",
      "Epoch 68/100\n",
      "1/1 [==============================] - 0s 5ms/step - loss: 0.1219\n",
      "Epoch 69/100\n",
      "1/1 [==============================] - 0s 4ms/step - loss: 0.1201\n",
      "Epoch 70/100\n",
      "1/1 [==============================] - 0s 5ms/step - loss: 0.1184\n",
      "Epoch 71/100\n",
      "1/1 [==============================] - 0s 4ms/step - loss: 0.1167\n",
      "Epoch 72/100\n",
      "1/1 [==============================] - 0s 5ms/step - loss: 0.1150\n",
      "Epoch 73/100\n",
      "1/1 [==============================] - 0s 6ms/step - loss: 0.1133\n",
      "Epoch 74/100\n",
      "1/1 [==============================] - 0s 5ms/step - loss: 0.1117\n",
      "Epoch 75/100\n",
      "1/1 [==============================] - 0s 5ms/step - loss: 0.1100\n",
      "Epoch 76/100\n",
      "1/1 [==============================] - 0s 5ms/step - loss: 0.1084\n",
      "Epoch 77/100\n",
      "1/1 [==============================] - 0s 4ms/step - loss: 0.1068\n",
      "Epoch 78/100\n",
      "1/1 [==============================] - 0s 5ms/step - loss: 0.1052\n",
      "Epoch 79/100\n",
      "1/1 [==============================] - 0s 5ms/step - loss: 0.1036\n",
      "Epoch 80/100\n",
      "1/1 [==============================] - 0s 5ms/step - loss: 0.1021\n",
      "Epoch 81/100\n",
      "1/1 [==============================] - 0s 5ms/step - loss: 0.1005\n",
      "Epoch 82/100\n",
      "1/1 [==============================] - 0s 5ms/step - loss: 0.0990\n",
      "Epoch 83/100\n",
      "1/1 [==============================] - 0s 5ms/step - loss: 0.0974\n",
      "Epoch 84/100\n",
      "1/1 [==============================] - 0s 5ms/step - loss: 0.0958\n",
      "Epoch 85/100\n",
      "1/1 [==============================] - 0s 5ms/step - loss: 0.0942\n",
      "Epoch 86/100\n",
      "1/1 [==============================] - 0s 5ms/step - loss: 0.0926\n",
      "Epoch 87/100\n",
      "1/1 [==============================] - 0s 9ms/step - loss: 0.0911\n",
      "Epoch 88/100\n",
      "1/1 [==============================] - 0s 5ms/step - loss: 0.0896\n",
      "Epoch 89/100\n",
      "1/1 [==============================] - 0s 5ms/step - loss: 0.0880\n",
      "Epoch 90/100\n",
      "1/1 [==============================] - 0s 6ms/step - loss: 0.0865\n",
      "Epoch 91/100\n",
      "1/1 [==============================] - 0s 5ms/step - loss: 0.0851\n",
      "Epoch 92/100\n",
      "1/1 [==============================] - 0s 6ms/step - loss: 0.0836\n",
      "Epoch 93/100\n",
      "1/1 [==============================] - 0s 5ms/step - loss: 0.0822\n",
      "Epoch 94/100\n",
      "1/1 [==============================] - 0s 5ms/step - loss: 0.0808\n",
      "Epoch 95/100\n",
      "1/1 [==============================] - 0s 5ms/step - loss: 0.0794\n",
      "Epoch 96/100\n",
      "1/1 [==============================] - 0s 5ms/step - loss: 0.0780\n",
      "Epoch 97/100\n",
      "1/1 [==============================] - 0s 5ms/step - loss: 0.0766\n",
      "Epoch 98/100\n",
      "1/1 [==============================] - 0s 5ms/step - loss: 0.0753\n",
      "Epoch 99/100\n",
      "1/1 [==============================] - 0s 6ms/step - loss: 0.0740\n",
      "Epoch 100/100\n",
      "1/1 [==============================] - 0s 5ms/step - loss: 0.0727\n"
     ]
    }
   ],
   "source": [
    "model = keras.models.Sequential([\n",
    "    keras.layers.Flatten(input_shape=[9, 1]),\n",
    "    keras.layers.Dense(9, activation='relu'),\n",
    "    keras.layers.Dense(1, activation=None)\n",
    "    \n",
    "])\n",
    "\n",
    "model.compile(loss=\"mse\", optimizer='Adam')\n",
    "\n",
    "history = model.fit(train_x, train_target, epochs=100)"
   ]
  },
  {
   "cell_type": "markdown",
   "id": "70f69e2b-a4e3-41e4-bcd4-835a544a1715",
   "metadata": {},
   "source": [
    "### Predictions"
   ]
  },
  {
   "cell_type": "code",
   "execution_count": 48,
   "id": "50471f41-9465-4694-9908-230f79adc904",
   "metadata": {},
   "outputs": [
    {
     "name": "stdout",
     "output_type": "stream",
     "text": [
      "1/1 [==============================] - 0s 97ms/step\n"
     ]
    }
   ],
   "source": [
    "#Predict:\n",
    "y_pred = model.predict(test_x)"
   ]
  },
  {
   "cell_type": "code",
   "execution_count": 49,
   "id": "26d25fde-462b-4a69-929d-a4ccf4c11b5b",
   "metadata": {},
   "outputs": [],
   "source": [
    "# Remember, these are standardized values. \n",
    "\n",
    "comparison = pd.DataFrame()\n",
    "\n",
    "comparison['actual'] = scaler.inverse_transform([test_target]).flatten()\n",
    "comparison['predicted'] = scaler.inverse_transform(y_pred).flatten()"
   ]
  },
  {
   "cell_type": "code",
   "execution_count": 50,
   "id": "ee3cc6ac-ef53-457c-b6c7-6ab39774e641",
   "metadata": {},
   "outputs": [
    {
     "data": {
      "text/html": [
       "<div>\n",
       "<style scoped>\n",
       "    .dataframe tbody tr th:only-of-type {\n",
       "        vertical-align: middle;\n",
       "    }\n",
       "\n",
       "    .dataframe tbody tr th {\n",
       "        vertical-align: top;\n",
       "    }\n",
       "\n",
       "    .dataframe thead th {\n",
       "        text-align: right;\n",
       "    }\n",
       "</style>\n",
       "<table border=\"1\" class=\"dataframe\">\n",
       "  <thead>\n",
       "    <tr style=\"text-align: right;\">\n",
       "      <th></th>\n",
       "      <th>actual</th>\n",
       "      <th>predicted</th>\n",
       "    </tr>\n",
       "  </thead>\n",
       "  <tbody>\n",
       "    <tr>\n",
       "      <th>0</th>\n",
       "      <td>317.279999</td>\n",
       "      <td>345.457062</td>\n",
       "    </tr>\n",
       "    <tr>\n",
       "      <th>1</th>\n",
       "      <td>322.649994</td>\n",
       "      <td>335.934052</td>\n",
       "    </tr>\n",
       "    <tr>\n",
       "      <th>2</th>\n",
       "      <td>336.890015</td>\n",
       "      <td>339.797577</td>\n",
       "    </tr>\n",
       "  </tbody>\n",
       "</table>\n",
       "</div>"
      ],
      "text/plain": [
       "       actual   predicted\n",
       "0  317.279999  345.457062\n",
       "1  322.649994  335.934052\n",
       "2  336.890015  339.797577"
      ]
     },
     "execution_count": 50,
     "metadata": {},
     "output_type": "execute_result"
    }
   ],
   "source": [
    "comparison"
   ]
  },
  {
   "cell_type": "code",
   "execution_count": 51,
   "id": "59508897-819a-412b-8dce-28179edfdf9a",
   "metadata": {},
   "outputs": [
    {
     "data": {
      "text/plain": [
       "326.2889888206333"
      ]
     },
     "execution_count": 51,
     "metadata": {},
     "output_type": "execute_result"
    }
   ],
   "source": [
    "mean_squared_error(comparison['actual'], comparison['predicted'])"
   ]
  },
  {
   "cell_type": "code",
   "execution_count": 52,
   "id": "1b5b6a83-a699-4a4e-9b81-dcc7e63a074f",
   "metadata": {},
   "outputs": [
    {
     "data": {
      "image/png": "[encoded data removed]",
      "text/plain": [
       "<Figure size 640x480 with 1 Axes>"
      ]
     },
     "metadata": {},
     "output_type": "display_data"
    }
   ],
   "source": [
    "plt.plot(comparison['actual'], label = 'actual')\n",
    "plt.plot(comparison['predicted'], label = 'predicted')\n",
    "\n",
    "plt.legend()\n",
    "\n",
    "plt.show()"
   ]
  },
  {
   "cell_type": "markdown",
   "id": "1b35c22d-e415-4697-a3b7-7b566d135575",
   "metadata": {},
   "source": [
    "# Simple RNN\n",
    "\n",
    "Simplest recurrent neural network"
   ]
  },
  {
   "cell_type": "code",
   "execution_count": 55,
   "id": "d6558da3-4c34-4cba-b339-5b3ec779ea4f",
   "metadata": {},
   "outputs": [],
   "source": [
    "model = keras.models.Sequential([\n",
    "    keras.layers.SimpleRNN(32, activation='relu', input_shape=[9, 1]),\n",
    "    keras.layers.Dense(1, activation=None)\n",
    "])"
   ]
  },
  {
   "cell_type": "code",
   "execution_count": 56,
   "id": "55db2b9f-84ec-41ea-9f5a-75639750bfa1",
   "metadata": {
    "scrolled": true
   },
   "outputs": [
    {
     "name": "stdout",
     "output_type": "stream",
     "text": [
      "Epoch 1/30\n",
      "1/1 [==============================] - 1s 925ms/step - loss: 0.3013\n",
      "Epoch 2/30\n",
      "1/1 [==============================] - 0s 5ms/step - loss: 0.2863\n",
      "Epoch 3/30\n",
      "1/1 [==============================] - 0s 5ms/step - loss: 0.2714\n",
      "Epoch 4/30\n",
      "1/1 [==============================] - 0s 5ms/step - loss: 0.2565\n",
      "Epoch 5/30\n",
      "1/1 [==============================] - 0s 6ms/step - loss: 0.2426\n",
      "Epoch 6/30\n",
      "1/1 [==============================] - 0s 5ms/step - loss: 0.2296\n",
      "Epoch 7/30\n",
      "1/1 [==============================] - 0s 9ms/step - loss: 0.2171\n",
      "Epoch 8/30\n",
      "1/1 [==============================] - 0s 6ms/step - loss: 0.2050\n",
      "Epoch 9/30\n",
      "1/1 [==============================] - 0s 6ms/step - loss: 0.1936\n",
      "Epoch 10/30\n",
      "1/1 [==============================] - 0s 6ms/step - loss: 0.1826\n",
      "Epoch 11/30\n",
      "1/1 [==============================] - 0s 8ms/step - loss: 0.1717\n",
      "Epoch 12/30\n",
      "1/1 [==============================] - 0s 6ms/step - loss: 0.1612\n",
      "Epoch 13/30\n",
      "1/1 [==============================] - 0s 6ms/step - loss: 0.1510\n",
      "Epoch 14/30\n",
      "1/1 [==============================] - 0s 9ms/step - loss: 0.1420\n",
      "Epoch 15/30\n",
      "1/1 [==============================] - 0s 6ms/step - loss: 0.1333\n",
      "Epoch 16/30\n",
      "1/1 [==============================] - 0s 8ms/step - loss: 0.1252\n",
      "Epoch 17/30\n",
      "1/1 [==============================] - 0s 6ms/step - loss: 0.1179\n",
      "Epoch 18/30\n",
      "1/1 [==============================] - 0s 9ms/step - loss: 0.1109\n",
      "Epoch 19/30\n",
      "1/1 [==============================] - 0s 7ms/step - loss: 0.1039\n",
      "Epoch 20/30\n",
      "1/1 [==============================] - 0s 7ms/step - loss: 0.0975\n",
      "Epoch 21/30\n",
      "1/1 [==============================] - 0s 8ms/step - loss: 0.0915\n",
      "Epoch 22/30\n",
      "1/1 [==============================] - 0s 5ms/step - loss: 0.0860\n",
      "Epoch 23/30\n",
      "1/1 [==============================] - 0s 8ms/step - loss: 0.0810\n",
      "Epoch 24/30\n",
      "1/1 [==============================] - 0s 6ms/step - loss: 0.0766\n",
      "Epoch 25/30\n",
      "1/1 [==============================] - 0s 9ms/step - loss: 0.0726\n",
      "Epoch 26/30\n",
      "1/1 [==============================] - 0s 7ms/step - loss: 0.0689\n",
      "Epoch 27/30\n",
      "1/1 [==============================] - 0s 7ms/step - loss: 0.0656\n",
      "Epoch 28/30\n",
      "1/1 [==============================] - 0s 7ms/step - loss: 0.0627\n",
      "Epoch 29/30\n",
      "1/1 [==============================] - 0s 7ms/step - loss: 0.0603\n",
      "Epoch 30/30\n",
      "1/1 [==============================] - 0s 8ms/step - loss: 0.0583\n"
     ]
    }
   ],
   "source": [
    "np.random.seed(42)\n",
    "tf.random.set_seed(42)\n",
    "\n",
    "model.compile(loss=\"mse\", optimizer='Adam')\n",
    "\n",
    "history = model.fit(train_x, train_target, epochs=30)"
   ]
  },
  {
   "cell_type": "markdown",
   "id": "70db5dd6-9f42-4430-b2d2-0fedf31e4c16",
   "metadata": {},
   "source": [
    "### Predictions"
   ]
  },
  {
   "cell_type": "code",
   "execution_count": 57,
   "id": "81446e3e-e0af-401c-aee9-24ee181727c5",
   "metadata": {},
   "outputs": [
    {
     "name": "stdout",
     "output_type": "stream",
     "text": [
      "1/1 [==============================] - 0s 158ms/step\n"
     ]
    }
   ],
   "source": [
    "#Predict:\n",
    "y_pred = model.predict(test_x)"
   ]
  },
  {
   "cell_type": "code",
   "execution_count": 58,
   "id": "791ab6c3-8928-4e6b-bca6-d6e211852bc6",
   "metadata": {},
   "outputs": [],
   "source": [
    "#Remember, these are standardized values. \n",
    "\n",
    "comparison = pd.DataFrame()\n",
    "\n",
    "comparison['actual'] = scaler.inverse_transform([test_target]).flatten()\n",
    "comparison['predicted'] = scaler.inverse_transform(y_pred).flatten()"
   ]
  },
  {
   "cell_type": "code",
   "execution_count": 59,
   "id": "a1d10990-ebee-448a-9157-ca3d0ad11a44",
   "metadata": {},
   "outputs": [
    {
     "data": {
      "text/html": [
       "<div>\n",
       "<style scoped>\n",
       "    .dataframe tbody tr th:only-of-type {\n",
       "        vertical-align: middle;\n",
       "    }\n",
       "\n",
       "    .dataframe tbody tr th {\n",
       "        vertical-align: top;\n",
       "    }\n",
       "\n",
       "    .dataframe thead th {\n",
       "        text-align: right;\n",
       "    }\n",
       "</style>\n",
       "<table border=\"1\" class=\"dataframe\">\n",
       "  <thead>\n",
       "    <tr style=\"text-align: right;\">\n",
       "      <th></th>\n",
       "      <th>actual</th>\n",
       "      <th>predicted</th>\n",
       "    </tr>\n",
       "  </thead>\n",
       "  <tbody>\n",
       "    <tr>\n",
       "      <th>0</th>\n",
       "      <td>317.279999</td>\n",
       "      <td>336.124115</td>\n",
       "    </tr>\n",
       "    <tr>\n",
       "      <th>1</th>\n",
       "      <td>322.649994</td>\n",
       "      <td>340.122681</td>\n",
       "    </tr>\n",
       "    <tr>\n",
       "      <th>2</th>\n",
       "      <td>336.890015</td>\n",
       "      <td>344.311829</td>\n",
       "    </tr>\n",
       "  </tbody>\n",
       "</table>\n",
       "</div>"
      ],
      "text/plain": [
       "       actual   predicted\n",
       "0  317.279999  336.124115\n",
       "1  322.649994  340.122681\n",
       "2  336.890015  344.311829"
      ]
     },
     "execution_count": 59,
     "metadata": {},
     "output_type": "execute_result"
    }
   ],
   "source": [
    "comparison"
   ]
  },
  {
   "cell_type": "code",
   "execution_count": 60,
   "id": "5e9c963e-d97f-4660-866a-602e6fd5b4d2",
   "metadata": {},
   "outputs": [
    {
     "data": {
      "text/plain": [
       "238.49293467473413"
      ]
     },
     "execution_count": 60,
     "metadata": {},
     "output_type": "execute_result"
    }
   ],
   "source": [
    "mean_squared_error(comparison['actual'], comparison['predicted'])"
   ]
  },
  {
   "cell_type": "code",
   "execution_count": 61,
   "id": "ce7c8fbc-2706-4906-ad41-b8dad4e10e58",
   "metadata": {},
   "outputs": [
    {
     "data": {
      "image/png": "[encoded data removed]",
      "text/plain": [
       "<Figure size 640x480 with 1 Axes>"
      ]
     },
     "metadata": {},
     "output_type": "display_data"
    }
   ],
   "source": [
    "plt.plot(comparison['actual'], label = 'actual')\n",
    "plt.plot(comparison['predicted'], label = 'predicted')\n",
    "\n",
    "plt.legend()\n",
    "\n",
    "plt.show()"
   ]
  },
  {
   "cell_type": "markdown",
   "id": "0523dc9c-3b1a-43bf-bb34-da6a96aab95a",
   "metadata": {},
   "source": [
    "## Simple RNN with more layers\n",
    "\n",
    "**Be careful: when stacking RNN layers, you have to set \"return_sequences\" to True. This enables the layer to send a \"sequence\" of values to the next layer -- jut like how it uses a sequence of values for training. However, if the output of RNN is sent to a DENSE layer, then a single value should be sent. That's why there is no \"return sequences\" right before DENSE layers.**"
   ]
  },
  {
   "cell_type": "code",
   "execution_count": 62,
   "id": "38e0a556-37ab-49f3-812b-2257fd90d57b",
   "metadata": {},
   "outputs": [],
   "source": [
    "model = keras.models.Sequential([\n",
    "    keras.layers.SimpleRNN(32, activation='relu', return_sequences=True, input_shape=[9, 1]),\n",
    "    keras.layers.SimpleRNN(32, activation='relu', return_sequences=False),\n",
    "    keras.layers.Dense(1, activation=None)\n",
    "])"
   ]
  },
  {
   "cell_type": "code",
   "execution_count": 63,
   "id": "7dc9094f-befb-4151-9300-c160b27705ad",
   "metadata": {
    "scrolled": true
   },
   "outputs": [
    {
     "name": "stdout",
     "output_type": "stream",
     "text": [
      "Epoch 1/30\n",
      "1/1 [==============================] - 2s 2s/step - loss: 0.2442\n",
      "Epoch 2/30\n",
      "1/1 [==============================] - 0s 10ms/step - loss: 0.1642\n",
      "Epoch 3/30\n",
      "1/1 [==============================] - 0s 11ms/step - loss: 0.1099\n",
      "Epoch 4/30\n",
      "1/1 [==============================] - 0s 9ms/step - loss: 0.0784\n",
      "Epoch 5/30\n",
      "1/1 [==============================] - 0s 9ms/step - loss: 0.0630\n",
      "Epoch 6/30\n",
      "1/1 [==============================] - 0s 10ms/step - loss: 0.0589\n",
      "Epoch 7/30\n",
      "1/1 [==============================] - 0s 13ms/step - loss: 0.0617\n",
      "Epoch 8/30\n",
      "1/1 [==============================] - 0s 8ms/step - loss: 0.0661\n",
      "Epoch 9/30\n",
      "1/1 [==============================] - 0s 9ms/step - loss: 0.0652\n",
      "Epoch 10/30\n",
      "1/1 [==============================] - 0s 8ms/step - loss: 0.0588\n",
      "Epoch 11/30\n",
      "1/1 [==============================] - 0s 8ms/step - loss: 0.0493\n",
      "Epoch 12/30\n",
      "1/1 [==============================] - 0s 7ms/step - loss: 0.0396\n",
      "Epoch 13/30\n",
      "1/1 [==============================] - 0s 9ms/step - loss: 0.0323\n",
      "Epoch 14/30\n",
      "1/1 [==============================] - 0s 8ms/step - loss: 0.0268\n",
      "Epoch 15/30\n",
      "1/1 [==============================] - 0s 10ms/step - loss: 0.0226\n",
      "Epoch 16/30\n",
      "1/1 [==============================] - 0s 11ms/step - loss: 0.0200\n",
      "Epoch 17/30\n",
      "1/1 [==============================] - 0s 9ms/step - loss: 0.0188\n",
      "Epoch 18/30\n",
      "1/1 [==============================] - 0s 12ms/step - loss: 0.0179\n",
      "Epoch 19/30\n",
      "1/1 [==============================] - 0s 7ms/step - loss: 0.0166\n",
      "Epoch 20/30\n",
      "1/1 [==============================] - 0s 8ms/step - loss: 0.0149\n",
      "Epoch 21/30\n",
      "1/1 [==============================] - 0s 7ms/step - loss: 0.0128\n",
      "Epoch 22/30\n",
      "1/1 [==============================] - 0s 8ms/step - loss: 0.0105\n",
      "Epoch 23/30\n",
      "1/1 [==============================] - 0s 8ms/step - loss: 0.0083\n",
      "Epoch 24/30\n",
      "1/1 [==============================] - 0s 8ms/step - loss: 0.0067\n",
      "Epoch 25/30\n",
      "1/1 [==============================] - 0s 8ms/step - loss: 0.0057\n",
      "Epoch 26/30\n",
      "1/1 [==============================] - 0s 11ms/step - loss: 0.0051\n",
      "Epoch 27/30\n",
      "1/1 [==============================] - 0s 9ms/step - loss: 0.0047\n",
      "Epoch 28/30\n",
      "1/1 [==============================] - 0s 8ms/step - loss: 0.0041\n",
      "Epoch 29/30\n",
      "1/1 [==============================] - 0s 10ms/step - loss: 0.0032\n",
      "Epoch 30/30\n",
      "1/1 [==============================] - 0s 10ms/step - loss: 0.0023\n"
     ]
    }
   ],
   "source": [
    "np.random.seed(42)\n",
    "tf.random.set_seed(42)\n",
    "\n",
    "model.compile(loss=\"mse\", optimizer='Adam')\n",
    "\n",
    "history = model.fit(train_x, train_target, epochs=30)"
   ]
  },
  {
   "cell_type": "markdown",
   "id": "480b1ef4-928b-435f-879f-71fcc69e9563",
   "metadata": {},
   "source": [
    "### Predictions"
   ]
  },
  {
   "cell_type": "code",
   "execution_count": 64,
   "id": "1c21ffa3-fbdb-4e02-bf3e-806e541e9b9f",
   "metadata": {},
   "outputs": [
    {
     "name": "stdout",
     "output_type": "stream",
     "text": [
      "1/1 [==============================] - 0s 249ms/step\n"
     ]
    }
   ],
   "source": [
    "#Predict:\n",
    "y_pred = model.predict(test_x)\n"
   ]
  },
  {
   "cell_type": "code",
   "execution_count": 65,
   "id": "1c90216e-a534-47c2-95e2-6921f5e99fce",
   "metadata": {},
   "outputs": [],
   "source": [
    "#Remember, these are standardized values. \n",
    "\n",
    "comparison = pd.DataFrame()\n",
    "\n",
    "comparison['actual'] = scaler.inverse_transform([test_target]).flatten()\n",
    "comparison['predicted'] = scaler.inverse_transform(y_pred).flatten()"
   ]
  },
  {
   "cell_type": "code",
   "execution_count": 67,
   "id": "193c948d-3c7f-4f41-bca1-41193ca635ca",
   "metadata": {},
   "outputs": [
    {
     "data": {
      "text/html": [
       "<div>\n",
       "<style scoped>\n",
       "    .dataframe tbody tr th:only-of-type {\n",
       "        vertical-align: middle;\n",
       "    }\n",
       "\n",
       "    .dataframe tbody tr th {\n",
       "        vertical-align: top;\n",
       "    }\n",
       "\n",
       "    .dataframe thead th {\n",
       "        text-align: right;\n",
       "    }\n",
       "</style>\n",
       "<table border=\"1\" class=\"dataframe\">\n",
       "  <thead>\n",
       "    <tr style=\"text-align: right;\">\n",
       "      <th></th>\n",
       "      <th>actual</th>\n",
       "      <th>predicted</th>\n",
       "    </tr>\n",
       "  </thead>\n",
       "  <tbody>\n",
       "    <tr>\n",
       "      <th>0</th>\n",
       "      <td>317.279999</td>\n",
       "      <td>361.775787</td>\n",
       "    </tr>\n",
       "    <tr>\n",
       "      <th>1</th>\n",
       "      <td>322.649994</td>\n",
       "      <td>352.527496</td>\n",
       "    </tr>\n",
       "    <tr>\n",
       "      <th>2</th>\n",
       "      <td>336.890015</td>\n",
       "      <td>349.489929</td>\n",
       "    </tr>\n",
       "  </tbody>\n",
       "</table>\n",
       "</div>"
      ],
      "text/plain": [
       "       actual   predicted\n",
       "0  317.279999  361.775787\n",
       "1  322.649994  352.527496\n",
       "2  336.890015  349.489929"
      ]
     },
     "execution_count": 67,
     "metadata": {},
     "output_type": "execute_result"
    }
   ],
   "source": [
    "comparison"
   ]
  },
  {
   "cell_type": "code",
   "execution_count": 68,
   "id": "a12134a8-e07a-40d4-8c51-e05ed543cc42",
   "metadata": {},
   "outputs": [
    {
     "data": {
      "text/plain": [
       "1010.4327216597309"
      ]
     },
     "execution_count": 68,
     "metadata": {},
     "output_type": "execute_result"
    }
   ],
   "source": [
    "mean_squared_error(comparison['actual'], comparison['predicted'])"
   ]
  },
  {
   "cell_type": "code",
   "execution_count": 69,
   "id": "6b6d2ca7-b303-4c78-adff-7ceb7e7854da",
   "metadata": {},
   "outputs": [
    {
     "data": {
      "image/png": "[encoded data removed]",
      "text/plain": [
       "<Figure size 640x480 with 1 Axes>"
      ]
     },
     "metadata": {},
     "output_type": "display_data"
    }
   ],
   "source": [
    "plt.plot(comparison['actual'], label = 'actual')\n",
    "plt.plot(comparison['predicted'], label = 'predicted')\n",
    "\n",
    "plt.legend()\n",
    "\n",
    "plt.show()"
   ]
  },
  {
   "cell_type": "markdown",
   "id": "37b87698-b4dd-4550-ab3f-911422821b74",
   "metadata": {},
   "source": [
    "## Results\n",
    "the mean squared error is 1010 and this is the worst performing model as the actual & predicted values do not make any sense"
   ]
  },
  {
   "cell_type": "markdown",
   "id": "892515d7-d004-40eb-9b20-845ca703a622",
   "metadata": {},
   "source": [
    "# LSTM with one layer"
   ]
  },
  {
   "cell_type": "code",
   "execution_count": 70,
   "id": "9ac8849f-9812-490d-bb32-a2c9582f29f0",
   "metadata": {
    "scrolled": true
   },
   "outputs": [],
   "source": [
    "model = keras.models.Sequential([\n",
    "    keras.layers.LSTM(32, activation='relu', input_shape=[9, 1]),\n",
    "    keras.layers.Dense(1, activation=None)\n",
    "])"
   ]
  },
  {
   "cell_type": "code",
   "execution_count": 71,
   "id": "6dfbca30-ce3a-4a5a-8239-463a808501a2",
   "metadata": {
    "scrolled": true
   },
   "outputs": [
    {
     "name": "stdout",
     "output_type": "stream",
     "text": [
      "Epoch 1/50\n",
      "1/1 [==============================] - 1s 1s/step - loss: 0.2150\n",
      "Epoch 2/50\n",
      "1/1 [==============================] - 0s 5ms/step - loss: 0.2106\n",
      "Epoch 3/50\n",
      "1/1 [==============================] - 0s 6ms/step - loss: 0.2063\n",
      "Epoch 4/50\n",
      "1/1 [==============================] - 0s 7ms/step - loss: 0.2021\n",
      "Epoch 5/50\n",
      "1/1 [==============================] - 0s 7ms/step - loss: 0.1979\n",
      "Epoch 6/50\n",
      "1/1 [==============================] - 0s 8ms/step - loss: 0.1938\n",
      "Epoch 7/50\n",
      "1/1 [==============================] - 0s 6ms/step - loss: 0.1897\n",
      "Epoch 8/50\n",
      "1/1 [==============================] - 0s 7ms/step - loss: 0.1856\n",
      "Epoch 9/50\n",
      "1/1 [==============================] - 0s 7ms/step - loss: 0.1815\n",
      "Epoch 10/50\n",
      "1/1 [==============================] - 0s 10ms/step - loss: 0.1775\n",
      "Epoch 11/50\n",
      "1/1 [==============================] - 0s 6ms/step - loss: 0.1735\n",
      "Epoch 12/50\n",
      "1/1 [==============================] - 0s 7ms/step - loss: 0.1695\n",
      "Epoch 13/50\n",
      "1/1 [==============================] - 0s 7ms/step - loss: 0.1655\n",
      "Epoch 14/50\n",
      "1/1 [==============================] - 0s 6ms/step - loss: 0.1615\n",
      "Epoch 15/50\n",
      "1/1 [==============================] - 0s 7ms/step - loss: 0.1576\n",
      "Epoch 16/50\n",
      "1/1 [==============================] - 0s 6ms/step - loss: 0.1537\n",
      "Epoch 17/50\n",
      "1/1 [==============================] - 0s 8ms/step - loss: 0.1499\n",
      "Epoch 18/50\n",
      "1/1 [==============================] - 0s 7ms/step - loss: 0.1461\n",
      "Epoch 19/50\n",
      "1/1 [==============================] - 0s 6ms/step - loss: 0.1423\n",
      "Epoch 20/50\n",
      "1/1 [==============================] - 0s 7ms/step - loss: 0.1387\n",
      "Epoch 21/50\n",
      "1/1 [==============================] - 0s 7ms/step - loss: 0.1351\n",
      "Epoch 22/50\n",
      "1/1 [==============================] - 0s 7ms/step - loss: 0.1316\n",
      "Epoch 23/50\n",
      "1/1 [==============================] - 0s 7ms/step - loss: 0.1281\n",
      "Epoch 24/50\n",
      "1/1 [==============================] - 0s 7ms/step - loss: 0.1247\n",
      "Epoch 25/50\n",
      "1/1 [==============================] - 0s 8ms/step - loss: 0.1214\n",
      "Epoch 26/50\n",
      "1/1 [==============================] - 0s 6ms/step - loss: 0.1182\n",
      "Epoch 27/50\n",
      "1/1 [==============================] - 0s 10ms/step - loss: 0.1152\n",
      "Epoch 28/50\n",
      "1/1 [==============================] - 0s 8ms/step - loss: 0.1122\n",
      "Epoch 29/50\n",
      "1/1 [==============================] - 0s 8ms/step - loss: 0.1095\n",
      "Epoch 30/50\n",
      "1/1 [==============================] - 0s 7ms/step - loss: 0.1069\n",
      "Epoch 31/50\n",
      "1/1 [==============================] - 0s 6ms/step - loss: 0.1045\n",
      "Epoch 32/50\n",
      "1/1 [==============================] - 0s 6ms/step - loss: 0.1024\n",
      "Epoch 33/50\n",
      "1/1 [==============================] - 0s 6ms/step - loss: 0.1004\n",
      "Epoch 34/50\n",
      "1/1 [==============================] - 0s 7ms/step - loss: 0.0986\n",
      "Epoch 35/50\n",
      "1/1 [==============================] - 0s 7ms/step - loss: 0.0970\n",
      "Epoch 36/50\n",
      "1/1 [==============================] - 0s 7ms/step - loss: 0.0956\n",
      "Epoch 37/50\n",
      "1/1 [==============================] - 0s 7ms/step - loss: 0.0943\n",
      "Epoch 38/50\n",
      "1/1 [==============================] - 0s 8ms/step - loss: 0.0930\n",
      "Epoch 39/50\n",
      "1/1 [==============================] - 0s 8ms/step - loss: 0.0917\n",
      "Epoch 40/50\n",
      "1/1 [==============================] - 0s 8ms/step - loss: 0.0904\n",
      "Epoch 41/50\n",
      "1/1 [==============================] - 0s 12ms/step - loss: 0.0890\n",
      "Epoch 42/50\n",
      "1/1 [==============================] - 0s 7ms/step - loss: 0.0875\n",
      "Epoch 43/50\n",
      "1/1 [==============================] - 0s 7ms/step - loss: 0.0860\n",
      "Epoch 44/50\n",
      "1/1 [==============================] - 0s 7ms/step - loss: 0.0842\n",
      "Epoch 45/50\n",
      "1/1 [==============================] - 0s 7ms/step - loss: 0.0824\n",
      "Epoch 46/50\n",
      "1/1 [==============================] - 0s 7ms/step - loss: 0.0804\n",
      "Epoch 47/50\n",
      "1/1 [==============================] - 0s 7ms/step - loss: 0.0785\n",
      "Epoch 48/50\n",
      "1/1 [==============================] - 0s 7ms/step - loss: 0.0766\n",
      "Epoch 49/50\n",
      "1/1 [==============================] - 0s 7ms/step - loss: 0.0749\n",
      "Epoch 50/50\n",
      "1/1 [==============================] - 0s 8ms/step - loss: 0.0735\n"
     ]
    }
   ],
   "source": [
    "np.random.seed(42)\n",
    "tf.random.set_seed(42)\n",
    "\n",
    "model.compile(loss=\"mse\", optimizer='Adam')\n",
    "\n",
    "history = model.fit(train_x, train_target, epochs=50)"
   ]
  },
  {
   "cell_type": "markdown",
   "id": "48a526b4-f2ac-4c84-af2c-92a700963354",
   "metadata": {},
   "source": [
    "### Predictions"
   ]
  },
  {
   "cell_type": "code",
   "execution_count": 72,
   "id": "f9434456-951d-4e8c-9f11-b112decdc0b6",
   "metadata": {},
   "outputs": [
    {
     "name": "stdout",
     "output_type": "stream",
     "text": [
      "1/1 [==============================] - 0s 189ms/step\n"
     ]
    }
   ],
   "source": [
    "#Predict:\n",
    "y_pred = model.predict(test_x)\n"
   ]
  },
  {
   "cell_type": "code",
   "execution_count": 73,
   "id": "b7006005-0f1c-423b-b1ed-41c386142582",
   "metadata": {},
   "outputs": [],
   "source": [
    "#Remember, these are standardized values. \n",
    "\n",
    "comparison = pd.DataFrame()\n",
    "\n",
    "comparison['actual'] = scaler.inverse_transform([test_target]).flatten()\n",
    "comparison['predicted'] = scaler.inverse_transform(y_pred).flatten()"
   ]
  },
  {
   "cell_type": "code",
   "execution_count": 74,
   "id": "494a9cc8-0c78-48f2-b837-7d17a4aff2da",
   "metadata": {},
   "outputs": [
    {
     "data": {
      "text/plain": [
       "75.16698447133393"
      ]
     },
     "execution_count": 74,
     "metadata": {},
     "output_type": "execute_result"
    }
   ],
   "source": [
    "mean_squared_error(comparison['actual'], comparison['predicted'])"
   ]
  },
  {
   "cell_type": "code",
   "execution_count": 75,
   "id": "58ab51be-a244-40a9-b5bf-42e2922249c0",
   "metadata": {},
   "outputs": [
    {
     "data": {
      "image/png": "[encoded data removed]",
      "text/plain": [
       "<Figure size 640x480 with 1 Axes>"
      ]
     },
     "metadata": {},
     "output_type": "display_data"
    }
   ],
   "source": [
    "plt.plot(comparison['actual'], label = 'actual')\n",
    "plt.plot(comparison['predicted'], label = 'predicted')\n",
    "\n",
    "plt.legend()\n",
    "\n",
    "plt.show()"
   ]
  },
  {
   "cell_type": "markdown",
   "id": "0312aeec-c3d6-454a-b3e5-71172654b8d6",
   "metadata": {},
   "source": [
    "# Results\n",
    " The mean squared error is 75.16 which is very high, and the actual and predicted values do not even converge nor are close enough, this LTSM model doesnt seem to achieve the best results"
   ]
  },
  {
   "cell_type": "markdown",
   "id": "cf500ddc-450b-4687-a5bc-6874671093dc",
   "metadata": {},
   "source": [
    "# Conv1D"
   ]
  },
  {
   "cell_type": "markdown",
   "id": "7379e3fa-0dc9-4e23-93c2-b08d2060867f",
   "metadata": {
    "tags": []
   },
   "source": [
    "### Last Layer: GRU (you can change it to SimpleRNN or LSTM as well)"
   ]
  },
  {
   "cell_type": "code",
   "execution_count": 76,
   "id": "57106740-3299-45c5-9b07-86fb80909a99",
   "metadata": {
    "scrolled": true
   },
   "outputs": [],
   "source": [
    "model = keras.models.Sequential([\n",
    "    keras.layers.Conv1D(filters=20, kernel_size=3, strides=1, padding=\"valid\", input_shape=[9, 1]),\n",
    "    keras.layers.GRU(32, activation='relu', return_sequences=True),\n",
    "    keras.layers.GRU(32, activation='relu', return_sequences=False),\n",
    "    keras.layers.Dense(1, activation=None)\n",
    "])"
   ]
  },
  {
   "cell_type": "code",
   "execution_count": 77,
   "id": "47e40b9e-bbe5-43b4-9a65-c16088195883",
   "metadata": {
    "scrolled": true
   },
   "outputs": [
    {
     "name": "stdout",
     "output_type": "stream",
     "text": [
      "Epoch 1/30\n",
      "1/1 [==============================] - 3s 3s/step - loss: 0.2777\n",
      "Epoch 2/30\n",
      "1/1 [==============================] - 0s 8ms/step - loss: 0.2545\n",
      "Epoch 3/30\n",
      "1/1 [==============================] - 0s 9ms/step - loss: 0.2326\n",
      "Epoch 4/30\n",
      "1/1 [==============================] - 0s 8ms/step - loss: 0.2130\n",
      "Epoch 5/30\n",
      "1/1 [==============================] - 0s 9ms/step - loss: 0.1962\n",
      "Epoch 6/30\n",
      "1/1 [==============================] - 0s 9ms/step - loss: 0.1809\n",
      "Epoch 7/30\n",
      "1/1 [==============================] - 0s 10ms/step - loss: 0.1671\n",
      "Epoch 8/30\n",
      "1/1 [==============================] - 0s 9ms/step - loss: 0.1552\n",
      "Epoch 9/30\n",
      "1/1 [==============================] - 0s 10ms/step - loss: 0.1447\n",
      "Epoch 10/30\n",
      "1/1 [==============================] - 0s 10ms/step - loss: 0.1354\n",
      "Epoch 11/30\n",
      "1/1 [==============================] - 0s 14ms/step - loss: 0.1275\n",
      "Epoch 12/30\n",
      "1/1 [==============================] - 0s 10ms/step - loss: 0.1208\n",
      "Epoch 13/30\n",
      "1/1 [==============================] - 0s 10ms/step - loss: 0.1149\n",
      "Epoch 14/30\n",
      "1/1 [==============================] - 0s 10ms/step - loss: 0.1097\n",
      "Epoch 15/30\n",
      "1/1 [==============================] - 0s 9ms/step - loss: 0.1054\n",
      "Epoch 16/30\n",
      "1/1 [==============================] - 0s 10ms/step - loss: 0.1019\n",
      "Epoch 17/30\n",
      "1/1 [==============================] - 0s 10ms/step - loss: 0.0993\n",
      "Epoch 18/30\n",
      "1/1 [==============================] - 0s 10ms/step - loss: 0.0974\n",
      "Epoch 19/30\n",
      "1/1 [==============================] - 0s 12ms/step - loss: 0.0962\n",
      "Epoch 20/30\n",
      "1/1 [==============================] - 0s 10ms/step - loss: 0.0957\n",
      "Epoch 21/30\n",
      "1/1 [==============================] - 0s 11ms/step - loss: 0.0954\n",
      "Epoch 22/30\n",
      "1/1 [==============================] - 0s 10ms/step - loss: 0.0951\n",
      "Epoch 23/30\n",
      "1/1 [==============================] - 0s 10ms/step - loss: 0.0945\n",
      "Epoch 24/30\n",
      "1/1 [==============================] - 0s 10ms/step - loss: 0.0934\n",
      "Epoch 25/30\n",
      "1/1 [==============================] - 0s 12ms/step - loss: 0.0920\n",
      "Epoch 26/30\n",
      "1/1 [==============================] - 0s 13ms/step - loss: 0.0901\n",
      "Epoch 27/30\n",
      "1/1 [==============================] - 0s 11ms/step - loss: 0.0879\n",
      "Epoch 28/30\n",
      "1/1 [==============================] - 0s 10ms/step - loss: 0.0856\n",
      "Epoch 29/30\n",
      "1/1 [==============================] - 0s 11ms/step - loss: 0.0832\n",
      "Epoch 30/30\n",
      "1/1 [==============================] - 0s 10ms/step - loss: 0.0809\n"
     ]
    }
   ],
   "source": [
    "np.random.seed(42)\n",
    "tf.random.set_seed(42)\n",
    "\n",
    "model.compile(loss=\"mse\", optimizer='Adam')\n",
    "\n",
    "history = model.fit(train_x, train_target, epochs=30)"
   ]
  },
  {
   "cell_type": "markdown",
   "id": "5cec855c-c3ec-43ef-a901-c111ab1b26a2",
   "metadata": {},
   "source": [
    "### Predictions"
   ]
  },
  {
   "cell_type": "code",
   "execution_count": 78,
   "id": "e1d2a43a-d4c9-402c-91e1-1175b9bf47c4",
   "metadata": {},
   "outputs": [
    {
     "name": "stdout",
     "output_type": "stream",
     "text": [
      "WARNING:tensorflow:5 out of the last 5 calls to <function Model.make_predict_function.<locals>.predict_function at 0x000001F59E2B83A0> triggered tf.function retracing. Tracing is expensive and the excessive number of tracings could be due to (1) creating @tf.function repeatedly in a loop, (2) passing tensors with different shapes, (3) passing Python objects instead of tensors. For (1), please define your @tf.function outside of the loop. For (2), @tf.function has reduce_retracing=True option that can avoid unnecessary retracing. For (3), please refer to https://www.tensorflow.org/guide/function#controlling_retracing and https://www.tensorflow.org/api_docs/python/tf/function for  more details.\n",
      "1/1 [==============================] - 1s 624ms/step\n"
     ]
    }
   ],
   "source": [
    "#Predict:\n",
    "y_pred = model.predict(test_x)"
   ]
  },
  {
   "cell_type": "code",
   "execution_count": 79,
   "id": "be1b8cf4-ea77-4c19-8980-28cd74ceb346",
   "metadata": {},
   "outputs": [],
   "source": [
    "#Remember, these are standardized values. \n",
    "\n",
    "comparison = pd.DataFrame()\n",
    "\n",
    "comparison['actual'] = scaler.inverse_transform([test_target]).flatten()\n",
    "comparison['predicted'] = scaler.inverse_transform(y_pred).flatten()"
   ]
  },
  {
   "cell_type": "code",
   "execution_count": 80,
   "id": "27b4063d-1559-4ebb-900e-d75a0913acd0",
   "metadata": {},
   "outputs": [
    {
     "data": {
      "text/plain": [
       "514.663031855598"
      ]
     },
     "execution_count": 80,
     "metadata": {},
     "output_type": "execute_result"
    }
   ],
   "source": [
    "mean_squared_error(comparison['actual'], comparison['predicted'])"
   ]
  },
  {
   "cell_type": "markdown",
   "id": "6717d771-de12-42c9-aad4-d5c84327bceb",
   "metadata": {
    "jp-MarkdownHeadingCollapsed": true,
    "tags": []
   },
   "source": [
    "# Sliding window\n",
    "\n",
    "Prior 9 days predicts next day closing price"
   ]
  },
  {
   "cell_type": "code",
   "execution_count": 97,
   "id": "aed6de6d-e2a9-4423-909d-06dd36de90a2",
   "metadata": {},
   "outputs": [],
   "source": [
    "steps_for_prediction = 9\n",
    "steps_to_predict = 1\n",
    "\n"
   ]
  },
  {
   "cell_type": "code",
   "execution_count": 98,
   "id": "ff10b709-243e-4394-936a-48a040a2effd",
   "metadata": {},
   "outputs": [
    {
     "data": {
      "text/plain": [
       "array([[ 1.79496607,  1.92172574,  1.60603893,  1.67160494,  1.79010906,\n",
       "         1.676462  ,  1.51958941,  1.08054297,  0.66140778,  0.51619229],\n",
       "       [ 0.42682737,  0.47830997,  0.67452039,  0.94212611,  0.53853281,\n",
       "         0.02614796, -0.14286498, -0.22737293, -0.23320075,  0.04217597],\n",
       "       [-0.18026264, -0.18366123, -0.35558956, -0.40901377, -0.28468183,\n",
       "        -0.28710961, -0.14917895, -0.07729896, -0.26865383, -0.05884464],\n",
       "       [ 0.18010662,  0.39185889,  0.73765863,  1.00283511,  1.20001785,\n",
       "         0.03052027, -0.00979133,  0.07083042, -0.36190354, -0.00736205],\n",
       "       [-0.04670284,  0.0164354 ,  0.27578406,  0.21410425,  0.3967159 ,\n",
       "         0.80225238,  0.79739532,  0.98000848,  1.00332127,  1.04460223],\n",
       "       [ 1.21944444,  1.25344207,  0.90812849,  1.06791502,  1.20098866,\n",
       "         1.09219862,  1.21653051,  1.01546307,  0.93289824,  0.57447206],\n",
       "       [ 0.56330257,  0.69200536,  0.70706105,  0.78865361,  0.11454061,\n",
       "        -0.1486928 , -0.00930517,  0.37874628,  0.37680321, -0.15597904]])"
      ]
     },
     "execution_count": 98,
     "metadata": {},
     "output_type": "execute_result"
    }
   ],
   "source": [
    "train"
   ]
  },
  {
   "cell_type": "code",
   "execution_count": 99,
   "id": "fbd79688-4ba0-4290-9cc7-4a5ac0790f59",
   "metadata": {},
   "outputs": [
    {
     "data": {
      "text/plain": [
       "(70,)"
      ]
     },
     "execution_count": 99,
     "metadata": {},
     "output_type": "execute_result"
    }
   ],
   "source": [
    "train.flatten().shape"
   ]
  },
  {
   "cell_type": "code",
   "execution_count": 100,
   "id": "7303617b-d398-4240-a571-6401b1eea4bc",
   "metadata": {},
   "outputs": [],
   "source": [
    "train_inputs_sw = []\n",
    "train_target_sw = []\n",
    "\n",
    "for i in range(0,70-10):\n",
    "    input_row = train.flatten()[i:i+steps_for_prediction]\n",
    "    target_row = train.flatten()[i+steps_for_prediction:i+steps_for_prediction+steps_to_predict]\n",
    "    train_inputs_sw.append((input_row))\n",
    "    train_target_sw.append((target_row))"
   ]
  },
  {
   "cell_type": "code",
   "execution_count": 101,
   "id": "7896104f-a9cb-47ec-aa89-5b74939b9341",
   "metadata": {},
   "outputs": [],
   "source": [
    "train_inputs = np.vstack(train_inputs_sw)\n",
    "\n",
    "train_targets = np.vstack(train_target_sw)"
   ]
  },
  {
   "cell_type": "code",
   "execution_count": 103,
   "id": "549cd899-27ce-45de-8c38-c21dc26fe783",
   "metadata": {},
   "outputs": [
    {
     "data": {
      "text/plain": [
       "array([[ 0.51619229],\n",
       "       [ 0.42682737],\n",
       "       [ 0.47830997],\n",
       "       [ 0.67452039],\n",
       "       [ 0.94212611],\n",
       "       [ 0.53853281],\n",
       "       [ 0.02614796],\n",
       "       [-0.14286498],\n",
       "       [-0.22737293],\n",
       "       [-0.23320075],\n",
       "       [ 0.04217597],\n",
       "       [-0.18026264],\n",
       "       [-0.18366123],\n",
       "       [-0.35558956],\n",
       "       [-0.40901377],\n",
       "       [-0.28468183],\n",
       "       [-0.28710961],\n",
       "       [-0.14917895],\n",
       "       [-0.07729896],\n",
       "       [-0.26865383],\n",
       "       [-0.05884464],\n",
       "       [ 0.18010662],\n",
       "       [ 0.39185889],\n",
       "       [ 0.73765863],\n",
       "       [ 1.00283511],\n",
       "       [ 1.20001785],\n",
       "       [ 0.03052027],\n",
       "       [-0.00979133],\n",
       "       [ 0.07083042],\n",
       "       [-0.36190354],\n",
       "       [-0.00736205],\n",
       "       [-0.04670284],\n",
       "       [ 0.0164354 ],\n",
       "       [ 0.27578406],\n",
       "       [ 0.21410425],\n",
       "       [ 0.3967159 ],\n",
       "       [ 0.80225238],\n",
       "       [ 0.79739532],\n",
       "       [ 0.98000848],\n",
       "       [ 1.00332127],\n",
       "       [ 1.04460223],\n",
       "       [ 1.21944444],\n",
       "       [ 1.25344207],\n",
       "       [ 0.90812849],\n",
       "       [ 1.06791502],\n",
       "       [ 1.20098866],\n",
       "       [ 1.09219862],\n",
       "       [ 1.21653051],\n",
       "       [ 1.01546307],\n",
       "       [ 0.93289824],\n",
       "       [ 0.57447206],\n",
       "       [ 0.56330257],\n",
       "       [ 0.69200536],\n",
       "       [ 0.70706105],\n",
       "       [ 0.78865361],\n",
       "       [ 0.11454061],\n",
       "       [-0.1486928 ],\n",
       "       [-0.00930517],\n",
       "       [ 0.37874628],\n",
       "       [ 0.37680321]])"
      ]
     },
     "execution_count": 103,
     "metadata": {},
     "output_type": "execute_result"
    }
   ],
   "source": [
    "train_targets"
   ]
  },
  {
   "cell_type": "code",
   "execution_count": 104,
   "id": "656a269a-5b75-4a03-8124-3142182851fb",
   "metadata": {},
   "outputs": [],
   "source": [
    "# Repeat for test\n",
    "\n",
    "test_inputs_sw = []\n",
    "test_target_sw = []\n",
    "\n",
    "for i in range(0,test.flatten().shape[0]-10):\n",
    "    input_row = test.flatten()[i:i+steps_for_prediction]\n",
    "    target_row = test.flatten()[i+steps_for_prediction:i+steps_for_prediction+steps_to_predict]\n",
    "    test_inputs_sw.append((input_row))\n",
    "    test_target_sw.append((target_row))\n",
    "    \n",
    "test_inputs = np.vstack(test_inputs_sw)\n",
    "\n",
    "test_targets = np.vstack(test_target_sw)"
   ]
  },
  {
   "cell_type": "markdown",
   "id": "a8ff1787-a82b-4e98-a1c1-e9c3c30edf10",
   "metadata": {
    "tags": []
   },
   "source": [
    "# GRU"
   ]
  },
  {
   "cell_type": "code",
   "execution_count": 105,
   "id": "703e1ec8-cafd-485a-ab02-9cfb367cddd0",
   "metadata": {
    "scrolled": true
   },
   "outputs": [],
   "source": [
    "model = keras.models.Sequential([\n",
    "    keras.layers.GRU(64, activation='relu', return_sequences=True, input_shape=[9, 1]),\n",
    "    keras.layers.GRU(32, activation='relu', return_sequences=False),\n",
    "    keras.layers.Dense(steps_to_predict, activation=None)\n",
    "])"
   ]
  },
  {
   "cell_type": "code",
   "execution_count": 106,
   "id": "a611b96b-36de-47c5-8d91-dc467489960b",
   "metadata": {
    "scrolled": true
   },
   "outputs": [
    {
     "name": "stdout",
     "output_type": "stream",
     "text": [
      "Epoch 1/50\n",
      "2/2 [==============================] - 3s 14ms/step - loss: 0.4012\n",
      "Epoch 2/50\n",
      "2/2 [==============================] - 0s 11ms/step - loss: 0.3559\n",
      "Epoch 3/50\n",
      "2/2 [==============================] - 0s 11ms/step - loss: 0.3156\n",
      "Epoch 4/50\n",
      "2/2 [==============================] - 0s 16ms/step - loss: 0.2774\n",
      "Epoch 5/50\n",
      "2/2 [==============================] - 0s 13ms/step - loss: 0.2494\n",
      "Epoch 6/50\n",
      "2/2 [==============================] - 0s 12ms/step - loss: 0.2213\n",
      "Epoch 7/50\n",
      "2/2 [==============================] - 0s 16ms/step - loss: 0.2025\n",
      "Epoch 8/50\n",
      "2/2 [==============================] - 0s 13ms/step - loss: 0.1791\n",
      "Epoch 9/50\n",
      "2/2 [==============================] - 0s 12ms/step - loss: 0.1634\n",
      "Epoch 10/50\n",
      "2/2 [==============================] - 0s 12ms/step - loss: 0.1521\n",
      "Epoch 11/50\n",
      "2/2 [==============================] - 0s 12ms/step - loss: 0.1459\n",
      "Epoch 12/50\n",
      "2/2 [==============================] - 0s 11ms/step - loss: 0.1436\n",
      "Epoch 13/50\n",
      "2/2 [==============================] - 0s 13ms/step - loss: 0.1377\n",
      "Epoch 14/50\n",
      "2/2 [==============================] - 0s 11ms/step - loss: 0.1322\n",
      "Epoch 15/50\n",
      "2/2 [==============================] - 0s 11ms/step - loss: 0.1267\n",
      "Epoch 16/50\n",
      "2/2 [==============================] - 0s 12ms/step - loss: 0.1233\n",
      "Epoch 17/50\n",
      "2/2 [==============================] - 0s 11ms/step - loss: 0.1202\n",
      "Epoch 18/50\n",
      "2/2 [==============================] - 0s 16ms/step - loss: 0.1177\n",
      "Epoch 19/50\n",
      "2/2 [==============================] - 0s 11ms/step - loss: 0.1133\n",
      "Epoch 20/50\n",
      "2/2 [==============================] - 0s 12ms/step - loss: 0.1077\n",
      "Epoch 21/50\n",
      "2/2 [==============================] - 0s 11ms/step - loss: 0.1031\n",
      "Epoch 22/50\n",
      "2/2 [==============================] - 0s 11ms/step - loss: 0.0986\n",
      "Epoch 23/50\n",
      "2/2 [==============================] - 0s 17ms/step - loss: 0.0957\n",
      "Epoch 24/50\n",
      "2/2 [==============================] - 0s 19ms/step - loss: 0.0911\n",
      "Epoch 25/50\n",
      "2/2 [==============================] - 0s 12ms/step - loss: 0.0862\n",
      "Epoch 26/50\n",
      "2/2 [==============================] - 0s 10ms/step - loss: 0.0824\n",
      "Epoch 27/50\n",
      "2/2 [==============================] - 0s 13ms/step - loss: 0.0803\n",
      "Epoch 28/50\n",
      "2/2 [==============================] - 0s 12ms/step - loss: 0.0786\n",
      "Epoch 29/50\n",
      "2/2 [==============================] - 0s 11ms/step - loss: 0.0758\n",
      "Epoch 30/50\n",
      "2/2 [==============================] - 0s 12ms/step - loss: 0.0744\n",
      "Epoch 31/50\n",
      "2/2 [==============================] - 0s 13ms/step - loss: 0.0736\n",
      "Epoch 32/50\n",
      "2/2 [==============================] - 0s 12ms/step - loss: 0.0721\n",
      "Epoch 33/50\n",
      "2/2 [==============================] - 0s 10ms/step - loss: 0.0707\n",
      "Epoch 34/50\n",
      "2/2 [==============================] - 0s 12ms/step - loss: 0.0695\n",
      "Epoch 35/50\n",
      "2/2 [==============================] - 0s 11ms/step - loss: 0.0684\n",
      "Epoch 36/50\n",
      "2/2 [==============================] - 0s 10ms/step - loss: 0.0674\n",
      "Epoch 37/50\n",
      "2/2 [==============================] - 0s 14ms/step - loss: 0.0667\n",
      "Epoch 38/50\n",
      "2/2 [==============================] - 0s 9ms/step - loss: 0.0656\n",
      "Epoch 39/50\n",
      "2/2 [==============================] - 0s 10ms/step - loss: 0.0649\n",
      "Epoch 40/50\n",
      "2/2 [==============================] - 0s 11ms/step - loss: 0.0643\n",
      "Epoch 41/50\n",
      "2/2 [==============================] - 0s 9ms/step - loss: 0.0637\n",
      "Epoch 42/50\n",
      "2/2 [==============================] - 0s 10ms/step - loss: 0.0636\n",
      "Epoch 43/50\n",
      "2/2 [==============================] - 0s 10ms/step - loss: 0.0632\n",
      "Epoch 44/50\n",
      "2/2 [==============================] - 0s 9ms/step - loss: 0.0627\n",
      "Epoch 45/50\n",
      "2/2 [==============================] - 0s 13ms/step - loss: 0.0647\n",
      "Epoch 46/50\n",
      "2/2 [==============================] - 0s 11ms/step - loss: 0.0638\n",
      "Epoch 47/50\n",
      "2/2 [==============================] - 0s 9ms/step - loss: 0.0631\n",
      "Epoch 48/50\n",
      "2/2 [==============================] - 0s 9ms/step - loss: 0.0634\n",
      "Epoch 49/50\n",
      "2/2 [==============================] - 0s 10ms/step - loss: 0.0625\n",
      "Epoch 50/50\n",
      "2/2 [==============================] - 0s 9ms/step - loss: 0.0621\n"
     ]
    }
   ],
   "source": [
    "np.random.seed(42)\n",
    "tf.random.set_seed(42)\n",
    "\n",
    "model.compile(loss=\"mse\", optimizer='Adam')\n",
    "\n",
    "history = model.fit(train_inputs, train_targets, epochs=50)"
   ]
  },
  {
   "cell_type": "markdown",
   "id": "9ef302f7-0608-42c7-8c7d-763b02e68295",
   "metadata": {},
   "source": [
    "### Predictions"
   ]
  },
  {
   "cell_type": "code",
   "execution_count": 107,
   "id": "e9a21878-c0f8-4a0b-8a30-b70cf1c4f52c",
   "metadata": {},
   "outputs": [
    {
     "name": "stdout",
     "output_type": "stream",
     "text": [
      "1/1 [==============================] - 0s 320ms/step\n"
     ]
    }
   ],
   "source": [
    "#Predict:\n",
    "y_pred = model.predict(test_inputs)"
   ]
  },
  {
   "cell_type": "code",
   "execution_count": 108,
   "id": "37c17232-87bd-4c66-afc6-a78564575805",
   "metadata": {},
   "outputs": [],
   "source": [
    "#Remember, these are standardized values. \n",
    "\n",
    "actual = pd.DataFrame(scaler.inverse_transform(test_targets))\n",
    "predicted = pd.DataFrame(scaler.inverse_transform(y_pred))"
   ]
  },
  {
   "cell_type": "code",
   "execution_count": 109,
   "id": "4dfdd5e6-747e-4b42-b6e3-c3d6ab18cbd3",
   "metadata": {},
   "outputs": [
    {
     "data": {
      "text/html": [
       "<div>\n",
       "<style scoped>\n",
       "    .dataframe tbody tr th:only-of-type {\n",
       "        vertical-align: middle;\n",
       "    }\n",
       "\n",
       "    .dataframe tbody tr th {\n",
       "        vertical-align: top;\n",
       "    }\n",
       "\n",
       "    .dataframe thead th {\n",
       "        text-align: right;\n",
       "    }\n",
       "</style>\n",
       "<table border=\"1\" class=\"dataframe\">\n",
       "  <thead>\n",
       "    <tr style=\"text-align: right;\">\n",
       "      <th></th>\n",
       "      <th>0</th>\n",
       "    </tr>\n",
       "  </thead>\n",
       "  <tbody>\n",
       "    <tr>\n",
       "      <th>0</th>\n",
       "      <td>317.279999</td>\n",
       "    </tr>\n",
       "    <tr>\n",
       "      <th>1</th>\n",
       "      <td>313.670013</td>\n",
       "    </tr>\n",
       "    <tr>\n",
       "      <th>2</th>\n",
       "      <td>314.850006</td>\n",
       "    </tr>\n",
       "    <tr>\n",
       "      <th>3</th>\n",
       "      <td>312.570007</td>\n",
       "    </tr>\n",
       "    <tr>\n",
       "      <th>4</th>\n",
       "      <td>318.529999</td>\n",
       "    </tr>\n",
       "    <tr>\n",
       "      <th>5</th>\n",
       "      <td>318.440002</td>\n",
       "    </tr>\n",
       "    <tr>\n",
       "      <th>6</th>\n",
       "      <td>320.720001</td>\n",
       "    </tr>\n",
       "    <tr>\n",
       "      <th>7</th>\n",
       "      <td>321.140015</td>\n",
       "    </tr>\n",
       "    <tr>\n",
       "      <th>8</th>\n",
       "      <td>327.109985</td>\n",
       "    </tr>\n",
       "    <tr>\n",
       "      <th>9</th>\n",
       "      <td>326.519989</td>\n",
       "    </tr>\n",
       "    <tr>\n",
       "      <th>10</th>\n",
       "      <td>322.649994</td>\n",
       "    </tr>\n",
       "    <tr>\n",
       "      <th>11</th>\n",
       "      <td>321.529999</td>\n",
       "    </tr>\n",
       "    <tr>\n",
       "      <th>12</th>\n",
       "      <td>322.399994</td>\n",
       "    </tr>\n",
       "    <tr>\n",
       "      <th>13</th>\n",
       "      <td>324.959991</td>\n",
       "    </tr>\n",
       "    <tr>\n",
       "      <th>14</th>\n",
       "      <td>327.369995</td>\n",
       "    </tr>\n",
       "    <tr>\n",
       "      <th>15</th>\n",
       "      <td>330.239990</td>\n",
       "    </tr>\n",
       "    <tr>\n",
       "      <th>16</th>\n",
       "      <td>332.130005</td>\n",
       "    </tr>\n",
       "    <tr>\n",
       "      <th>17</th>\n",
       "      <td>336.920013</td>\n",
       "    </tr>\n",
       "    <tr>\n",
       "      <th>18</th>\n",
       "      <td>339.679993</td>\n",
       "    </tr>\n",
       "    <tr>\n",
       "      <th>19</th>\n",
       "      <td>333.910004</td>\n",
       "    </tr>\n",
       "  </tbody>\n",
       "</table>\n",
       "</div>"
      ],
      "text/plain": [
       "             0\n",
       "0   317.279999\n",
       "1   313.670013\n",
       "2   314.850006\n",
       "3   312.570007\n",
       "4   318.529999\n",
       "5   318.440002\n",
       "6   320.720001\n",
       "7   321.140015\n",
       "8   327.109985\n",
       "9   326.519989\n",
       "10  322.649994\n",
       "11  321.529999\n",
       "12  322.399994\n",
       "13  324.959991\n",
       "14  327.369995\n",
       "15  330.239990\n",
       "16  332.130005\n",
       "17  336.920013\n",
       "18  339.679993\n",
       "19  333.910004"
      ]
     },
     "execution_count": 109,
     "metadata": {},
     "output_type": "execute_result"
    }
   ],
   "source": [
    "actual"
   ]
  },
  {
   "cell_type": "code",
   "execution_count": 110,
   "id": "3dddd020-4494-4f79-a44f-61b6c140f5f1",
   "metadata": {},
   "outputs": [
    {
     "data": {
      "text/html": [
       "<div>\n",
       "<style scoped>\n",
       "    .dataframe tbody tr th:only-of-type {\n",
       "        vertical-align: middle;\n",
       "    }\n",
       "\n",
       "    .dataframe tbody tr th {\n",
       "        vertical-align: top;\n",
       "    }\n",
       "\n",
       "    .dataframe thead th {\n",
       "        text-align: right;\n",
       "    }\n",
       "</style>\n",
       "<table border=\"1\" class=\"dataframe\">\n",
       "  <thead>\n",
       "    <tr style=\"text-align: right;\">\n",
       "      <th></th>\n",
       "      <th>0</th>\n",
       "    </tr>\n",
       "  </thead>\n",
       "  <tbody>\n",
       "    <tr>\n",
       "      <th>0</th>\n",
       "      <td>321.620972</td>\n",
       "    </tr>\n",
       "    <tr>\n",
       "      <th>1</th>\n",
       "      <td>327.569489</td>\n",
       "    </tr>\n",
       "    <tr>\n",
       "      <th>2</th>\n",
       "      <td>321.524719</td>\n",
       "    </tr>\n",
       "    <tr>\n",
       "      <th>3</th>\n",
       "      <td>324.942810</td>\n",
       "    </tr>\n",
       "    <tr>\n",
       "      <th>4</th>\n",
       "      <td>321.587646</td>\n",
       "    </tr>\n",
       "    <tr>\n",
       "      <th>5</th>\n",
       "      <td>330.258118</td>\n",
       "    </tr>\n",
       "    <tr>\n",
       "      <th>6</th>\n",
       "      <td>326.354462</td>\n",
       "    </tr>\n",
       "    <tr>\n",
       "      <th>7</th>\n",
       "      <td>329.944366</td>\n",
       "    </tr>\n",
       "    <tr>\n",
       "      <th>8</th>\n",
       "      <td>328.865540</td>\n",
       "    </tr>\n",
       "    <tr>\n",
       "      <th>9</th>\n",
       "      <td>336.359406</td>\n",
       "    </tr>\n",
       "    <tr>\n",
       "      <th>10</th>\n",
       "      <td>332.371216</td>\n",
       "    </tr>\n",
       "    <tr>\n",
       "      <th>11</th>\n",
       "      <td>328.592926</td>\n",
       "    </tr>\n",
       "    <tr>\n",
       "      <th>12</th>\n",
       "      <td>328.719391</td>\n",
       "    </tr>\n",
       "    <tr>\n",
       "      <th>13</th>\n",
       "      <td>329.726471</td>\n",
       "    </tr>\n",
       "    <tr>\n",
       "      <th>14</th>\n",
       "      <td>332.028046</td>\n",
       "    </tr>\n",
       "    <tr>\n",
       "      <th>15</th>\n",
       "      <td>333.878204</td>\n",
       "    </tr>\n",
       "    <tr>\n",
       "      <th>16</th>\n",
       "      <td>336.405151</td>\n",
       "    </tr>\n",
       "    <tr>\n",
       "      <th>17</th>\n",
       "      <td>337.657593</td>\n",
       "    </tr>\n",
       "    <tr>\n",
       "      <th>18</th>\n",
       "      <td>342.759186</td>\n",
       "    </tr>\n",
       "    <tr>\n",
       "      <th>19</th>\n",
       "      <td>344.315887</td>\n",
       "    </tr>\n",
       "  </tbody>\n",
       "</table>\n",
       "</div>"
      ],
      "text/plain": [
       "             0\n",
       "0   321.620972\n",
       "1   327.569489\n",
       "2   321.524719\n",
       "3   324.942810\n",
       "4   321.587646\n",
       "5   330.258118\n",
       "6   326.354462\n",
       "7   329.944366\n",
       "8   328.865540\n",
       "9   336.359406\n",
       "10  332.371216\n",
       "11  328.592926\n",
       "12  328.719391\n",
       "13  329.726471\n",
       "14  332.028046\n",
       "15  333.878204\n",
       "16  336.405151\n",
       "17  337.657593\n",
       "18  342.759186\n",
       "19  344.315887"
      ]
     },
     "execution_count": 110,
     "metadata": {},
     "output_type": "execute_result"
    }
   ],
   "source": [
    "predicted"
   ]
  },
  {
   "cell_type": "code",
   "execution_count": 111,
   "id": "d0efc0a3-cfff-4a39-b6bd-2790419a9eb6",
   "metadata": {},
   "outputs": [
    {
     "data": {
      "text/plain": [
       "57.320720066862876"
      ]
     },
     "execution_count": 111,
     "metadata": {},
     "output_type": "execute_result"
    }
   ],
   "source": [
    "mean_squared_error(actual, predicted)"
   ]
  },
  {
   "cell_type": "code",
   "execution_count": 116,
   "id": "8b31dbad-b094-4b65-b461-54cdd3579d6c",
   "metadata": {},
   "outputs": [
    {
     "data": {
      "image/png": "[encoded data removed]",
      "text/plain": [
       "<Figure size 640x480 with 1 Axes>"
      ]
     },
     "metadata": {},
     "output_type": "display_data"
    }
   ],
   "source": [
    "\n",
    "plt.plot(actual)\n",
    "plt.plot(predicted)\n",
    "\n",
    "plt.legend(['train', 'test'], loc='upper right')\n",
    "\n",
    "\n",
    "plt.show()"
   ]
  },
  {
   "cell_type": "markdown",
   "id": "c06fc921-ed04-4d93-90fb-739e68b97fb4",
   "metadata": {},
   "source": [
    "#Results\n",
    "The above graph is decent but not close to the actual values, the predicted values are slightly off the charts, as the mean squared error is 57.32 which is high."
   ]
  },
  {
   "cell_type": "markdown",
   "id": "75aef8d5-beae-4c1b-9bca-5da4770f9cfa",
   "metadata": {},
   "source": [
    "## Summary"
   ]
  },
  {
   "cell_type": "markdown",
   "id": "deaa5fb1-7eb7-4426-892c-15888b166004",
   "metadata": {},
   "source": [
    "RNN (Recurrent Neural Networks), LSTM (Long Short-Term Memory), GRU (Gated Recurrent Unit), and Conv1D (1-dimensional convolutional neural network) are all deep learning techniques commonly used for sequence data processing, including time series data analysis.\n",
    "\n",
    "RNN is a neural network that can process sequences of input data of arbitrary length. RNNs are designed to work with sequential data by taking the output from the previous time step as input to the current time step. This makes them particularly useful for time series data analysis.\n",
    "\n",
    "LSTM is a type of RNN architecture that has been specifically designed to deal with the vanishing gradient problem. The vanishing gradient problem occurs when the gradients in the backpropagation algorithm for training the neural network become so small that the weights of the network stop updating. LSTM addresses this problem by introducing a memory cell that can store information over long periods of time and by using gates that control the flow of information through the network.\n",
    "\n",
    "GRU is a simplified version of LSTM that also uses gates to control the flow of information but has fewer parameters than LSTM. GRU is faster to train and requires less memory than LSTM but may not perform as well on more complex problems.\n",
    "\n",
    "Conv1D is a type of neural network architecture that uses 1-dimensional convolutional layers to extract features from the input sequence data. Conv1D can be used for time series analysis by treating the time series data as a 1-dimensional sequence. Conv1D can learn local patterns and long-range dependencies in the input sequence data and has been shown to be effective for tasks such as anomaly detection and classification.\n",
    "\n",
    "In summary, RNN, LSTM, GRU, and Conv1D are all powerful deep learning techniques for time series analysis.\n",
    "\n",
    "**Based on the above results, GRU is a type of RNN that has a gating mechanism to selectively update information and avoid vanishing gradients. It can be especially useful in cases where long-term dependencies are important, as it can learn to retain information over a longer period of time compared to a standard RNN. It's possible that in the case of the Yahoo Finance dataset for Goldman Sachs, the GRU was better able to capture the underlying patterns and relationships in the data compared to the other models we tried.**\n",
    "\n",
    "\n",
    "\n",
    "\n",
    "\n"
   ]
  },
  {
   "cell_type": "code",
   "execution_count": null,
   "id": "5c0bc8da-cc01-4a62-a4aa-55f20c8dd56b",
   "metadata": {},
   "outputs": [],
   "source": []
  },
  {
   "cell_type": "markdown",
   "id": "c60694df-60a4-47eb-a914-30510360f5c0",
   "metadata": {},
   "source": [
    "lets use another method to build models and compare the predicting results & see if it differs"
   ]
  },
  {
   "cell_type": "markdown",
   "id": "7ef61a20-a5a7-4afe-a007-f9283d39b91a",
   "metadata": {},
   "source": [
    "# Method 2 (using tampa temps notebook as reference)"
   ]
  },
  {
   "cell_type": "code",
   "execution_count": 2,
   "id": "9d9d1d46-3423-4c74-a95a-1bf0be8a7267",
   "metadata": {},
   "outputs": [
    {
     "data": {
      "text/html": [
       "<div>\n",
       "<style scoped>\n",
       "    .dataframe tbody tr th:only-of-type {\n",
       "        vertical-align: middle;\n",
       "    }\n",
       "\n",
       "    .dataframe tbody tr th {\n",
       "        vertical-align: top;\n",
       "    }\n",
       "\n",
       "    .dataframe thead th {\n",
       "        text-align: right;\n",
       "    }\n",
       "</style>\n",
       "<table border=\"1\" class=\"dataframe\">\n",
       "  <thead>\n",
       "    <tr style=\"text-align: right;\">\n",
       "      <th></th>\n",
       "      <th>Date</th>\n",
       "      <th>Open</th>\n",
       "      <th>High</th>\n",
       "      <th>Low</th>\n",
       "      <th>Close</th>\n",
       "      <th>Adj Close</th>\n",
       "      <th>Volume</th>\n",
       "    </tr>\n",
       "  </thead>\n",
       "  <tbody>\n",
       "    <tr>\n",
       "      <th>0</th>\n",
       "      <td>2022-11-22</td>\n",
       "      <td>381.399994</td>\n",
       "      <td>385.829987</td>\n",
       "      <td>381.399994</td>\n",
       "      <td>383.869995</td>\n",
       "      <td>378.657684</td>\n",
       "      <td>2019400</td>\n",
       "    </tr>\n",
       "    <tr>\n",
       "      <th>1</th>\n",
       "      <td>2022-11-23</td>\n",
       "      <td>383.899994</td>\n",
       "      <td>388.200012</td>\n",
       "      <td>383.410004</td>\n",
       "      <td>386.250000</td>\n",
       "      <td>381.005371</td>\n",
       "      <td>1865400</td>\n",
       "    </tr>\n",
       "    <tr>\n",
       "      <th>2</th>\n",
       "      <td>2022-11-25</td>\n",
       "      <td>385.760010</td>\n",
       "      <td>389.440002</td>\n",
       "      <td>385.179993</td>\n",
       "      <td>388.859985</td>\n",
       "      <td>383.579926</td>\n",
       "      <td>1129300</td>\n",
       "    </tr>\n",
       "    <tr>\n",
       "      <th>3</th>\n",
       "      <td>2022-11-28</td>\n",
       "      <td>385.429993</td>\n",
       "      <td>388.390015</td>\n",
       "      <td>380.890015</td>\n",
       "      <td>382.359985</td>\n",
       "      <td>377.168152</td>\n",
       "      <td>2232200</td>\n",
       "    </tr>\n",
       "    <tr>\n",
       "      <th>4</th>\n",
       "      <td>2022-11-29</td>\n",
       "      <td>381.130005</td>\n",
       "      <td>384.929993</td>\n",
       "      <td>379.260010</td>\n",
       "      <td>383.709991</td>\n",
       "      <td>378.499847</td>\n",
       "      <td>1746900</td>\n",
       "    </tr>\n",
       "    <tr>\n",
       "      <th>...</th>\n",
       "      <td>...</td>\n",
       "      <td>...</td>\n",
       "      <td>...</td>\n",
       "      <td>...</td>\n",
       "      <td>...</td>\n",
       "      <td>...</td>\n",
       "      <td>...</td>\n",
       "    </tr>\n",
       "    <tr>\n",
       "      <th>96</th>\n",
       "      <td>2023-04-13</td>\n",
       "      <td>330.079987</td>\n",
       "      <td>332.940002</td>\n",
       "      <td>327.000000</td>\n",
       "      <td>332.130005</td>\n",
       "      <td>332.130005</td>\n",
       "      <td>1765500</td>\n",
       "    </tr>\n",
       "    <tr>\n",
       "      <th>97</th>\n",
       "      <td>2023-04-14</td>\n",
       "      <td>336.529999</td>\n",
       "      <td>339.630005</td>\n",
       "      <td>334.320007</td>\n",
       "      <td>336.920013</td>\n",
       "      <td>336.920013</td>\n",
       "      <td>2274400</td>\n",
       "    </tr>\n",
       "    <tr>\n",
       "      <th>98</th>\n",
       "      <td>2023-04-17</td>\n",
       "      <td>336.000000</td>\n",
       "      <td>340.450012</td>\n",
       "      <td>333.679993</td>\n",
       "      <td>339.679993</td>\n",
       "      <td>339.679993</td>\n",
       "      <td>3012100</td>\n",
       "    </tr>\n",
       "    <tr>\n",
       "      <th>99</th>\n",
       "      <td>2023-04-18</td>\n",
       "      <td>328.000000</td>\n",
       "      <td>336.549988</td>\n",
       "      <td>326.130005</td>\n",
       "      <td>333.910004</td>\n",
       "      <td>333.910004</td>\n",
       "      <td>7549500</td>\n",
       "    </tr>\n",
       "    <tr>\n",
       "      <th>100</th>\n",
       "      <td>2023-04-19</td>\n",
       "      <td>332.980011</td>\n",
       "      <td>336.989990</td>\n",
       "      <td>331.670013</td>\n",
       "      <td>336.890015</td>\n",
       "      <td>336.890015</td>\n",
       "      <td>2625400</td>\n",
       "    </tr>\n",
       "  </tbody>\n",
       "</table>\n",
       "<p>101 rows × 7 columns</p>\n",
       "</div>"
      ],
      "text/plain": [
       "           Date        Open        High         Low       Close   Adj Close  \\\n",
       "0    2022-11-22  381.399994  385.829987  381.399994  383.869995  378.657684   \n",
       "1    2022-11-23  383.899994  388.200012  383.410004  386.250000  381.005371   \n",
       "2    2022-11-25  385.760010  389.440002  385.179993  388.859985  383.579926   \n",
       "3    2022-11-28  385.429993  388.390015  380.890015  382.359985  377.168152   \n",
       "4    2022-11-29  381.130005  384.929993  379.260010  383.709991  378.499847   \n",
       "..          ...         ...         ...         ...         ...         ...   \n",
       "96   2023-04-13  330.079987  332.940002  327.000000  332.130005  332.130005   \n",
       "97   2023-04-14  336.529999  339.630005  334.320007  336.920013  336.920013   \n",
       "98   2023-04-17  336.000000  340.450012  333.679993  339.679993  339.679993   \n",
       "99   2023-04-18  328.000000  336.549988  326.130005  333.910004  333.910004   \n",
       "100  2023-04-19  332.980011  336.989990  331.670013  336.890015  336.890015   \n",
       "\n",
       "      Volume  \n",
       "0    2019400  \n",
       "1    1865400  \n",
       "2    1129300  \n",
       "3    2232200  \n",
       "4    1746900  \n",
       "..       ...  \n",
       "96   1765500  \n",
       "97   2274400  \n",
       "98   3012100  \n",
       "99   7549500  \n",
       "100  2625400  \n",
       "\n",
       "[101 rows x 7 columns]"
      ]
     },
     "execution_count": 2,
     "metadata": {},
     "output_type": "execute_result"
    }
   ],
   "source": [
    "import pandas as pd\n",
    "\n",
    "\n",
    "GS = pd.read_csv('GS (9).csv')\n",
    "\n",
    "GS"
   ]
  },
  {
   "cell_type": "code",
   "execution_count": 3,
   "id": "c541cee7-8ffb-4a7d-a052-07105504a300",
   "metadata": {},
   "outputs": [
    {
     "name": "stdout",
     "output_type": "stream",
     "text": [
      "<class 'pandas.core.frame.DataFrame'>\n",
      "RangeIndex: 101 entries, 0 to 100\n",
      "Data columns (total 7 columns):\n",
      " #   Column     Non-Null Count  Dtype  \n",
      "---  ------     --------------  -----  \n",
      " 0   Date       101 non-null    object \n",
      " 1   Open       101 non-null    float64\n",
      " 2   High       101 non-null    float64\n",
      " 3   Low        101 non-null    float64\n",
      " 4   Close      101 non-null    float64\n",
      " 5   Adj Close  101 non-null    float64\n",
      " 6   Volume     101 non-null    int64  \n",
      "dtypes: float64(5), int64(1), object(1)\n",
      "memory usage: 5.6+ KB\n"
     ]
    }
   ],
   "source": [
    "GS.info()"
   ]
  },
  {
   "cell_type": "code",
   "execution_count": 4,
   "id": "d46967c0-fa9e-4c99-a415-b5647649867b",
   "metadata": {},
   "outputs": [
    {
     "data": {
      "image/png": "[encoded data removed]",
      "text/plain": [
       "<Figure size 640x480 with 1 Axes>"
      ]
     },
     "metadata": {},
     "output_type": "display_data"
    }
   ],
   "source": [
    "#Plot temp\n",
    "\n",
    "plt.plot(GS['Close'])\n",
    "plt.show()"
   ]
  },
  {
   "cell_type": "code",
   "execution_count": 5,
   "id": "6b8fde8a-39c4-4ca8-bd26-9e44502dba2d",
   "metadata": {},
   "outputs": [],
   "source": [
    "GS = GS[['Close']] "
   ]
  },
  {
   "cell_type": "code",
   "execution_count": 6,
   "id": "58e6a6b2-44d9-46a0-9020-9a5751b0de18",
   "metadata": {},
   "outputs": [
    {
     "data": {
      "text/plain": [
       "(101, 1)"
      ]
     },
     "execution_count": 6,
     "metadata": {},
     "output_type": "execute_result"
    }
   ],
   "source": [
    "GS.shape"
   ]
  },
  {
   "cell_type": "code",
   "execution_count": 7,
   "id": "df613212-e8d5-48c6-9c9d-0476f9beb96d",
   "metadata": {},
   "outputs": [
    {
     "data": {
      "text/plain": [
       "101"
      ]
     },
     "execution_count": 7,
     "metadata": {},
     "output_type": "execute_result"
    }
   ],
   "source": [
    "row_count = GS.shape[0] # store the number of obersvations (daily temperature readings)\n",
    "row_count"
   ]
  },
  {
   "cell_type": "code",
   "execution_count": 8,
   "id": "9e4574f4-b237-42d9-9a36-52db995a3d45",
   "metadata": {},
   "outputs": [
    {
     "data": {
      "text/plain": [
       "(101, 1)"
      ]
     },
     "execution_count": 8,
     "metadata": {},
     "output_type": "execute_result"
    }
   ],
   "source": [
    "stocks = GS.to_numpy() # to make things easier, we create a numpy array from our dataframe of temperatures\n",
    "stocks.shape"
   ]
  },
  {
   "cell_type": "code",
   "execution_count": 9,
   "id": "7aed09cf-800c-4be8-be06-c1948ff5c3c1",
   "metadata": {},
   "outputs": [],
   "source": [
    "sequence_length = 10  # here, I create a variable to hold the number of days that will be in a sequence. This makes it easier to change later."
   ]
  },
  {
   "cell_type": "code",
   "execution_count": 10,
   "id": "aec613c2-d185-4629-9fda-d72b044410d3",
   "metadata": {},
   "outputs": [
    {
     "data": {
      "text/plain": [
       "(100, 1)"
      ]
     },
     "execution_count": 10,
     "metadata": {},
     "output_type": "execute_result"
    }
   ],
   "source": [
    "stocks = stocks[row_count % sequence_length: ] # Since our data may not be a multiple of sequence_length, we will ignore \n",
    "# the first number of days in order to make the total a number divisible by sequence length\n",
    "stocks.shape"
   ]
  },
  {
   "cell_type": "code",
   "execution_count": 11,
   "id": "93ac71a4-d663-4b75-b8aa-17e10344f1c7",
   "metadata": {},
   "outputs": [
    {
     "data": {
      "text/plain": [
       "(100, 1)"
      ]
     },
     "execution_count": 11,
     "metadata": {},
     "output_type": "execute_result"
    }
   ],
   "source": [
    "stocks.shape"
   ]
  },
  {
   "cell_type": "code",
   "execution_count": 12,
   "id": "6034792e-cda0-4bc5-b5ce-2410e5867816",
   "metadata": {},
   "outputs": [
    {
     "data": {
      "text/plain": [
       "array([[386.25    , 388.859985, 382.359985, 383.709991, 386.149994,\n",
       "        383.809998, 380.579987, 371.540009, 362.910004, 359.920013],\n",
       "       [358.079987, 359.140015, 363.179993, 368.690002, 360.380005,\n",
       "        349.829987, 346.350006, 344.609985, 344.48999 , 350.160004],\n",
       "       [345.579987, 345.51001 , 341.970001, 340.869995, 343.429993,\n",
       "        343.380005, 346.220001, 347.700012, 343.76001 , 348.079987],\n",
       "       [353.      , 357.359985, 364.480011, 369.940002, 374.      ,\n",
       "        349.920013, 349.089996, 350.75    , 341.839996, 349.140015],\n",
       "       [348.329987, 349.630005, 354.970001, 353.700012, 357.459991,\n",
       "        365.809998, 365.709991, 369.470001, 369.950012, 370.799988],\n",
       "       [374.399994, 375.100006, 367.98999 , 371.279999, 374.019989,\n",
       "        371.779999, 374.339996, 370.200012, 368.5     , 361.119995],\n",
       "       [360.890015, 363.540009, 363.850006, 365.529999, 351.649994,\n",
       "        346.230011, 349.100006, 357.089996, 357.049988, 346.079987],\n",
       "       [349.290009, 342.089996, 327.670013, 315.51001 , 322.149994,\n",
       "        312.190002, 315.089996, 303.540009, 309.529999, 317.279999],\n",
       "       [313.670013, 314.850006, 312.570007, 318.529999, 318.440002,\n",
       "        320.720001, 321.140015, 327.109985, 326.519989, 322.649994],\n",
       "       [321.529999, 322.399994, 324.959991, 327.369995, 330.23999 ,\n",
       "        332.130005, 336.920013, 339.679993, 333.910004, 336.890015]])"
      ]
     },
     "execution_count": 12,
     "metadata": {},
     "output_type": "execute_result"
    }
   ],
   "source": [
    "stocks = stocks.reshape(row_count //sequence_length,sequence_length) # note that temps are a multiple of sequence length, we can split the data into rows of sequence length.\n",
    "stocks"
   ]
  },
  {
   "cell_type": "code",
   "execution_count": 13,
   "id": "2953b302-6c0f-4b54-873d-a122e36f8d55",
   "metadata": {},
   "outputs": [],
   "source": [
    "# we can now see that our days have been organized into rows of sequence length. "
   ]
  },
  {
   "cell_type": "code",
   "execution_count": 14,
   "id": "0b50ac47-0b93-4f1e-b15f-9740fa4c4cef",
   "metadata": {},
   "outputs": [],
   "source": [
    "# create our X and y. \n",
    "# X will be the 9 days prior...\n",
    "X = stocks[:, :-1] # all rows, all columns except the last one\n",
    "# y will be the 10th day (what we are trying to predict)\n",
    "y = stocks[:, -1] # all rows, only the last column"
   ]
  },
  {
   "cell_type": "code",
   "execution_count": 15,
   "id": "8140e098-ef28-4962-b41a-1a1e0c67ce75",
   "metadata": {},
   "outputs": [],
   "source": [
    "from sklearn.model_selection import train_test_split\n",
    "\n",
    "X_train, X_test, y_train, y_test = train_test_split(X, y, test_size=0.3)"
   ]
  },
  {
   "cell_type": "code",
   "execution_count": 16,
   "id": "124153e9-8283-4ac8-b79e-b11c55195600",
   "metadata": {},
   "outputs": [
    {
     "name": "stdout",
     "output_type": "stream",
     "text": [
      "(7, 9, 1)\n",
      "(3, 9, 1)\n"
     ]
    }
   ],
   "source": [
    "X_train = np.reshape(X_train, (X_train.shape[0], X_train.shape[1], 1))\n",
    "X_test = np.reshape(X_test, (X_test.shape[0], X_test.shape[1], 1))\n",
    "\n",
    "print(X_train.shape)\n",
    "print(X_test.shape)"
   ]
  },
  {
   "cell_type": "code",
   "execution_count": 17,
   "id": "3d66cedd-64fe-4994-9862-c7432387cc2e",
   "metadata": {},
   "outputs": [
    {
     "name": "stdout",
     "output_type": "stream",
     "text": [
      "Model: \"sequential\"\n",
      "_________________________________________________________________\n",
      " Layer (type)                Output Shape              Param #   \n",
      "=================================================================\n",
      " simple_rnn (SimpleRNN)      (None, 64)                4224      \n",
      "                                                                 \n",
      " dense (Dense)               (None, 1)                 65        \n",
      "                                                                 \n",
      "=================================================================\n",
      "Total params: 4,289\n",
      "Trainable params: 4,289\n",
      "Non-trainable params: 0\n",
      "_________________________________________________________________\n"
     ]
    }
   ],
   "source": [
    "from tensorflow.keras import Sequential\n",
    "from tensorflow.keras.layers import Dense, LSTM, SimpleRNN, GRU, Conv1D\n",
    "\n",
    "n_steps = sequence_length - 1\n",
    "n_inputs = 1\n",
    "\n",
    "model = Sequential(\n",
    "    [\n",
    "        SimpleRNN(64, input_shape=[n_steps, n_inputs]),\n",
    "        Dense(1, activation=None)\n",
    "    ]\n",
    ")\n",
    "model.summary()"
   ]
  },
  {
   "cell_type": "code",
   "execution_count": 18,
   "id": "c7d73914-7ce8-4ecb-8cf4-62673401e54c",
   "metadata": {},
   "outputs": [],
   "source": [
    "# If multiclass, use \"sparse_categorical_crossentropy\" as the loss function\n",
    "model.compile(\n",
    "    loss=\"mean_squared_error\", \n",
    "    optimizer=tf.keras.optimizers.Nadam(learning_rate=0.001), \n",
    "    metrics=[tf.keras.metrics.RootMeanSquaredError()]\n",
    ")"
   ]
  },
  {
   "cell_type": "code",
   "execution_count": 19,
   "id": "cb9146e6-eadf-40c9-b2ad-760d2cc76f4f",
   "metadata": {},
   "outputs": [
    {
     "name": "stdout",
     "output_type": "stream",
     "text": [
      "Epoch 1/600\n",
      "1/1 [==============================] - 3s 3s/step - loss: 120533.2500 - root_mean_squared_error: 347.1790 - val_loss: 118971.9609 - val_root_mean_squared_error: 344.9231\n",
      "Epoch 2/600\n",
      "1/1 [==============================] - 0s 46ms/step - loss: 120505.7891 - root_mean_squared_error: 347.1394 - val_loss: 118944.5312 - val_root_mean_squared_error: 344.8834\n",
      "Epoch 3/600\n",
      "1/1 [==============================] - 0s 43ms/step - loss: 120478.1875 - root_mean_squared_error: 347.0997 - val_loss: 118915.7891 - val_root_mean_squared_error: 344.8417\n",
      "Epoch 4/600\n",
      "1/1 [==============================] - 0s 47ms/step - loss: 120449.2500 - root_mean_squared_error: 347.0580 - val_loss: 118885.6250 - val_root_mean_squared_error: 344.7979\n",
      "Epoch 5/600\n",
      "1/1 [==============================] - 0s 44ms/step - loss: 120418.8750 - root_mean_squared_error: 347.0142 - val_loss: 118853.6875 - val_root_mean_squared_error: 344.7516\n",
      "Epoch 6/600\n",
      "1/1 [==============================] - 0s 42ms/step - loss: 120386.7109 - root_mean_squared_error: 346.9679 - val_loss: 118818.9297 - val_root_mean_squared_error: 344.7012\n",
      "Epoch 7/600\n",
      "1/1 [==============================] - 0s 46ms/step - loss: 120351.6797 - root_mean_squared_error: 346.9174 - val_loss: 118778.0312 - val_root_mean_squared_error: 344.6419\n",
      "Epoch 8/600\n",
      "1/1 [==============================] - 0s 43ms/step - loss: 120310.4141 - root_mean_squared_error: 346.8579 - val_loss: 118721.8359 - val_root_mean_squared_error: 344.5604\n",
      "Epoch 9/600\n",
      "1/1 [==============================] - 0s 43ms/step - loss: 120253.6797 - root_mean_squared_error: 346.7761 - val_loss: 118631.5000 - val_root_mean_squared_error: 344.4292\n",
      "Epoch 10/600\n",
      "1/1 [==============================] - 0s 44ms/step - loss: 120162.6094 - root_mean_squared_error: 346.6448 - val_loss: 118496.7266 - val_root_mean_squared_error: 344.2335\n",
      "Epoch 11/600\n",
      "1/1 [==============================] - 0s 46ms/step - loss: 120027.0547 - root_mean_squared_error: 346.4492 - val_loss: 118360.4766 - val_root_mean_squared_error: 344.0356\n",
      "Epoch 12/600\n",
      "1/1 [==============================] - 0s 48ms/step - loss: 119890.1953 - root_mean_squared_error: 346.2516 - val_loss: 118268.3672 - val_root_mean_squared_error: 343.9017\n",
      "Epoch 13/600\n",
      "1/1 [==============================] - 0s 45ms/step - loss: 119797.6328 - root_mean_squared_error: 346.1180 - val_loss: 118206.3203 - val_root_mean_squared_error: 343.8115\n",
      "Epoch 14/600\n",
      "1/1 [==============================] - 0s 51ms/step - loss: 119735.2344 - root_mean_squared_error: 346.0278 - val_loss: 118156.2422 - val_root_mean_squared_error: 343.7386\n",
      "Epoch 15/600\n",
      "1/1 [==============================] - 0s 45ms/step - loss: 119684.8203 - root_mean_squared_error: 345.9549 - val_loss: 118111.0703 - val_root_mean_squared_error: 343.6729\n",
      "Epoch 16/600\n",
      "1/1 [==============================] - 0s 49ms/step - loss: 119639.3594 - root_mean_squared_error: 345.8892 - val_loss: 118068.1016 - val_root_mean_squared_error: 343.6104\n",
      "Epoch 17/600\n",
      "1/1 [==============================] - 0s 47ms/step - loss: 119596.1094 - root_mean_squared_error: 345.8267 - val_loss: 118026.1484 - val_root_mean_squared_error: 343.5493\n",
      "Epoch 18/600\n",
      "1/1 [==============================] - 0s 44ms/step - loss: 119553.8594 - root_mean_squared_error: 345.7656 - val_loss: 117984.5703 - val_root_mean_squared_error: 343.4888\n",
      "Epoch 19/600\n",
      "1/1 [==============================] - 0s 46ms/step - loss: 119512.0078 - root_mean_squared_error: 345.7051 - val_loss: 117943.1172 - val_root_mean_squared_error: 343.4285\n",
      "Epoch 20/600\n",
      "1/1 [==============================] - 0s 46ms/step - loss: 119470.2734 - root_mean_squared_error: 345.6447 - val_loss: 117901.5859 - val_root_mean_squared_error: 343.3680\n",
      "Epoch 21/600\n",
      "1/1 [==============================] - 0s 45ms/step - loss: 119428.4844 - root_mean_squared_error: 345.5843 - val_loss: 117859.9375 - val_root_mean_squared_error: 343.3073\n",
      "Epoch 22/600\n",
      "1/1 [==============================] - 0s 45ms/step - loss: 119386.5547 - root_mean_squared_error: 345.5236 - val_loss: 117818.1250 - val_root_mean_squared_error: 343.2465\n",
      "Epoch 23/600\n",
      "1/1 [==============================] - 0s 46ms/step - loss: 119344.4453 - root_mean_squared_error: 345.4626 - val_loss: 117776.1016 - val_root_mean_squared_error: 343.1852\n",
      "Epoch 24/600\n",
      "1/1 [==============================] - 0s 46ms/step - loss: 119302.1484 - root_mean_squared_error: 345.4014 - val_loss: 117733.8984 - val_root_mean_squared_error: 343.1237\n",
      "Epoch 25/600\n",
      "1/1 [==============================] - 0s 46ms/step - loss: 119259.6641 - root_mean_squared_error: 345.3399 - val_loss: 117691.4766 - val_root_mean_squared_error: 343.0619\n",
      "Epoch 26/600\n",
      "1/1 [==============================] - 0s 44ms/step - loss: 119216.9766 - root_mean_squared_error: 345.2781 - val_loss: 117648.8828 - val_root_mean_squared_error: 342.9998\n",
      "Epoch 27/600\n",
      "1/1 [==============================] - 0s 46ms/step - loss: 119174.1094 - root_mean_squared_error: 345.2160 - val_loss: 117606.1250 - val_root_mean_squared_error: 342.9375\n",
      "Epoch 28/600\n",
      "1/1 [==============================] - 0s 46ms/step - loss: 119131.0703 - root_mean_squared_error: 345.1537 - val_loss: 117563.2188 - val_root_mean_squared_error: 342.8749\n",
      "Epoch 29/600\n",
      "1/1 [==============================] - 0s 46ms/step - loss: 119087.8672 - root_mean_squared_error: 345.0911 - val_loss: 117520.1562 - val_root_mean_squared_error: 342.8121\n",
      "Epoch 30/600\n",
      "1/1 [==============================] - 0s 44ms/step - loss: 119044.5391 - root_mean_squared_error: 345.0283 - val_loss: 117476.9688 - val_root_mean_squared_error: 342.7491\n",
      "Epoch 31/600\n",
      "1/1 [==============================] - 0s 45ms/step - loss: 119001.0625 - root_mean_squared_error: 344.9653 - val_loss: 117433.6641 - val_root_mean_squared_error: 342.6859\n",
      "Epoch 32/600\n",
      "1/1 [==============================] - 0s 46ms/step - loss: 118957.4609 - root_mean_squared_error: 344.9021 - val_loss: 117390.2500 - val_root_mean_squared_error: 342.6226\n",
      "Epoch 33/600\n",
      "1/1 [==============================] - 0s 45ms/step - loss: 118913.7656 - root_mean_squared_error: 344.8387 - val_loss: 117346.7422 - val_root_mean_squared_error: 342.5591\n",
      "Epoch 34/600\n",
      "1/1 [==============================] - 0s 44ms/step - loss: 118869.9844 - root_mean_squared_error: 344.7753 - val_loss: 117303.1562 - val_root_mean_squared_error: 342.4955\n",
      "Epoch 35/600\n",
      "1/1 [==============================] - 0s 45ms/step - loss: 118826.1016 - root_mean_squared_error: 344.7116 - val_loss: 117259.4688 - val_root_mean_squared_error: 342.4317\n",
      "Epoch 36/600\n",
      "1/1 [==============================] - 0s 47ms/step - loss: 118782.1328 - root_mean_squared_error: 344.6478 - val_loss: 117215.7266 - val_root_mean_squared_error: 342.3678\n",
      "Epoch 37/600\n",
      "1/1 [==============================] - 0s 41ms/step - loss: 118738.1172 - root_mean_squared_error: 344.5840 - val_loss: 117171.9375 - val_root_mean_squared_error: 342.3039\n",
      "Epoch 38/600\n",
      "1/1 [==============================] - 0s 48ms/step - loss: 118694.0156 - root_mean_squared_error: 344.5200 - val_loss: 117128.0859 - val_root_mean_squared_error: 342.2398\n",
      "Epoch 39/600\n",
      "1/1 [==============================] - 0s 40ms/step - loss: 118649.8750 - root_mean_squared_error: 344.4559 - val_loss: 117084.1797 - val_root_mean_squared_error: 342.1757\n",
      "Epoch 40/600\n",
      "1/1 [==============================] - 0s 41ms/step - loss: 118605.6953 - root_mean_squared_error: 344.3918 - val_loss: 117040.2422 - val_root_mean_squared_error: 342.1115\n",
      "Epoch 41/600\n",
      "1/1 [==============================] - 0s 41ms/step - loss: 118561.4609 - root_mean_squared_error: 344.3275 - val_loss: 116996.2578 - val_root_mean_squared_error: 342.0471\n",
      "Epoch 42/600\n",
      "1/1 [==============================] - 0s 42ms/step - loss: 118517.1953 - root_mean_squared_error: 344.2633 - val_loss: 116952.2500 - val_root_mean_squared_error: 341.9828\n",
      "Epoch 43/600\n",
      "1/1 [==============================] - 0s 42ms/step - loss: 118472.8906 - root_mean_squared_error: 344.1989 - val_loss: 116908.2109 - val_root_mean_squared_error: 341.9184\n",
      "Epoch 44/600\n",
      "1/1 [==============================] - 0s 45ms/step - loss: 118428.5703 - root_mean_squared_error: 344.1345 - val_loss: 116864.1562 - val_root_mean_squared_error: 341.8540\n",
      "Epoch 45/600\n",
      "1/1 [==============================] - 0s 44ms/step - loss: 118384.2266 - root_mean_squared_error: 344.0701 - val_loss: 116820.0859 - val_root_mean_squared_error: 341.7895\n",
      "Epoch 46/600\n",
      "1/1 [==============================] - 0s 42ms/step - loss: 118339.8594 - root_mean_squared_error: 344.0056 - val_loss: 116775.9766 - val_root_mean_squared_error: 341.7250\n",
      "Epoch 47/600\n",
      "1/1 [==============================] - 0s 52ms/step - loss: 118295.4844 - root_mean_squared_error: 343.9411 - val_loss: 116731.8828 - val_root_mean_squared_error: 341.6605\n",
      "Epoch 48/600\n",
      "1/1 [==============================] - 0s 54ms/step - loss: 118251.0781 - root_mean_squared_error: 343.8766 - val_loss: 116687.7734 - val_root_mean_squared_error: 341.5959\n",
      "Epoch 49/600\n",
      "1/1 [==============================] - 0s 44ms/step - loss: 118206.6797 - root_mean_squared_error: 343.8120 - val_loss: 116643.6484 - val_root_mean_squared_error: 341.5313\n",
      "Epoch 50/600\n",
      "1/1 [==============================] - 0s 46ms/step - loss: 118162.2656 - root_mean_squared_error: 343.7474 - val_loss: 116599.5312 - val_root_mean_squared_error: 341.4667\n",
      "Epoch 51/600\n",
      "1/1 [==============================] - 0s 46ms/step - loss: 118117.8516 - root_mean_squared_error: 343.6828 - val_loss: 116555.3984 - val_root_mean_squared_error: 341.4021\n",
      "Epoch 52/600\n",
      "1/1 [==============================] - 0s 46ms/step - loss: 118073.4297 - root_mean_squared_error: 343.6181 - val_loss: 116511.2734 - val_root_mean_squared_error: 341.3375\n",
      "Epoch 53/600\n",
      "1/1 [==============================] - 0s 43ms/step - loss: 118029.0156 - root_mean_squared_error: 343.5535 - val_loss: 116467.1328 - val_root_mean_squared_error: 341.2728\n",
      "Epoch 54/600\n",
      "1/1 [==============================] - 0s 47ms/step - loss: 117984.6016 - root_mean_squared_error: 343.4889 - val_loss: 116423.0234 - val_root_mean_squared_error: 341.2082\n",
      "Epoch 55/600\n",
      "1/1 [==============================] - 0s 48ms/step - loss: 117940.1797 - root_mean_squared_error: 343.4242 - val_loss: 116378.8750 - val_root_mean_squared_error: 341.1435\n",
      "Epoch 56/600\n",
      "1/1 [==============================] - 0s 46ms/step - loss: 117895.7578 - root_mean_squared_error: 343.3595 - val_loss: 116334.7500 - val_root_mean_squared_error: 341.0788\n",
      "Epoch 57/600\n",
      "1/1 [==============================] - 0s 47ms/step - loss: 117851.3594 - root_mean_squared_error: 343.2949 - val_loss: 116290.6484 - val_root_mean_squared_error: 341.0142\n",
      "Epoch 58/600\n",
      "1/1 [==============================] - 0s 67ms/step - loss: 117806.9453 - root_mean_squared_error: 343.2302 - val_loss: 116246.5312 - val_root_mean_squared_error: 340.9495\n",
      "Epoch 59/600\n",
      "1/1 [==============================] - 0s 76ms/step - loss: 117762.5391 - root_mean_squared_error: 343.1655 - val_loss: 116202.4297 - val_root_mean_squared_error: 340.8848\n",
      "Epoch 60/600\n",
      "1/1 [==============================] - 0s 63ms/step - loss: 117718.1406 - root_mean_squared_error: 343.1008 - val_loss: 116158.3359 - val_root_mean_squared_error: 340.8201\n",
      "Epoch 61/600\n",
      "1/1 [==============================] - 0s 52ms/step - loss: 117673.7578 - root_mean_squared_error: 343.0361 - val_loss: 116114.2500 - val_root_mean_squared_error: 340.7554\n",
      "Epoch 62/600\n",
      "1/1 [==============================] - 0s 59ms/step - loss: 117629.3828 - root_mean_squared_error: 342.9714 - val_loss: 116070.1641 - val_root_mean_squared_error: 340.6907\n",
      "Epoch 63/600\n",
      "1/1 [==============================] - 0s 46ms/step - loss: 117585.0156 - root_mean_squared_error: 342.9067 - val_loss: 116026.0938 - val_root_mean_squared_error: 340.6260\n",
      "Epoch 64/600\n",
      "1/1 [==============================] - 0s 47ms/step - loss: 117540.6406 - root_mean_squared_error: 342.8420 - val_loss: 115982.0312 - val_root_mean_squared_error: 340.5613\n",
      "Epoch 65/600\n",
      "1/1 [==============================] - 0s 47ms/step - loss: 117496.2969 - root_mean_squared_error: 342.7773 - val_loss: 115937.9766 - val_root_mean_squared_error: 340.4967\n",
      "Epoch 66/600\n",
      "1/1 [==============================] - 0s 47ms/step - loss: 117451.9609 - root_mean_squared_error: 342.7126 - val_loss: 115893.9375 - val_root_mean_squared_error: 340.4320\n",
      "Epoch 67/600\n",
      "1/1 [==============================] - 0s 45ms/step - loss: 117407.6328 - root_mean_squared_error: 342.6480 - val_loss: 115849.9141 - val_root_mean_squared_error: 340.3673\n",
      "Epoch 68/600\n",
      "1/1 [==============================] - 0s 50ms/step - loss: 117363.3047 - root_mean_squared_error: 342.5833 - val_loss: 115805.8984 - val_root_mean_squared_error: 340.3026\n",
      "Epoch 69/600\n",
      "1/1 [==============================] - 0s 48ms/step - loss: 117319.0078 - root_mean_squared_error: 342.5186 - val_loss: 115761.8828 - val_root_mean_squared_error: 340.2380\n",
      "Epoch 70/600\n",
      "1/1 [==============================] - 0s 51ms/step - loss: 117274.7109 - root_mean_squared_error: 342.4539 - val_loss: 115717.8984 - val_root_mean_squared_error: 340.1733\n",
      "Epoch 71/600\n",
      "1/1 [==============================] - 0s 44ms/step - loss: 117230.4219 - root_mean_squared_error: 342.3893 - val_loss: 115673.9141 - val_root_mean_squared_error: 340.1087\n",
      "Epoch 72/600\n",
      "1/1 [==============================] - 0s 51ms/step - loss: 117186.1484 - root_mean_squared_error: 342.3246 - val_loss: 115629.9453 - val_root_mean_squared_error: 340.0440\n",
      "Epoch 73/600\n",
      "1/1 [==============================] - 0s 45ms/step - loss: 117141.8828 - root_mean_squared_error: 342.2599 - val_loss: 115585.9766 - val_root_mean_squared_error: 339.9794\n",
      "Epoch 74/600\n",
      "1/1 [==============================] - 0s 45ms/step - loss: 117097.6406 - root_mean_squared_error: 342.1953 - val_loss: 115542.0312 - val_root_mean_squared_error: 339.9147\n",
      "Epoch 75/600\n",
      "1/1 [==============================] - 0s 42ms/step - loss: 117053.3984 - root_mean_squared_error: 342.1307 - val_loss: 115498.1016 - val_root_mean_squared_error: 339.8501\n",
      "Epoch 76/600\n",
      "1/1 [==============================] - 0s 43ms/step - loss: 117009.1797 - root_mean_squared_error: 342.0660 - val_loss: 115454.1875 - val_root_mean_squared_error: 339.7855\n",
      "Epoch 77/600\n",
      "1/1 [==============================] - 0s 41ms/step - loss: 116964.9766 - root_mean_squared_error: 342.0014 - val_loss: 115410.2734 - val_root_mean_squared_error: 339.7209\n",
      "Epoch 78/600\n",
      "1/1 [==============================] - 0s 41ms/step - loss: 116920.7656 - root_mean_squared_error: 341.9368 - val_loss: 115366.3828 - val_root_mean_squared_error: 339.6563\n",
      "Epoch 79/600\n",
      "1/1 [==============================] - 0s 41ms/step - loss: 116876.5859 - root_mean_squared_error: 341.8722 - val_loss: 115322.5000 - val_root_mean_squared_error: 339.5917\n",
      "Epoch 80/600\n",
      "1/1 [==============================] - 0s 41ms/step - loss: 116832.4141 - root_mean_squared_error: 341.8076 - val_loss: 115278.6250 - val_root_mean_squared_error: 339.5271\n",
      "Epoch 81/600\n",
      "1/1 [==============================] - 0s 44ms/step - loss: 116788.2578 - root_mean_squared_error: 341.7430 - val_loss: 115234.7734 - val_root_mean_squared_error: 339.4625\n",
      "Epoch 82/600\n",
      "1/1 [==============================] - 0s 39ms/step - loss: 116744.1094 - root_mean_squared_error: 341.6784 - val_loss: 115190.9297 - val_root_mean_squared_error: 339.3979\n",
      "Epoch 83/600\n",
      "1/1 [==============================] - 0s 39ms/step - loss: 116699.9844 - root_mean_squared_error: 341.6138 - val_loss: 115147.0938 - val_root_mean_squared_error: 339.3333\n",
      "Epoch 84/600\n",
      "1/1 [==============================] - 0s 39ms/step - loss: 116655.8594 - root_mean_squared_error: 341.5492 - val_loss: 115103.2812 - val_root_mean_squared_error: 339.2687\n",
      "Epoch 85/600\n",
      "1/1 [==============================] - 0s 39ms/step - loss: 116611.7500 - root_mean_squared_error: 341.4846 - val_loss: 115059.4766 - val_root_mean_squared_error: 339.2042\n",
      "Epoch 86/600\n",
      "1/1 [==============================] - 0s 39ms/step - loss: 116567.6641 - root_mean_squared_error: 341.4201 - val_loss: 115015.6875 - val_root_mean_squared_error: 339.1396\n",
      "Epoch 87/600\n",
      "1/1 [==============================] - 0s 39ms/step - loss: 116523.5703 - root_mean_squared_error: 341.3555 - val_loss: 114971.8984 - val_root_mean_squared_error: 339.0751\n",
      "Epoch 88/600\n",
      "1/1 [==============================] - 0s 37ms/step - loss: 116479.5000 - root_mean_squared_error: 341.2909 - val_loss: 114928.1484 - val_root_mean_squared_error: 339.0105\n",
      "Epoch 89/600\n",
      "1/1 [==============================] - 0s 38ms/step - loss: 116435.4453 - root_mean_squared_error: 341.2264 - val_loss: 114884.3828 - val_root_mean_squared_error: 338.9460\n",
      "Epoch 90/600\n",
      "1/1 [==============================] - 0s 37ms/step - loss: 116391.4141 - root_mean_squared_error: 341.1619 - val_loss: 114840.6484 - val_root_mean_squared_error: 338.8815\n",
      "Epoch 91/600\n",
      "1/1 [==============================] - 0s 38ms/step - loss: 116347.3750 - root_mean_squared_error: 341.0973 - val_loss: 114796.9141 - val_root_mean_squared_error: 338.8169\n",
      "Epoch 92/600\n",
      "1/1 [==============================] - 0s 37ms/step - loss: 116303.3594 - root_mean_squared_error: 341.0328 - val_loss: 114753.2109 - val_root_mean_squared_error: 338.7524\n",
      "Epoch 93/600\n",
      "1/1 [==============================] - 0s 38ms/step - loss: 116259.3594 - root_mean_squared_error: 340.9683 - val_loss: 114709.5000 - val_root_mean_squared_error: 338.6879\n",
      "Epoch 94/600\n",
      "1/1 [==============================] - 0s 38ms/step - loss: 116215.3672 - root_mean_squared_error: 340.9037 - val_loss: 114665.8125 - val_root_mean_squared_error: 338.6234\n",
      "Epoch 95/600\n",
      "1/1 [==============================] - 0s 38ms/step - loss: 116171.3750 - root_mean_squared_error: 340.8392 - val_loss: 114622.1484 - val_root_mean_squared_error: 338.5589\n",
      "Epoch 96/600\n",
      "1/1 [==============================] - 0s 36ms/step - loss: 116127.4297 - root_mean_squared_error: 340.7747 - val_loss: 114578.4688 - val_root_mean_squared_error: 338.4944\n",
      "Epoch 97/600\n",
      "1/1 [==============================] - 0s 38ms/step - loss: 116083.4609 - root_mean_squared_error: 340.7102 - val_loss: 114534.8203 - val_root_mean_squared_error: 338.4299\n",
      "Epoch 98/600\n",
      "1/1 [==============================] - 0s 38ms/step - loss: 116039.5391 - root_mean_squared_error: 340.6458 - val_loss: 114491.1875 - val_root_mean_squared_error: 338.3655\n",
      "Epoch 99/600\n",
      "1/1 [==============================] - 0s 39ms/step - loss: 115995.6094 - root_mean_squared_error: 340.5813 - val_loss: 114447.5625 - val_root_mean_squared_error: 338.3010\n",
      "Epoch 100/600\n",
      "1/1 [==============================] - 0s 38ms/step - loss: 115951.6953 - root_mean_squared_error: 340.5168 - val_loss: 114403.9609 - val_root_mean_squared_error: 338.2365\n",
      "Epoch 101/600\n",
      "1/1 [==============================] - 0s 42ms/step - loss: 115907.7891 - root_mean_squared_error: 340.4523 - val_loss: 114360.3516 - val_root_mean_squared_error: 338.1721\n",
      "Epoch 102/600\n",
      "1/1 [==============================] - 0s 36ms/step - loss: 115863.9141 - root_mean_squared_error: 340.3879 - val_loss: 114316.7734 - val_root_mean_squared_error: 338.1076\n",
      "Epoch 103/600\n",
      "1/1 [==============================] - 0s 37ms/step - loss: 115820.0234 - root_mean_squared_error: 340.3234 - val_loss: 114273.1953 - val_root_mean_squared_error: 338.0432\n",
      "Epoch 104/600\n",
      "1/1 [==============================] - 0s 36ms/step - loss: 115776.1719 - root_mean_squared_error: 340.2590 - val_loss: 114229.6328 - val_root_mean_squared_error: 337.9788\n",
      "Epoch 105/600\n",
      "1/1 [==============================] - 0s 37ms/step - loss: 115732.3203 - root_mean_squared_error: 340.1945 - val_loss: 114186.1016 - val_root_mean_squared_error: 337.9143\n",
      "Epoch 106/600\n",
      "1/1 [==============================] - 0s 37ms/step - loss: 115688.4844 - root_mean_squared_error: 340.1301 - val_loss: 114142.5625 - val_root_mean_squared_error: 337.8499\n",
      "Epoch 107/600\n",
      "1/1 [==============================] - 0s 35ms/step - loss: 115644.6641 - root_mean_squared_error: 340.0657 - val_loss: 114099.0391 - val_root_mean_squared_error: 337.7855\n",
      "Epoch 108/600\n",
      "1/1 [==============================] - 0s 39ms/step - loss: 115600.8594 - root_mean_squared_error: 340.0013 - val_loss: 114055.5234 - val_root_mean_squared_error: 337.7211\n",
      "Epoch 109/600\n",
      "1/1 [==============================] - 0s 37ms/step - loss: 115557.0547 - root_mean_squared_error: 339.9368 - val_loss: 114012.0312 - val_root_mean_squared_error: 337.6567\n",
      "Epoch 110/600\n",
      "1/1 [==============================] - 0s 36ms/step - loss: 115513.2734 - root_mean_squared_error: 339.8724 - val_loss: 113968.5625 - val_root_mean_squared_error: 337.5923\n",
      "Epoch 111/600\n",
      "1/1 [==============================] - 0s 36ms/step - loss: 115469.4922 - root_mean_squared_error: 339.8080 - val_loss: 113925.0859 - val_root_mean_squared_error: 337.5279\n",
      "Epoch 112/600\n",
      "1/1 [==============================] - 0s 36ms/step - loss: 115425.7422 - root_mean_squared_error: 339.7437 - val_loss: 113881.6250 - val_root_mean_squared_error: 337.4635\n",
      "Epoch 113/600\n",
      "1/1 [==============================] - 0s 35ms/step - loss: 115382.0000 - root_mean_squared_error: 339.6793 - val_loss: 113838.1875 - val_root_mean_squared_error: 337.3991\n",
      "Epoch 114/600\n",
      "1/1 [==============================] - 0s 36ms/step - loss: 115338.2656 - root_mean_squared_error: 339.6149 - val_loss: 113794.7500 - val_root_mean_squared_error: 337.3348\n",
      "Epoch 115/600\n",
      "1/1 [==============================] - 0s 36ms/step - loss: 115294.5391 - root_mean_squared_error: 339.5505 - val_loss: 113751.3359 - val_root_mean_squared_error: 337.2704\n",
      "Epoch 116/600\n",
      "1/1 [==============================] - 0s 37ms/step - loss: 115250.8359 - root_mean_squared_error: 339.4861 - val_loss: 113707.9141 - val_root_mean_squared_error: 337.2061\n",
      "Epoch 117/600\n",
      "1/1 [==============================] - 0s 36ms/step - loss: 115207.1406 - root_mean_squared_error: 339.4218 - val_loss: 113664.5234 - val_root_mean_squared_error: 337.1417\n",
      "Epoch 118/600\n",
      "1/1 [==============================] - 0s 36ms/step - loss: 115163.4453 - root_mean_squared_error: 339.3574 - val_loss: 113621.1484 - val_root_mean_squared_error: 337.0774\n",
      "Epoch 119/600\n",
      "1/1 [==============================] - 0s 38ms/step - loss: 115119.7891 - root_mean_squared_error: 339.2931 - val_loss: 113577.7812 - val_root_mean_squared_error: 337.0130\n",
      "Epoch 120/600\n",
      "1/1 [==============================] - 0s 36ms/step - loss: 115076.1250 - root_mean_squared_error: 339.2287 - val_loss: 113534.4141 - val_root_mean_squared_error: 336.9487\n",
      "Epoch 121/600\n",
      "1/1 [==============================] - 0s 36ms/step - loss: 115032.4844 - root_mean_squared_error: 339.1644 - val_loss: 113491.0703 - val_root_mean_squared_error: 336.8844\n",
      "Epoch 122/600\n",
      "1/1 [==============================] - 0s 36ms/step - loss: 114988.8594 - root_mean_squared_error: 339.1001 - val_loss: 113447.7422 - val_root_mean_squared_error: 336.8200\n",
      "Epoch 123/600\n",
      "1/1 [==============================] - 0s 37ms/step - loss: 114945.2344 - root_mean_squared_error: 339.0357 - val_loss: 113404.4297 - val_root_mean_squared_error: 336.7557\n",
      "Epoch 124/600\n",
      "1/1 [==============================] - 0s 36ms/step - loss: 114901.6250 - root_mean_squared_error: 338.9714 - val_loss: 113361.1250 - val_root_mean_squared_error: 336.6914\n",
      "Epoch 125/600\n",
      "1/1 [==============================] - 0s 39ms/step - loss: 114858.0391 - root_mean_squared_error: 338.9071 - val_loss: 113317.8359 - val_root_mean_squared_error: 336.6271\n",
      "Epoch 126/600\n",
      "1/1 [==============================] - 0s 38ms/step - loss: 114814.4531 - root_mean_squared_error: 338.8428 - val_loss: 113274.5547 - val_root_mean_squared_error: 336.5629\n",
      "Epoch 127/600\n",
      "1/1 [==============================] - 0s 37ms/step - loss: 114770.8750 - root_mean_squared_error: 338.7785 - val_loss: 113231.2812 - val_root_mean_squared_error: 336.4986\n",
      "Epoch 128/600\n",
      "1/1 [==============================] - 0s 37ms/step - loss: 114727.3203 - root_mean_squared_error: 338.7142 - val_loss: 113188.0391 - val_root_mean_squared_error: 336.4343\n",
      "Epoch 129/600\n",
      "1/1 [==============================] - 0s 38ms/step - loss: 114683.7891 - root_mean_squared_error: 338.6500 - val_loss: 113144.7891 - val_root_mean_squared_error: 336.3700\n",
      "Epoch 130/600\n",
      "1/1 [==============================] - 0s 38ms/step - loss: 114640.2500 - root_mean_squared_error: 338.5857 - val_loss: 113101.5625 - val_root_mean_squared_error: 336.3058\n",
      "Epoch 131/600\n",
      "1/1 [==============================] - 0s 37ms/step - loss: 114596.7344 - root_mean_squared_error: 338.5214 - val_loss: 113058.3438 - val_root_mean_squared_error: 336.2415\n",
      "Epoch 132/600\n",
      "1/1 [==============================] - 0s 36ms/step - loss: 114553.2344 - root_mean_squared_error: 338.4572 - val_loss: 113015.1328 - val_root_mean_squared_error: 336.1772\n",
      "Epoch 133/600\n",
      "1/1 [==============================] - 0s 36ms/step - loss: 114509.7344 - root_mean_squared_error: 338.3929 - val_loss: 112971.9375 - val_root_mean_squared_error: 336.1130\n",
      "Epoch 134/600\n",
      "1/1 [==============================] - 0s 38ms/step - loss: 114466.2422 - root_mean_squared_error: 338.3286 - val_loss: 112928.7578 - val_root_mean_squared_error: 336.0487\n",
      "Epoch 135/600\n",
      "1/1 [==============================] - 0s 36ms/step - loss: 114422.7891 - root_mean_squared_error: 338.2644 - val_loss: 112885.5859 - val_root_mean_squared_error: 335.9845\n",
      "Epoch 136/600\n",
      "1/1 [==============================] - 0s 37ms/step - loss: 114379.3203 - root_mean_squared_error: 338.2001 - val_loss: 112842.4375 - val_root_mean_squared_error: 335.9203\n",
      "Epoch 137/600\n",
      "1/1 [==============================] - 0s 36ms/step - loss: 114335.8750 - root_mean_squared_error: 338.1359 - val_loss: 112799.2891 - val_root_mean_squared_error: 335.8560\n",
      "Epoch 138/600\n",
      "1/1 [==============================] - 0s 36ms/step - loss: 114292.4453 - root_mean_squared_error: 338.0717 - val_loss: 112756.1562 - val_root_mean_squared_error: 335.7918\n",
      "Epoch 139/600\n",
      "1/1 [==============================] - 0s 38ms/step - loss: 114249.0156 - root_mean_squared_error: 338.0074 - val_loss: 112713.0391 - val_root_mean_squared_error: 335.7276\n",
      "Epoch 140/600\n",
      "1/1 [==============================] - 0s 36ms/step - loss: 114205.6172 - root_mean_squared_error: 337.9432 - val_loss: 112669.9375 - val_root_mean_squared_error: 335.6634\n",
      "Epoch 141/600\n",
      "1/1 [==============================] - 0s 36ms/step - loss: 114162.2344 - root_mean_squared_error: 337.8790 - val_loss: 112626.8359 - val_root_mean_squared_error: 335.5992\n",
      "Epoch 142/600\n",
      "1/1 [==============================] - 0s 36ms/step - loss: 114118.8359 - root_mean_squared_error: 337.8148 - val_loss: 112583.7578 - val_root_mean_squared_error: 335.5350\n",
      "Epoch 143/600\n",
      "1/1 [==============================] - 0s 38ms/step - loss: 114075.4766 - root_mean_squared_error: 337.7506 - val_loss: 112540.6875 - val_root_mean_squared_error: 335.4709\n",
      "Epoch 144/600\n",
      "1/1 [==============================] - 0s 38ms/step - loss: 114032.1094 - root_mean_squared_error: 337.6864 - val_loss: 112497.6250 - val_root_mean_squared_error: 335.4066\n",
      "Epoch 145/600\n",
      "1/1 [==============================] - 0s 36ms/step - loss: 113988.7656 - root_mean_squared_error: 337.6222 - val_loss: 112454.5859 - val_root_mean_squared_error: 335.3425\n",
      "Epoch 146/600\n",
      "1/1 [==============================] - 0s 36ms/step - loss: 113945.4297 - root_mean_squared_error: 337.5580 - val_loss: 112411.5547 - val_root_mean_squared_error: 335.2783\n",
      "Epoch 147/600\n",
      "1/1 [==============================] - 0s 38ms/step - loss: 113902.1094 - root_mean_squared_error: 337.4939 - val_loss: 112368.5312 - val_root_mean_squared_error: 335.2142\n",
      "Epoch 148/600\n",
      "1/1 [==============================] - 0s 40ms/step - loss: 113858.8047 - root_mean_squared_error: 337.4297 - val_loss: 112325.5234 - val_root_mean_squared_error: 335.1500\n",
      "Epoch 149/600\n",
      "1/1 [==============================] - 0s 38ms/step - loss: 113815.5078 - root_mean_squared_error: 337.3655 - val_loss: 112282.5312 - val_root_mean_squared_error: 335.0858\n",
      "Epoch 150/600\n",
      "1/1 [==============================] - 0s 38ms/step - loss: 113772.2344 - root_mean_squared_error: 337.3014 - val_loss: 112239.5391 - val_root_mean_squared_error: 335.0217\n",
      "Epoch 151/600\n",
      "1/1 [==============================] - 0s 39ms/step - loss: 113728.9609 - root_mean_squared_error: 337.2372 - val_loss: 112196.5703 - val_root_mean_squared_error: 334.9576\n",
      "Epoch 152/600\n",
      "1/1 [==============================] - 0s 37ms/step - loss: 113685.6953 - root_mean_squared_error: 337.1731 - val_loss: 112153.6016 - val_root_mean_squared_error: 334.8934\n",
      "Epoch 153/600\n",
      "1/1 [==============================] - 0s 35ms/step - loss: 113642.4453 - root_mean_squared_error: 337.1089 - val_loss: 112110.6641 - val_root_mean_squared_error: 334.8293\n",
      "Epoch 154/600\n",
      "1/1 [==============================] - 0s 35ms/step - loss: 113599.2266 - root_mean_squared_error: 337.0448 - val_loss: 112067.7266 - val_root_mean_squared_error: 334.7652\n",
      "Epoch 155/600\n",
      "1/1 [==============================] - 0s 38ms/step - loss: 113556.0000 - root_mean_squared_error: 336.9807 - val_loss: 112024.8125 - val_root_mean_squared_error: 334.7011\n",
      "Epoch 156/600\n",
      "1/1 [==============================] - 0s 37ms/step - loss: 113512.7891 - root_mean_squared_error: 336.9166 - val_loss: 111981.9062 - val_root_mean_squared_error: 334.6370\n",
      "Epoch 157/600\n",
      "1/1 [==============================] - 0s 37ms/step - loss: 113469.5859 - root_mean_squared_error: 336.8525 - val_loss: 111939.0234 - val_root_mean_squared_error: 334.5729\n",
      "Epoch 158/600\n",
      "1/1 [==============================] - 0s 40ms/step - loss: 113426.4141 - root_mean_squared_error: 336.7884 - val_loss: 111896.1172 - val_root_mean_squared_error: 334.5088\n",
      "Epoch 159/600\n",
      "1/1 [==============================] - 0s 38ms/step - loss: 113383.2344 - root_mean_squared_error: 336.7243 - val_loss: 111853.2500 - val_root_mean_squared_error: 334.4447\n",
      "Epoch 160/600\n",
      "1/1 [==============================] - 0s 38ms/step - loss: 113340.0781 - root_mean_squared_error: 336.6602 - val_loss: 111810.3828 - val_root_mean_squared_error: 334.3806\n",
      "Epoch 161/600\n",
      "1/1 [==============================] - 0s 37ms/step - loss: 113296.9297 - root_mean_squared_error: 336.5961 - val_loss: 111767.5391 - val_root_mean_squared_error: 334.3165\n",
      "Epoch 162/600\n",
      "1/1 [==============================] - 0s 39ms/step - loss: 113253.7891 - root_mean_squared_error: 336.5320 - val_loss: 111724.6953 - val_root_mean_squared_error: 334.2524\n",
      "Epoch 163/600\n",
      "1/1 [==============================] - 0s 55ms/step - loss: 113210.6719 - root_mean_squared_error: 336.4679 - val_loss: 111681.8828 - val_root_mean_squared_error: 334.1884\n",
      "Epoch 164/600\n",
      "1/1 [==============================] - 0s 63ms/step - loss: 113167.5547 - root_mean_squared_error: 336.4039 - val_loss: 111639.0703 - val_root_mean_squared_error: 334.1243\n",
      "Epoch 165/600\n",
      "1/1 [==============================] - 0s 53ms/step - loss: 113124.4531 - root_mean_squared_error: 336.3398 - val_loss: 111596.2734 - val_root_mean_squared_error: 334.0603\n",
      "Epoch 166/600\n",
      "1/1 [==============================] - 0s 46ms/step - loss: 113081.3750 - root_mean_squared_error: 336.2758 - val_loss: 111553.4766 - val_root_mean_squared_error: 333.9962\n",
      "Epoch 167/600\n",
      "1/1 [==============================] - 0s 54ms/step - loss: 113038.2969 - root_mean_squared_error: 336.2117 - val_loss: 111510.7109 - val_root_mean_squared_error: 333.9322\n",
      "Epoch 168/600\n",
      "1/1 [==============================] - 0s 47ms/step - loss: 112995.2344 - root_mean_squared_error: 336.1476 - val_loss: 111467.9453 - val_root_mean_squared_error: 333.8682\n",
      "Epoch 169/600\n",
      "1/1 [==============================] - 0s 43ms/step - loss: 112952.1875 - root_mean_squared_error: 336.0836 - val_loss: 111425.1953 - val_root_mean_squared_error: 333.8041\n",
      "Epoch 170/600\n",
      "1/1 [==============================] - 0s 42ms/step - loss: 112909.1406 - root_mean_squared_error: 336.0196 - val_loss: 111382.4688 - val_root_mean_squared_error: 333.7401\n",
      "Epoch 171/600\n",
      "1/1 [==============================] - 0s 46ms/step - loss: 112866.1250 - root_mean_squared_error: 335.9555 - val_loss: 111339.7266 - val_root_mean_squared_error: 333.6761\n",
      "Epoch 172/600\n",
      "1/1 [==============================] - 0s 40ms/step - loss: 112823.1094 - root_mean_squared_error: 335.8915 - val_loss: 111297.0234 - val_root_mean_squared_error: 333.6121\n",
      "Epoch 173/600\n",
      "1/1 [==============================] - 0s 40ms/step - loss: 112780.1094 - root_mean_squared_error: 335.8275 - val_loss: 111254.3203 - val_root_mean_squared_error: 333.5481\n",
      "Epoch 174/600\n",
      "1/1 [==============================] - 0s 40ms/step - loss: 112737.1250 - root_mean_squared_error: 335.7635 - val_loss: 111211.6250 - val_root_mean_squared_error: 333.4841\n",
      "Epoch 175/600\n",
      "1/1 [==============================] - 0s 40ms/step - loss: 112694.1406 - root_mean_squared_error: 335.6995 - val_loss: 111168.9609 - val_root_mean_squared_error: 333.4201\n",
      "Epoch 176/600\n",
      "1/1 [==============================] - 0s 40ms/step - loss: 112651.1797 - root_mean_squared_error: 335.6355 - val_loss: 111126.2812 - val_root_mean_squared_error: 333.3561\n",
      "Epoch 177/600\n",
      "1/1 [==============================] - 0s 38ms/step - loss: 112608.2344 - root_mean_squared_error: 335.5715 - val_loss: 111083.6328 - val_root_mean_squared_error: 333.2921\n",
      "Epoch 178/600\n",
      "1/1 [==============================] - 0s 39ms/step - loss: 112565.2891 - root_mean_squared_error: 335.5075 - val_loss: 111041.0000 - val_root_mean_squared_error: 333.2281\n",
      "Epoch 179/600\n",
      "1/1 [==============================] - 0s 46ms/step - loss: 112522.3594 - root_mean_squared_error: 335.4435 - val_loss: 110998.3516 - val_root_mean_squared_error: 333.1642\n",
      "Epoch 180/600\n",
      "1/1 [==============================] - 0s 39ms/step - loss: 112479.4375 - root_mean_squared_error: 335.3795 - val_loss: 110955.7500 - val_root_mean_squared_error: 333.1002\n",
      "Epoch 181/600\n",
      "1/1 [==============================] - 0s 39ms/step - loss: 112436.5391 - root_mean_squared_error: 335.3156 - val_loss: 110913.1484 - val_root_mean_squared_error: 333.0363\n",
      "Epoch 182/600\n",
      "1/1 [==============================] - 0s 39ms/step - loss: 112393.6484 - root_mean_squared_error: 335.2516 - val_loss: 110870.5547 - val_root_mean_squared_error: 332.9723\n",
      "Epoch 183/600\n",
      "1/1 [==============================] - 0s 42ms/step - loss: 112350.7656 - root_mean_squared_error: 335.1877 - val_loss: 110827.9688 - val_root_mean_squared_error: 332.9084\n",
      "Epoch 184/600\n",
      "1/1 [==============================] - 0s 38ms/step - loss: 112307.9141 - root_mean_squared_error: 335.1237 - val_loss: 110785.4062 - val_root_mean_squared_error: 332.8444\n",
      "Epoch 185/600\n",
      "1/1 [==============================] - 0s 39ms/step - loss: 112265.0391 - root_mean_squared_error: 335.0598 - val_loss: 110742.8438 - val_root_mean_squared_error: 332.7805\n",
      "Epoch 186/600\n",
      "1/1 [==============================] - 0s 38ms/step - loss: 112222.2109 - root_mean_squared_error: 334.9958 - val_loss: 110700.3047 - val_root_mean_squared_error: 332.7166\n",
      "Epoch 187/600\n",
      "1/1 [==============================] - 0s 37ms/step - loss: 112179.3750 - root_mean_squared_error: 334.9319 - val_loss: 110657.7734 - val_root_mean_squared_error: 332.6526\n",
      "Epoch 188/600\n",
      "1/1 [==============================] - 0s 36ms/step - loss: 112136.5547 - root_mean_squared_error: 334.8680 - val_loss: 110615.2500 - val_root_mean_squared_error: 332.5887\n",
      "Epoch 189/600\n",
      "1/1 [==============================] - 0s 38ms/step - loss: 112093.7500 - root_mean_squared_error: 334.8040 - val_loss: 110572.7500 - val_root_mean_squared_error: 332.5248\n",
      "Epoch 190/600\n",
      "1/1 [==============================] - 0s 38ms/step - loss: 112050.9609 - root_mean_squared_error: 334.7401 - val_loss: 110530.2500 - val_root_mean_squared_error: 332.4609\n",
      "Epoch 191/600\n",
      "1/1 [==============================] - 0s 40ms/step - loss: 112008.1797 - root_mean_squared_error: 334.6762 - val_loss: 110487.7734 - val_root_mean_squared_error: 332.3970\n",
      "Epoch 192/600\n",
      "1/1 [==============================] - 0s 37ms/step - loss: 111965.3984 - root_mean_squared_error: 334.6123 - val_loss: 110445.3047 - val_root_mean_squared_error: 332.3331\n",
      "Epoch 193/600\n",
      "1/1 [==============================] - 0s 37ms/step - loss: 111922.6406 - root_mean_squared_error: 334.5484 - val_loss: 110402.8438 - val_root_mean_squared_error: 332.2692\n",
      "Epoch 194/600\n",
      "1/1 [==============================] - 0s 38ms/step - loss: 111879.8906 - root_mean_squared_error: 334.4845 - val_loss: 110360.3984 - val_root_mean_squared_error: 332.2054\n",
      "Epoch 195/600\n",
      "1/1 [==============================] - 0s 43ms/step - loss: 111837.1719 - root_mean_squared_error: 334.4207 - val_loss: 110317.9609 - val_root_mean_squared_error: 332.1415\n",
      "Epoch 196/600\n",
      "1/1 [==============================] - 0s 37ms/step - loss: 111794.4453 - root_mean_squared_error: 334.3568 - val_loss: 110275.5312 - val_root_mean_squared_error: 332.0776\n",
      "Epoch 197/600\n",
      "1/1 [==============================] - 0s 39ms/step - loss: 111751.7344 - root_mean_squared_error: 334.2929 - val_loss: 110233.1172 - val_root_mean_squared_error: 332.0137\n",
      "Epoch 198/600\n",
      "1/1 [==============================] - 0s 38ms/step - loss: 111709.0469 - root_mean_squared_error: 334.2290 - val_loss: 110190.7188 - val_root_mean_squared_error: 331.9499\n",
      "Epoch 199/600\n",
      "1/1 [==============================] - 0s 40ms/step - loss: 111666.3594 - root_mean_squared_error: 334.1652 - val_loss: 110148.3438 - val_root_mean_squared_error: 331.8860\n",
      "Epoch 200/600\n",
      "1/1 [==============================] - 0s 39ms/step - loss: 111623.6875 - root_mean_squared_error: 334.1013 - val_loss: 110105.9688 - val_root_mean_squared_error: 331.8222\n",
      "Epoch 201/600\n",
      "1/1 [==============================] - 0s 36ms/step - loss: 111581.0156 - root_mean_squared_error: 334.0374 - val_loss: 110063.6016 - val_root_mean_squared_error: 331.7584\n",
      "Epoch 202/600\n",
      "1/1 [==============================] - 0s 40ms/step - loss: 111538.3750 - root_mean_squared_error: 333.9736 - val_loss: 110021.2500 - val_root_mean_squared_error: 331.6945\n",
      "Epoch 203/600\n",
      "1/1 [==============================] - 0s 39ms/step - loss: 111495.7344 - root_mean_squared_error: 333.9098 - val_loss: 109978.9141 - val_root_mean_squared_error: 331.6307\n",
      "Epoch 204/600\n",
      "1/1 [==============================] - 0s 38ms/step - loss: 111453.1094 - root_mean_squared_error: 333.8459 - val_loss: 109936.5859 - val_root_mean_squared_error: 331.5669\n",
      "Epoch 205/600\n",
      "1/1 [==============================] - 0s 38ms/step - loss: 111410.5000 - root_mean_squared_error: 333.7821 - val_loss: 109894.2734 - val_root_mean_squared_error: 331.5031\n",
      "Epoch 206/600\n",
      "1/1 [==============================] - 0s 37ms/step - loss: 111367.8984 - root_mean_squared_error: 333.7183 - val_loss: 109851.9688 - val_root_mean_squared_error: 331.4392\n",
      "Epoch 207/600\n",
      "1/1 [==============================] - 0s 39ms/step - loss: 111325.3125 - root_mean_squared_error: 333.6545 - val_loss: 109809.6875 - val_root_mean_squared_error: 331.3755\n",
      "Epoch 208/600\n",
      "1/1 [==============================] - 0s 37ms/step - loss: 111282.7344 - root_mean_squared_error: 333.5907 - val_loss: 109767.3984 - val_root_mean_squared_error: 331.3116\n",
      "Epoch 209/600\n",
      "1/1 [==============================] - 0s 39ms/step - loss: 111240.1797 - root_mean_squared_error: 333.5269 - val_loss: 109725.1484 - val_root_mean_squared_error: 331.2479\n",
      "Epoch 210/600\n",
      "1/1 [==============================] - 0s 36ms/step - loss: 111197.6250 - root_mean_squared_error: 333.4631 - val_loss: 109682.8828 - val_root_mean_squared_error: 331.1841\n",
      "Epoch 211/600\n",
      "1/1 [==============================] - 0s 39ms/step - loss: 111155.0703 - root_mean_squared_error: 333.3993 - val_loss: 109640.6484 - val_root_mean_squared_error: 331.1203\n",
      "Epoch 212/600\n",
      "1/1 [==============================] - 0s 39ms/step - loss: 111112.5625 - root_mean_squared_error: 333.3355 - val_loss: 109598.4062 - val_root_mean_squared_error: 331.0565\n",
      "Epoch 213/600\n",
      "1/1 [==============================] - 0s 38ms/step - loss: 111070.0391 - root_mean_squared_error: 333.2717 - val_loss: 109556.1875 - val_root_mean_squared_error: 330.9927\n",
      "Epoch 214/600\n",
      "1/1 [==============================] - 0s 35ms/step - loss: 111027.5391 - root_mean_squared_error: 333.2079 - val_loss: 109513.9766 - val_root_mean_squared_error: 330.9290\n",
      "Epoch 215/600\n",
      "1/1 [==============================] - 0s 37ms/step - loss: 110985.0391 - root_mean_squared_error: 333.1442 - val_loss: 109471.7891 - val_root_mean_squared_error: 330.8652\n",
      "Epoch 216/600\n",
      "1/1 [==============================] - 0s 38ms/step - loss: 110942.5547 - root_mean_squared_error: 333.0804 - val_loss: 109429.6172 - val_root_mean_squared_error: 330.8015\n",
      "Epoch 217/600\n",
      "1/1 [==============================] - 0s 37ms/step - loss: 110900.0859 - root_mean_squared_error: 333.0166 - val_loss: 109387.4453 - val_root_mean_squared_error: 330.7377\n",
      "Epoch 218/600\n",
      "1/1 [==============================] - 0s 37ms/step - loss: 110857.6328 - root_mean_squared_error: 332.9529 - val_loss: 109345.2891 - val_root_mean_squared_error: 330.6740\n",
      "Epoch 219/600\n",
      "1/1 [==============================] - 0s 37ms/step - loss: 110815.1953 - root_mean_squared_error: 332.8892 - val_loss: 109303.1484 - val_root_mean_squared_error: 330.6103\n",
      "Epoch 220/600\n",
      "1/1 [==============================] - 0s 41ms/step - loss: 110772.7578 - root_mean_squared_error: 332.8254 - val_loss: 109261.0000 - val_root_mean_squared_error: 330.5465\n",
      "Epoch 221/600\n",
      "1/1 [==============================] - 0s 38ms/step - loss: 110730.3359 - root_mean_squared_error: 332.7617 - val_loss: 109218.8984 - val_root_mean_squared_error: 330.4828\n",
      "Epoch 222/600\n",
      "1/1 [==============================] - 0s 38ms/step - loss: 110687.9375 - root_mean_squared_error: 332.6980 - val_loss: 109176.7734 - val_root_mean_squared_error: 330.4191\n",
      "Epoch 223/600\n",
      "1/1 [==============================] - 0s 38ms/step - loss: 110645.5391 - root_mean_squared_error: 332.6342 - val_loss: 109134.6797 - val_root_mean_squared_error: 330.3554\n",
      "Epoch 224/600\n",
      "1/1 [==============================] - 0s 35ms/step - loss: 110603.1484 - root_mean_squared_error: 332.5705 - val_loss: 109092.5938 - val_root_mean_squared_error: 330.2917\n",
      "Epoch 225/600\n",
      "1/1 [==============================] - 0s 37ms/step - loss: 110560.7891 - root_mean_squared_error: 332.5068 - val_loss: 109050.5234 - val_root_mean_squared_error: 330.2280\n",
      "Epoch 226/600\n",
      "1/1 [==============================] - 0s 37ms/step - loss: 110518.4297 - root_mean_squared_error: 332.4431 - val_loss: 109008.4609 - val_root_mean_squared_error: 330.1643\n",
      "Epoch 227/600\n",
      "1/1 [==============================] - 0s 38ms/step - loss: 110476.0703 - root_mean_squared_error: 332.3794 - val_loss: 108966.4062 - val_root_mean_squared_error: 330.1006\n",
      "Epoch 228/600\n",
      "1/1 [==============================] - 0s 39ms/step - loss: 110433.7500 - root_mean_squared_error: 332.3157 - val_loss: 108924.3750 - val_root_mean_squared_error: 330.0369\n",
      "Epoch 229/600\n",
      "1/1 [==============================] - 0s 37ms/step - loss: 110391.4141 - root_mean_squared_error: 332.2520 - val_loss: 108882.3516 - val_root_mean_squared_error: 329.9733\n",
      "Epoch 230/600\n",
      "1/1 [==============================] - 0s 37ms/step - loss: 110349.1094 - root_mean_squared_error: 332.1884 - val_loss: 108840.3359 - val_root_mean_squared_error: 329.9096\n",
      "Epoch 231/600\n",
      "1/1 [==============================] - 0s 38ms/step - loss: 110306.8047 - root_mean_squared_error: 332.1247 - val_loss: 108798.3359 - val_root_mean_squared_error: 329.8459\n",
      "Epoch 232/600\n",
      "1/1 [==============================] - 0s 36ms/step - loss: 110264.5156 - root_mean_squared_error: 332.0610 - val_loss: 108756.3359 - val_root_mean_squared_error: 329.7823\n",
      "Epoch 233/600\n",
      "1/1 [==============================] - 0s 39ms/step - loss: 110222.2500 - root_mean_squared_error: 331.9974 - val_loss: 108714.3672 - val_root_mean_squared_error: 329.7186\n",
      "Epoch 234/600\n",
      "1/1 [==============================] - 0s 36ms/step - loss: 110179.9844 - root_mean_squared_error: 331.9337 - val_loss: 108672.3984 - val_root_mean_squared_error: 329.6550\n",
      "Epoch 235/600\n",
      "1/1 [==============================] - 0s 38ms/step - loss: 110137.7266 - root_mean_squared_error: 331.8701 - val_loss: 108630.4375 - val_root_mean_squared_error: 329.5913\n",
      "Epoch 236/600\n",
      "1/1 [==============================] - 0s 38ms/step - loss: 110095.4844 - root_mean_squared_error: 331.8064 - val_loss: 108588.5078 - val_root_mean_squared_error: 329.5277\n",
      "Epoch 237/600\n",
      "1/1 [==============================] - 0s 40ms/step - loss: 110053.2656 - root_mean_squared_error: 331.7428 - val_loss: 108546.5625 - val_root_mean_squared_error: 329.4641\n",
      "Epoch 238/600\n",
      "1/1 [==============================] - 0s 38ms/step - loss: 110011.0469 - root_mean_squared_error: 331.6791 - val_loss: 108504.6562 - val_root_mean_squared_error: 329.4005\n",
      "Epoch 239/600\n",
      "1/1 [==============================] - 0s 38ms/step - loss: 109968.8359 - root_mean_squared_error: 331.6155 - val_loss: 108462.7500 - val_root_mean_squared_error: 329.3368\n",
      "Epoch 240/600\n",
      "1/1 [==============================] - 0s 37ms/step - loss: 109926.6406 - root_mean_squared_error: 331.5519 - val_loss: 108420.8516 - val_root_mean_squared_error: 329.2732\n",
      "Epoch 241/600\n",
      "1/1 [==============================] - 0s 37ms/step - loss: 109884.4609 - root_mean_squared_error: 331.4883 - val_loss: 108378.9688 - val_root_mean_squared_error: 329.2096\n",
      "Epoch 242/600\n",
      "1/1 [==============================] - 0s 39ms/step - loss: 109842.3047 - root_mean_squared_error: 331.4247 - val_loss: 108337.1016 - val_root_mean_squared_error: 329.1460\n",
      "Epoch 243/600\n",
      "1/1 [==============================] - 0s 37ms/step - loss: 109800.1406 - root_mean_squared_error: 331.3611 - val_loss: 108295.2422 - val_root_mean_squared_error: 329.0824\n",
      "Epoch 244/600\n",
      "1/1 [==============================] - 0s 38ms/step - loss: 109758.0000 - root_mean_squared_error: 331.2975 - val_loss: 108253.3984 - val_root_mean_squared_error: 329.0188\n",
      "Epoch 245/600\n",
      "1/1 [==============================] - 0s 36ms/step - loss: 109715.8750 - root_mean_squared_error: 331.2339 - val_loss: 108211.5625 - val_root_mean_squared_error: 328.9553\n",
      "Epoch 246/600\n",
      "1/1 [==============================] - 0s 37ms/step - loss: 109673.7500 - root_mean_squared_error: 331.1703 - val_loss: 108169.7422 - val_root_mean_squared_error: 328.8917\n",
      "Epoch 247/600\n",
      "1/1 [==============================] - 0s 40ms/step - loss: 109631.6406 - root_mean_squared_error: 331.1067 - val_loss: 108127.9297 - val_root_mean_squared_error: 328.8281\n",
      "Epoch 248/600\n",
      "1/1 [==============================] - 0s 37ms/step - loss: 109589.5469 - root_mean_squared_error: 331.0431 - val_loss: 108086.1172 - val_root_mean_squared_error: 328.7645\n",
      "Epoch 249/600\n",
      "1/1 [==============================] - 0s 39ms/step - loss: 109547.4609 - root_mean_squared_error: 330.9796 - val_loss: 108044.3359 - val_root_mean_squared_error: 328.7010\n",
      "Epoch 250/600\n",
      "1/1 [==============================] - 0s 38ms/step - loss: 109505.3906 - root_mean_squared_error: 330.9160 - val_loss: 108002.5625 - val_root_mean_squared_error: 328.6374\n",
      "Epoch 251/600\n",
      "1/1 [==============================] - 0s 40ms/step - loss: 109463.3281 - root_mean_squared_error: 330.8524 - val_loss: 107960.8125 - val_root_mean_squared_error: 328.5739\n",
      "Epoch 252/600\n",
      "1/1 [==============================] - 0s 38ms/step - loss: 109421.2891 - root_mean_squared_error: 330.7889 - val_loss: 107919.0547 - val_root_mean_squared_error: 328.5103\n",
      "Epoch 253/600\n",
      "1/1 [==============================] - 0s 52ms/step - loss: 109379.2422 - root_mean_squared_error: 330.7253 - val_loss: 107877.3125 - val_root_mean_squared_error: 328.4468\n",
      "Epoch 254/600\n",
      "1/1 [==============================] - 0s 64ms/step - loss: 109337.2109 - root_mean_squared_error: 330.6618 - val_loss: 107835.5703 - val_root_mean_squared_error: 328.3833\n",
      "Epoch 255/600\n",
      "1/1 [==============================] - 0s 56ms/step - loss: 109295.2031 - root_mean_squared_error: 330.5982 - val_loss: 107793.8672 - val_root_mean_squared_error: 328.3198\n",
      "Epoch 256/600\n",
      "1/1 [==============================] - 0s 51ms/step - loss: 109253.2031 - root_mean_squared_error: 330.5347 - val_loss: 107752.1562 - val_root_mean_squared_error: 328.2562\n",
      "Epoch 257/600\n",
      "1/1 [==============================] - 0s 52ms/step - loss: 109211.2109 - root_mean_squared_error: 330.4712 - val_loss: 107710.4609 - val_root_mean_squared_error: 328.1927\n",
      "Epoch 258/600\n",
      "1/1 [==============================] - 0s 52ms/step - loss: 109169.2344 - root_mean_squared_error: 330.4077 - val_loss: 107668.7812 - val_root_mean_squared_error: 328.1292\n",
      "Epoch 259/600\n",
      "1/1 [==============================] - 0s 42ms/step - loss: 109127.2656 - root_mean_squared_error: 330.3442 - val_loss: 107627.1172 - val_root_mean_squared_error: 328.0657\n",
      "Epoch 260/600\n",
      "1/1 [==============================] - 0s 44ms/step - loss: 109085.3203 - root_mean_squared_error: 330.2807 - val_loss: 107585.4609 - val_root_mean_squared_error: 328.0022\n",
      "Epoch 261/600\n",
      "1/1 [==============================] - 0s 42ms/step - loss: 109043.3750 - root_mean_squared_error: 330.2172 - val_loss: 107543.8125 - val_root_mean_squared_error: 327.9387\n",
      "Epoch 262/600\n",
      "1/1 [==============================] - 0s 42ms/step - loss: 109001.4453 - root_mean_squared_error: 330.1537 - val_loss: 107502.1875 - val_root_mean_squared_error: 327.8753\n",
      "Epoch 263/600\n",
      "1/1 [==============================] - 0s 42ms/step - loss: 108959.5234 - root_mean_squared_error: 330.0902 - val_loss: 107460.5625 - val_root_mean_squared_error: 327.8118\n",
      "Epoch 264/600\n",
      "1/1 [==============================] - 0s 40ms/step - loss: 108917.6250 - root_mean_squared_error: 330.0267 - val_loss: 107418.9609 - val_root_mean_squared_error: 327.7483\n",
      "Epoch 265/600\n",
      "1/1 [==============================] - 0s 41ms/step - loss: 108875.7344 - root_mean_squared_error: 329.9632 - val_loss: 107377.3516 - val_root_mean_squared_error: 327.6848\n",
      "Epoch 266/600\n",
      "1/1 [==============================] - 0s 41ms/step - loss: 108833.8359 - root_mean_squared_error: 329.8997 - val_loss: 107335.7734 - val_root_mean_squared_error: 327.6214\n",
      "Epoch 267/600\n",
      "1/1 [==============================] - 0s 41ms/step - loss: 108791.9844 - root_mean_squared_error: 329.8363 - val_loss: 107294.1953 - val_root_mean_squared_error: 327.5579\n",
      "Epoch 268/600\n",
      "1/1 [==============================] - 0s 40ms/step - loss: 108750.1250 - root_mean_squared_error: 329.7728 - val_loss: 107252.6328 - val_root_mean_squared_error: 327.4945\n",
      "Epoch 269/600\n",
      "1/1 [==============================] - 0s 40ms/step - loss: 108708.2734 - root_mean_squared_error: 329.7094 - val_loss: 107211.0859 - val_root_mean_squared_error: 327.4310\n",
      "Epoch 270/600\n",
      "1/1 [==============================] - 0s 39ms/step - loss: 108666.4375 - root_mean_squared_error: 329.6459 - val_loss: 107169.5547 - val_root_mean_squared_error: 327.3676\n",
      "Epoch 271/600\n",
      "1/1 [==============================] - 0s 39ms/step - loss: 108624.6172 - root_mean_squared_error: 329.5825 - val_loss: 107128.0234 - val_root_mean_squared_error: 327.3042\n",
      "Epoch 272/600\n",
      "1/1 [==============================] - 0s 40ms/step - loss: 108582.8047 - root_mean_squared_error: 329.5190 - val_loss: 107086.5078 - val_root_mean_squared_error: 327.2408\n",
      "Epoch 273/600\n",
      "1/1 [==============================] - 0s 41ms/step - loss: 108541.0000 - root_mean_squared_error: 329.4556 - val_loss: 107045.0078 - val_root_mean_squared_error: 327.1773\n",
      "Epoch 274/600\n",
      "1/1 [==============================] - 0s 42ms/step - loss: 108499.2109 - root_mean_squared_error: 329.3922 - val_loss: 107003.5234 - val_root_mean_squared_error: 327.1139\n",
      "Epoch 275/600\n",
      "1/1 [==============================] - 0s 39ms/step - loss: 108457.4453 - root_mean_squared_error: 329.3288 - val_loss: 106962.0391 - val_root_mean_squared_error: 327.0505\n",
      "Epoch 276/600\n",
      "1/1 [==============================] - 0s 42ms/step - loss: 108415.6797 - root_mean_squared_error: 329.2654 - val_loss: 106920.5625 - val_root_mean_squared_error: 326.9871\n",
      "Epoch 277/600\n",
      "1/1 [==============================] - 0s 39ms/step - loss: 108373.9297 - root_mean_squared_error: 329.2020 - val_loss: 106879.1016 - val_root_mean_squared_error: 326.9237\n",
      "Epoch 278/600\n",
      "1/1 [==============================] - 0s 39ms/step - loss: 108332.1953 - root_mean_squared_error: 329.1386 - val_loss: 106837.6641 - val_root_mean_squared_error: 326.8603\n",
      "Epoch 279/600\n",
      "1/1 [==============================] - 0s 38ms/step - loss: 108290.4609 - root_mean_squared_error: 329.0752 - val_loss: 106796.2266 - val_root_mean_squared_error: 326.7969\n",
      "Epoch 280/600\n",
      "1/1 [==============================] - 0s 40ms/step - loss: 108248.7500 - root_mean_squared_error: 329.0118 - val_loss: 106754.8203 - val_root_mean_squared_error: 326.7336\n",
      "Epoch 281/600\n",
      "1/1 [==============================] - 0s 39ms/step - loss: 108207.0391 - root_mean_squared_error: 328.9484 - val_loss: 106713.4141 - val_root_mean_squared_error: 326.6702\n",
      "Epoch 282/600\n",
      "1/1 [==============================] - 0s 41ms/step - loss: 108165.3516 - root_mean_squared_error: 328.8850 - val_loss: 106672.0078 - val_root_mean_squared_error: 326.6068\n",
      "Epoch 283/600\n",
      "1/1 [==============================] - 0s 38ms/step - loss: 108123.6641 - root_mean_squared_error: 328.8216 - val_loss: 106630.6250 - val_root_mean_squared_error: 326.5435\n",
      "Epoch 284/600\n",
      "1/1 [==============================] - 0s 38ms/step - loss: 108081.9922 - root_mean_squared_error: 328.7583 - val_loss: 106589.2500 - val_root_mean_squared_error: 326.4801\n",
      "Epoch 285/600\n",
      "1/1 [==============================] - 0s 37ms/step - loss: 108040.3516 - root_mean_squared_error: 328.6949 - val_loss: 106547.8984 - val_root_mean_squared_error: 326.4167\n",
      "Epoch 286/600\n",
      "1/1 [==============================] - 0s 38ms/step - loss: 107998.6953 - root_mean_squared_error: 328.6316 - val_loss: 106506.5547 - val_root_mean_squared_error: 326.3534\n",
      "Epoch 287/600\n",
      "1/1 [==============================] - 0s 38ms/step - loss: 107957.0625 - root_mean_squared_error: 328.5682 - val_loss: 106465.2109 - val_root_mean_squared_error: 326.2901\n",
      "Epoch 288/600\n",
      "1/1 [==============================] - 0s 38ms/step - loss: 107915.4453 - root_mean_squared_error: 328.5049 - val_loss: 106423.8828 - val_root_mean_squared_error: 326.2267\n",
      "Epoch 289/600\n",
      "1/1 [==============================] - 0s 38ms/step - loss: 107873.8281 - root_mean_squared_error: 328.4415 - val_loss: 106382.5625 - val_root_mean_squared_error: 326.1634\n",
      "Epoch 290/600\n",
      "1/1 [==============================] - 0s 38ms/step - loss: 107832.2344 - root_mean_squared_error: 328.3782 - val_loss: 106341.2734 - val_root_mean_squared_error: 326.1001\n",
      "Epoch 291/600\n",
      "1/1 [==============================] - 0s 36ms/step - loss: 107790.6484 - root_mean_squared_error: 328.3148 - val_loss: 106299.9766 - val_root_mean_squared_error: 326.0368\n",
      "Epoch 292/600\n",
      "1/1 [==============================] - 0s 37ms/step - loss: 107749.0781 - root_mean_squared_error: 328.2516 - val_loss: 106258.6953 - val_root_mean_squared_error: 325.9734\n",
      "Epoch 293/600\n",
      "1/1 [==============================] - 0s 38ms/step - loss: 107707.5078 - root_mean_squared_error: 328.1882 - val_loss: 106217.4297 - val_root_mean_squared_error: 325.9102\n",
      "Epoch 294/600\n",
      "1/1 [==============================] - 0s 37ms/step - loss: 107665.9531 - root_mean_squared_error: 328.1249 - val_loss: 106176.1797 - val_root_mean_squared_error: 325.8469\n",
      "Epoch 295/600\n",
      "1/1 [==============================] - 0s 39ms/step - loss: 107624.4219 - root_mean_squared_error: 328.0616 - val_loss: 106134.9297 - val_root_mean_squared_error: 325.7836\n",
      "Epoch 296/600\n",
      "1/1 [==============================] - 0s 48ms/step - loss: 107582.8906 - root_mean_squared_error: 327.9983 - val_loss: 106093.6953 - val_root_mean_squared_error: 325.7203\n",
      "Epoch 297/600\n",
      "1/1 [==============================] - 0s 46ms/step - loss: 107541.3750 - root_mean_squared_error: 327.9350 - val_loss: 106052.4766 - val_root_mean_squared_error: 325.6570\n",
      "Epoch 298/600\n",
      "1/1 [==============================] - 0s 45ms/step - loss: 107499.8750 - root_mean_squared_error: 327.8717 - val_loss: 106011.2734 - val_root_mean_squared_error: 325.5937\n",
      "Epoch 299/600\n",
      "1/1 [==============================] - 0s 43ms/step - loss: 107458.3750 - root_mean_squared_error: 327.8084 - val_loss: 105970.0859 - val_root_mean_squared_error: 325.5305\n",
      "Epoch 300/600\n",
      "1/1 [==============================] - 0s 45ms/step - loss: 107416.8906 - root_mean_squared_error: 327.7451 - val_loss: 105928.8984 - val_root_mean_squared_error: 325.4672\n",
      "Epoch 301/600\n",
      "1/1 [==============================] - 0s 45ms/step - loss: 107375.4297 - root_mean_squared_error: 327.6819 - val_loss: 105887.7188 - val_root_mean_squared_error: 325.4039\n",
      "Epoch 302/600\n",
      "1/1 [==============================] - 0s 45ms/step - loss: 107333.9766 - root_mean_squared_error: 327.6187 - val_loss: 105846.5547 - val_root_mean_squared_error: 325.3407\n",
      "Epoch 303/600\n",
      "1/1 [==============================] - 0s 49ms/step - loss: 107292.5234 - root_mean_squared_error: 327.5554 - val_loss: 105805.4141 - val_root_mean_squared_error: 325.2774\n",
      "Epoch 304/600\n",
      "1/1 [==============================] - 0s 45ms/step - loss: 107251.1016 - root_mean_squared_error: 327.4921 - val_loss: 105764.2734 - val_root_mean_squared_error: 325.2142\n",
      "Epoch 305/600\n",
      "1/1 [==============================] - 0s 46ms/step - loss: 107209.6797 - root_mean_squared_error: 327.4289 - val_loss: 105723.1328 - val_root_mean_squared_error: 325.1509\n",
      "Epoch 306/600\n",
      "1/1 [==============================] - 0s 44ms/step - loss: 107168.2656 - root_mean_squared_error: 327.3656 - val_loss: 105682.0312 - val_root_mean_squared_error: 325.0877\n",
      "Epoch 307/600\n",
      "1/1 [==============================] - 0s 45ms/step - loss: 107126.8672 - root_mean_squared_error: 327.3024 - val_loss: 105640.9297 - val_root_mean_squared_error: 325.0245\n",
      "Epoch 308/600\n",
      "1/1 [==============================] - 0s 45ms/step - loss: 107085.4844 - root_mean_squared_error: 327.2392 - val_loss: 105599.8438 - val_root_mean_squared_error: 324.9613\n",
      "Epoch 309/600\n",
      "1/1 [==============================] - 0s 43ms/step - loss: 107044.1094 - root_mean_squared_error: 327.1760 - val_loss: 105558.7500 - val_root_mean_squared_error: 324.8981\n",
      "Epoch 310/600\n",
      "1/1 [==============================] - 0s 45ms/step - loss: 107002.7422 - root_mean_squared_error: 327.1127 - val_loss: 105517.6875 - val_root_mean_squared_error: 324.8349\n",
      "Epoch 311/600\n",
      "1/1 [==============================] - 0s 44ms/step - loss: 106961.3906 - root_mean_squared_error: 327.0495 - val_loss: 105476.6250 - val_root_mean_squared_error: 324.7716\n",
      "Epoch 312/600\n",
      "1/1 [==============================] - 0s 45ms/step - loss: 106920.0547 - root_mean_squared_error: 326.9863 - val_loss: 105435.5859 - val_root_mean_squared_error: 324.7085\n",
      "Epoch 313/600\n",
      "1/1 [==============================] - 0s 44ms/step - loss: 106878.7266 - root_mean_squared_error: 326.9231 - val_loss: 105394.5547 - val_root_mean_squared_error: 324.6453\n",
      "Epoch 314/600\n",
      "1/1 [==============================] - 0s 46ms/step - loss: 106837.4141 - root_mean_squared_error: 326.8599 - val_loss: 105353.5391 - val_root_mean_squared_error: 324.5821\n",
      "Epoch 315/600\n",
      "1/1 [==============================] - 0s 48ms/step - loss: 106796.1094 - root_mean_squared_error: 326.7968 - val_loss: 105312.5312 - val_root_mean_squared_error: 324.5189\n",
      "Epoch 316/600\n",
      "1/1 [==============================] - 0s 46ms/step - loss: 106754.8125 - root_mean_squared_error: 326.7336 - val_loss: 105271.5234 - val_root_mean_squared_error: 324.4557\n",
      "Epoch 317/600\n",
      "1/1 [==============================] - 0s 49ms/step - loss: 106713.5391 - root_mean_squared_error: 326.6704 - val_loss: 105230.5391 - val_root_mean_squared_error: 324.3926\n",
      "Epoch 318/600\n",
      "1/1 [==============================] - 0s 46ms/step - loss: 106672.2656 - root_mean_squared_error: 326.6072 - val_loss: 105189.5703 - val_root_mean_squared_error: 324.3294\n",
      "Epoch 319/600\n",
      "1/1 [==============================] - 0s 49ms/step - loss: 106631.0078 - root_mean_squared_error: 326.5440 - val_loss: 105148.6016 - val_root_mean_squared_error: 324.2663\n",
      "Epoch 320/600\n",
      "1/1 [==============================] - 0s 60ms/step - loss: 106589.7656 - root_mean_squared_error: 326.4809 - val_loss: 105107.6562 - val_root_mean_squared_error: 324.2031\n",
      "Epoch 321/600\n",
      "1/1 [==============================] - 0s 76ms/step - loss: 106548.5234 - root_mean_squared_error: 326.4177 - val_loss: 105066.7188 - val_root_mean_squared_error: 324.1400\n",
      "Epoch 322/600\n",
      "1/1 [==============================] - 0s 65ms/step - loss: 106507.3047 - root_mean_squared_error: 326.3546 - val_loss: 105025.7891 - val_root_mean_squared_error: 324.0768\n",
      "Epoch 323/600\n",
      "1/1 [==============================] - 0s 61ms/step - loss: 106466.0859 - root_mean_squared_error: 326.2914 - val_loss: 104984.8750 - val_root_mean_squared_error: 324.0137\n",
      "Epoch 324/600\n",
      "1/1 [==============================] - 0s 63ms/step - loss: 106424.8906 - root_mean_squared_error: 326.2283 - val_loss: 104943.9766 - val_root_mean_squared_error: 323.9506\n",
      "Epoch 325/600\n",
      "1/1 [==============================] - 0s 69ms/step - loss: 106383.7031 - root_mean_squared_error: 326.1652 - val_loss: 104903.0859 - val_root_mean_squared_error: 323.8875\n",
      "Epoch 326/600\n",
      "1/1 [==============================] - 0s 53ms/step - loss: 106342.5156 - root_mean_squared_error: 326.1020 - val_loss: 104862.1953 - val_root_mean_squared_error: 323.8243\n",
      "Epoch 327/600\n",
      "1/1 [==============================] - 0s 51ms/step - loss: 106301.3750 - root_mean_squared_error: 326.0389 - val_loss: 104821.3359 - val_root_mean_squared_error: 323.7612\n",
      "Epoch 328/600\n",
      "1/1 [==============================] - 0s 53ms/step - loss: 106260.2109 - root_mean_squared_error: 325.9758 - val_loss: 104780.4688 - val_root_mean_squared_error: 323.6981\n",
      "Epoch 329/600\n",
      "1/1 [==============================] - 0s 54ms/step - loss: 106219.0703 - root_mean_squared_error: 325.9127 - val_loss: 104739.6328 - val_root_mean_squared_error: 323.6350\n",
      "Epoch 330/600\n",
      "1/1 [==============================] - 0s 54ms/step - loss: 106177.9453 - root_mean_squared_error: 325.8496 - val_loss: 104698.7891 - val_root_mean_squared_error: 323.5719\n",
      "Epoch 331/600\n",
      "1/1 [==============================] - 0s 54ms/step - loss: 106136.8281 - root_mean_squared_error: 325.7865 - val_loss: 104657.9766 - val_root_mean_squared_error: 323.5089\n",
      "Epoch 332/600\n",
      "1/1 [==============================] - 0s 46ms/step - loss: 106095.7109 - root_mean_squared_error: 325.7234 - val_loss: 104617.1641 - val_root_mean_squared_error: 323.4458\n",
      "Epoch 333/600\n",
      "1/1 [==============================] - 0s 48ms/step - loss: 106054.6250 - root_mean_squared_error: 325.6603 - val_loss: 104576.3516 - val_root_mean_squared_error: 323.3827\n",
      "Epoch 334/600\n",
      "1/1 [==============================] - 0s 51ms/step - loss: 106013.5391 - root_mean_squared_error: 325.5972 - val_loss: 104535.5859 - val_root_mean_squared_error: 323.3196\n",
      "Epoch 335/600\n",
      "1/1 [==============================] - 0s 51ms/step - loss: 105972.4609 - root_mean_squared_error: 325.5341 - val_loss: 104494.8047 - val_root_mean_squared_error: 323.2566\n",
      "Epoch 336/600\n",
      "1/1 [==============================] - 0s 52ms/step - loss: 105931.4141 - root_mean_squared_error: 325.4711 - val_loss: 104454.0312 - val_root_mean_squared_error: 323.1935\n",
      "Epoch 337/600\n",
      "1/1 [==============================] - 0s 49ms/step - loss: 105890.3672 - root_mean_squared_error: 325.4080 - val_loss: 104413.2812 - val_root_mean_squared_error: 323.1304\n",
      "Epoch 338/600\n",
      "1/1 [==============================] - 0s 50ms/step - loss: 105849.3359 - root_mean_squared_error: 325.3449 - val_loss: 104372.5391 - val_root_mean_squared_error: 323.0674\n",
      "Epoch 339/600\n",
      "1/1 [==============================] - 0s 54ms/step - loss: 105808.3125 - root_mean_squared_error: 325.2819 - val_loss: 104331.8125 - val_root_mean_squared_error: 323.0044\n",
      "Epoch 340/600\n",
      "1/1 [==============================] - 0s 46ms/step - loss: 105767.2969 - root_mean_squared_error: 325.2188 - val_loss: 104291.0938 - val_root_mean_squared_error: 322.9413\n",
      "Epoch 341/600\n",
      "1/1 [==============================] - 0s 48ms/step - loss: 105726.3047 - root_mean_squared_error: 325.1558 - val_loss: 104250.3828 - val_root_mean_squared_error: 322.8783\n",
      "Epoch 342/600\n",
      "1/1 [==============================] - 0s 50ms/step - loss: 105685.3125 - root_mean_squared_error: 325.0928 - val_loss: 104209.6875 - val_root_mean_squared_error: 322.8152\n",
      "Epoch 343/600\n",
      "1/1 [==============================] - 0s 49ms/step - loss: 105644.3281 - root_mean_squared_error: 325.0297 - val_loss: 104169.0234 - val_root_mean_squared_error: 322.7523\n",
      "Epoch 344/600\n",
      "1/1 [==============================] - 0s 49ms/step - loss: 105603.3672 - root_mean_squared_error: 324.9667 - val_loss: 104128.3359 - val_root_mean_squared_error: 322.6892\n",
      "Epoch 345/600\n",
      "1/1 [==============================] - 0s 50ms/step - loss: 105562.4141 - root_mean_squared_error: 324.9037 - val_loss: 104087.6797 - val_root_mean_squared_error: 322.6262\n",
      "Epoch 346/600\n",
      "1/1 [==============================] - 0s 50ms/step - loss: 105521.4766 - root_mean_squared_error: 324.8407 - val_loss: 104047.0234 - val_root_mean_squared_error: 322.5632\n",
      "Epoch 347/600\n",
      "1/1 [==============================] - 0s 50ms/step - loss: 105480.5391 - root_mean_squared_error: 324.7777 - val_loss: 104006.3984 - val_root_mean_squared_error: 322.5002\n",
      "Epoch 348/600\n",
      "1/1 [==============================] - 0s 46ms/step - loss: 105439.6250 - root_mean_squared_error: 324.7147 - val_loss: 103965.7734 - val_root_mean_squared_error: 322.4372\n",
      "Epoch 349/600\n",
      "1/1 [==============================] - 0s 52ms/step - loss: 105398.7109 - root_mean_squared_error: 324.6517 - val_loss: 103925.1562 - val_root_mean_squared_error: 322.3742\n",
      "Epoch 350/600\n",
      "1/1 [==============================] - 0s 51ms/step - loss: 105357.8203 - root_mean_squared_error: 324.5887 - val_loss: 103884.5547 - val_root_mean_squared_error: 322.3113\n",
      "Epoch 351/600\n",
      "1/1 [==============================] - 0s 47ms/step - loss: 105316.9297 - root_mean_squared_error: 324.5257 - val_loss: 103843.9609 - val_root_mean_squared_error: 322.2483\n",
      "Epoch 352/600\n",
      "1/1 [==============================] - 0s 47ms/step - loss: 105276.0547 - root_mean_squared_error: 324.4627 - val_loss: 103803.3828 - val_root_mean_squared_error: 322.1853\n",
      "Epoch 353/600\n",
      "1/1 [==============================] - 0s 49ms/step - loss: 105235.1953 - root_mean_squared_error: 324.3997 - val_loss: 103762.8125 - val_root_mean_squared_error: 322.1223\n",
      "Epoch 354/600\n",
      "1/1 [==============================] - 0s 48ms/step - loss: 105194.3359 - root_mean_squared_error: 324.3368 - val_loss: 103722.2578 - val_root_mean_squared_error: 322.0594\n",
      "Epoch 355/600\n",
      "1/1 [==============================] - 0s 49ms/step - loss: 105153.5156 - root_mean_squared_error: 324.2738 - val_loss: 103681.7188 - val_root_mean_squared_error: 321.9965\n",
      "Epoch 356/600\n",
      "1/1 [==============================] - 0s 48ms/step - loss: 105112.6797 - root_mean_squared_error: 324.2108 - val_loss: 103641.1875 - val_root_mean_squared_error: 321.9335\n",
      "Epoch 357/600\n",
      "1/1 [==============================] - 0s 47ms/step - loss: 105071.8750 - root_mean_squared_error: 324.1479 - val_loss: 103600.6641 - val_root_mean_squared_error: 321.8706\n",
      "Epoch 358/600\n",
      "1/1 [==============================] - 0s 49ms/step - loss: 105031.0625 - root_mean_squared_error: 324.0850 - val_loss: 103560.1562 - val_root_mean_squared_error: 321.8076\n",
      "Epoch 359/600\n",
      "1/1 [==============================] - 0s 47ms/step - loss: 104990.2656 - root_mean_squared_error: 324.0220 - val_loss: 103519.6562 - val_root_mean_squared_error: 321.7447\n",
      "Epoch 360/600\n",
      "1/1 [==============================] - 0s 59ms/step - loss: 104949.4922 - root_mean_squared_error: 323.9591 - val_loss: 103479.1641 - val_root_mean_squared_error: 321.6818\n",
      "Epoch 361/600\n",
      "1/1 [==============================] - 0s 77ms/step - loss: 104908.7266 - root_mean_squared_error: 323.8962 - val_loss: 103438.6953 - val_root_mean_squared_error: 321.6189\n",
      "Epoch 362/600\n",
      "1/1 [==============================] - 0s 64ms/step - loss: 104867.9609 - root_mean_squared_error: 323.8332 - val_loss: 103398.2266 - val_root_mean_squared_error: 321.5559\n",
      "Epoch 363/600\n",
      "1/1 [==============================] - 0s 60ms/step - loss: 104827.2109 - root_mean_squared_error: 323.7703 - val_loss: 103357.7812 - val_root_mean_squared_error: 321.4930\n",
      "Epoch 364/600\n",
      "1/1 [==============================] - 0s 69ms/step - loss: 104786.4844 - root_mean_squared_error: 323.7074 - val_loss: 103317.3438 - val_root_mean_squared_error: 321.4301\n",
      "Epoch 365/600\n",
      "1/1 [==============================] - 0s 55ms/step - loss: 104745.7656 - root_mean_squared_error: 323.6445 - val_loss: 103276.9141 - val_root_mean_squared_error: 321.3672\n",
      "Epoch 366/600\n",
      "1/1 [==============================] - 0s 74ms/step - loss: 104705.0547 - root_mean_squared_error: 323.5816 - val_loss: 103236.5000 - val_root_mean_squared_error: 321.3044\n",
      "Epoch 367/600\n",
      "1/1 [==============================] - 0s 56ms/step - loss: 104664.3594 - root_mean_squared_error: 323.5187 - val_loss: 103196.0938 - val_root_mean_squared_error: 321.2415\n",
      "Epoch 368/600\n",
      "1/1 [==============================] - 0s 50ms/step - loss: 104623.6641 - root_mean_squared_error: 323.4558 - val_loss: 103155.7109 - val_root_mean_squared_error: 321.1786\n",
      "Epoch 369/600\n",
      "1/1 [==============================] - 0s 51ms/step - loss: 104583.0000 - root_mean_squared_error: 323.3929 - val_loss: 103115.3125 - val_root_mean_squared_error: 321.1157\n",
      "Epoch 370/600\n",
      "1/1 [==============================] - 0s 50ms/step - loss: 104542.3203 - root_mean_squared_error: 323.3300 - val_loss: 103074.9375 - val_root_mean_squared_error: 321.0529\n",
      "Epoch 371/600\n",
      "1/1 [==============================] - 0s 60ms/step - loss: 104501.6797 - root_mean_squared_error: 323.2672 - val_loss: 103034.5859 - val_root_mean_squared_error: 320.9900\n",
      "Epoch 372/600\n",
      "1/1 [==============================] - 0s 48ms/step - loss: 104461.0391 - root_mean_squared_error: 323.2043 - val_loss: 102994.2422 - val_root_mean_squared_error: 320.9272\n",
      "Epoch 373/600\n",
      "1/1 [==============================] - 0s 54ms/step - loss: 104420.4141 - root_mean_squared_error: 323.1415 - val_loss: 102953.9062 - val_root_mean_squared_error: 320.8643\n",
      "Epoch 374/600\n",
      "1/1 [==============================] - 0s 49ms/step - loss: 104379.7891 - root_mean_squared_error: 323.0786 - val_loss: 102913.5703 - val_root_mean_squared_error: 320.8015\n",
      "Epoch 375/600\n",
      "1/1 [==============================] - 0s 48ms/step - loss: 104339.1797 - root_mean_squared_error: 323.0157 - val_loss: 102873.2734 - val_root_mean_squared_error: 320.7386\n",
      "Epoch 376/600\n",
      "1/1 [==============================] - 0s 47ms/step - loss: 104298.5859 - root_mean_squared_error: 322.9529 - val_loss: 102832.9609 - val_root_mean_squared_error: 320.6758\n",
      "Epoch 377/600\n",
      "1/1 [==============================] - 0s 47ms/step - loss: 104258.0000 - root_mean_squared_error: 322.8901 - val_loss: 102792.6797 - val_root_mean_squared_error: 320.6130\n",
      "Epoch 378/600\n",
      "1/1 [==============================] - 0s 54ms/step - loss: 104217.4297 - root_mean_squared_error: 322.8272 - val_loss: 102752.3984 - val_root_mean_squared_error: 320.5501\n",
      "Epoch 379/600\n",
      "1/1 [==============================] - 0s 47ms/step - loss: 104176.8750 - root_mean_squared_error: 322.7644 - val_loss: 102712.1250 - val_root_mean_squared_error: 320.4873\n",
      "Epoch 380/600\n",
      "1/1 [==============================] - 0s 51ms/step - loss: 104136.3203 - root_mean_squared_error: 322.7016 - val_loss: 102671.8750 - val_root_mean_squared_error: 320.4245\n",
      "Epoch 381/600\n",
      "1/1 [==============================] - 0s 51ms/step - loss: 104095.7891 - root_mean_squared_error: 322.6388 - val_loss: 102631.6250 - val_root_mean_squared_error: 320.3617\n",
      "Epoch 382/600\n",
      "1/1 [==============================] - 0s 48ms/step - loss: 104055.2500 - root_mean_squared_error: 322.5760 - val_loss: 102591.3984 - val_root_mean_squared_error: 320.2989\n",
      "Epoch 383/600\n",
      "1/1 [==============================] - 0s 50ms/step - loss: 104014.7422 - root_mean_squared_error: 322.5132 - val_loss: 102551.1641 - val_root_mean_squared_error: 320.2361\n",
      "Epoch 384/600\n",
      "1/1 [==============================] - 0s 49ms/step - loss: 103974.2344 - root_mean_squared_error: 322.4503 - val_loss: 102510.9688 - val_root_mean_squared_error: 320.1733\n",
      "Epoch 385/600\n",
      "1/1 [==============================] - 0s 47ms/step - loss: 103933.7422 - root_mean_squared_error: 322.3876 - val_loss: 102470.7578 - val_root_mean_squared_error: 320.1105\n",
      "Epoch 386/600\n",
      "1/1 [==============================] - 0s 48ms/step - loss: 103893.2656 - root_mean_squared_error: 322.3248 - val_loss: 102430.5859 - val_root_mean_squared_error: 320.0478\n",
      "Epoch 387/600\n",
      "1/1 [==============================] - 0s 48ms/step - loss: 103852.8047 - root_mean_squared_error: 322.2620 - val_loss: 102390.4062 - val_root_mean_squared_error: 319.9850\n",
      "Epoch 388/600\n",
      "1/1 [==============================] - 0s 48ms/step - loss: 103812.3359 - root_mean_squared_error: 322.1992 - val_loss: 102350.2422 - val_root_mean_squared_error: 319.9222\n",
      "Epoch 389/600\n",
      "1/1 [==============================] - 0s 47ms/step - loss: 103771.8984 - root_mean_squared_error: 322.1364 - val_loss: 102310.0859 - val_root_mean_squared_error: 319.8595\n",
      "Epoch 390/600\n",
      "1/1 [==============================] - 0s 50ms/step - loss: 103731.4609 - root_mean_squared_error: 322.0737 - val_loss: 102269.9453 - val_root_mean_squared_error: 319.7967\n",
      "Epoch 391/600\n",
      "1/1 [==============================] - 0s 47ms/step - loss: 103691.0469 - root_mean_squared_error: 322.0110 - val_loss: 102229.8125 - val_root_mean_squared_error: 319.7340\n",
      "Epoch 392/600\n",
      "1/1 [==============================] - 0s 49ms/step - loss: 103650.6250 - root_mean_squared_error: 321.9482 - val_loss: 102189.7109 - val_root_mean_squared_error: 319.6713\n",
      "Epoch 393/600\n",
      "1/1 [==============================] - 0s 46ms/step - loss: 103610.2344 - root_mean_squared_error: 321.8854 - val_loss: 102149.5938 - val_root_mean_squared_error: 319.6085\n",
      "Epoch 394/600\n",
      "1/1 [==============================] - 0s 48ms/step - loss: 103569.8359 - root_mean_squared_error: 321.8227 - val_loss: 102109.5000 - val_root_mean_squared_error: 319.5458\n",
      "Epoch 395/600\n",
      "1/1 [==============================] - 0s 51ms/step - loss: 103529.4609 - root_mean_squared_error: 321.7599 - val_loss: 102069.4141 - val_root_mean_squared_error: 319.4830\n",
      "Epoch 396/600\n",
      "1/1 [==============================] - 0s 70ms/step - loss: 103489.1016 - root_mean_squared_error: 321.6972 - val_loss: 102029.3359 - val_root_mean_squared_error: 319.4203\n",
      "Epoch 397/600\n",
      "1/1 [==============================] - 0s 71ms/step - loss: 103448.7500 - root_mean_squared_error: 321.6345 - val_loss: 101989.2812 - val_root_mean_squared_error: 319.3576\n",
      "Epoch 398/600\n",
      "1/1 [==============================] - 0s 56ms/step - loss: 103408.3984 - root_mean_squared_error: 321.5718 - val_loss: 101949.2266 - val_root_mean_squared_error: 319.2949\n",
      "Epoch 399/600\n",
      "1/1 [==============================] - 0s 55ms/step - loss: 103368.0703 - root_mean_squared_error: 321.5091 - val_loss: 101909.1875 - val_root_mean_squared_error: 319.2322\n",
      "Epoch 400/600\n",
      "1/1 [==============================] - 0s 55ms/step - loss: 103327.7500 - root_mean_squared_error: 321.4464 - val_loss: 101869.1641 - val_root_mean_squared_error: 319.1695\n",
      "Epoch 401/600\n",
      "1/1 [==============================] - 0s 52ms/step - loss: 103287.4453 - root_mean_squared_error: 321.3836 - val_loss: 101829.1562 - val_root_mean_squared_error: 319.1068\n",
      "Epoch 402/600\n",
      "1/1 [==============================] - 0s 67ms/step - loss: 103247.1406 - root_mean_squared_error: 321.3209 - val_loss: 101789.1484 - val_root_mean_squared_error: 319.0441\n",
      "Epoch 403/600\n",
      "1/1 [==============================] - 0s 52ms/step - loss: 103206.8672 - root_mean_squared_error: 321.2583 - val_loss: 101749.1562 - val_root_mean_squared_error: 318.9814\n",
      "Epoch 404/600\n",
      "1/1 [==============================] - 0s 53ms/step - loss: 103166.5859 - root_mean_squared_error: 321.1956 - val_loss: 101709.1797 - val_root_mean_squared_error: 318.9188\n",
      "Epoch 405/600\n",
      "1/1 [==============================] - 0s 52ms/step - loss: 103126.3281 - root_mean_squared_error: 321.1329 - val_loss: 101669.2109 - val_root_mean_squared_error: 318.8561\n",
      "Epoch 406/600\n",
      "1/1 [==============================] - 0s 60ms/step - loss: 103086.0781 - root_mean_squared_error: 321.0702 - val_loss: 101629.2500 - val_root_mean_squared_error: 318.7934\n",
      "Epoch 407/600\n",
      "1/1 [==============================] - 0s 57ms/step - loss: 103045.8359 - root_mean_squared_error: 321.0075 - val_loss: 101589.3047 - val_root_mean_squared_error: 318.7308\n",
      "Epoch 408/600\n",
      "1/1 [==============================] - 0s 54ms/step - loss: 103005.6172 - root_mean_squared_error: 320.9449 - val_loss: 101549.3672 - val_root_mean_squared_error: 318.6681\n",
      "Epoch 409/600\n",
      "1/1 [==============================] - 0s 49ms/step - loss: 102965.3906 - root_mean_squared_error: 320.8822 - val_loss: 101509.4609 - val_root_mean_squared_error: 318.6055\n",
      "Epoch 410/600\n",
      "1/1 [==============================] - 0s 58ms/step - loss: 102925.1953 - root_mean_squared_error: 320.8196 - val_loss: 101469.5312 - val_root_mean_squared_error: 318.5428\n",
      "Epoch 411/600\n",
      "1/1 [==============================] - 0s 53ms/step - loss: 102885.0000 - root_mean_squared_error: 320.7569 - val_loss: 101429.6250 - val_root_mean_squared_error: 318.4802\n",
      "Epoch 412/600\n",
      "1/1 [==============================] - 0s 55ms/step - loss: 102844.8203 - root_mean_squared_error: 320.6943 - val_loss: 101389.7422 - val_root_mean_squared_error: 318.4176\n",
      "Epoch 413/600\n",
      "1/1 [==============================] - 0s 52ms/step - loss: 102804.6406 - root_mean_squared_error: 320.6316 - val_loss: 101349.8672 - val_root_mean_squared_error: 318.3549\n",
      "Epoch 414/600\n",
      "1/1 [==============================] - 0s 49ms/step - loss: 102764.4844 - root_mean_squared_error: 320.5690 - val_loss: 101310.0000 - val_root_mean_squared_error: 318.2923\n",
      "Epoch 415/600\n",
      "1/1 [==============================] - 0s 84ms/step - loss: 102724.3359 - root_mean_squared_error: 320.5064 - val_loss: 101270.1484 - val_root_mean_squared_error: 318.2297\n",
      "Epoch 416/600\n",
      "1/1 [==============================] - 0s 61ms/step - loss: 102684.1953 - root_mean_squared_error: 320.4438 - val_loss: 101230.2891 - val_root_mean_squared_error: 318.1671\n",
      "Epoch 417/600\n",
      "1/1 [==============================] - 0s 56ms/step - loss: 102644.0703 - root_mean_squared_error: 320.3811 - val_loss: 101190.4688 - val_root_mean_squared_error: 318.1045\n",
      "Epoch 418/600\n",
      "1/1 [==============================] - 0s 46ms/step - loss: 102603.9609 - root_mean_squared_error: 320.3185 - val_loss: 101150.6328 - val_root_mean_squared_error: 318.0419\n",
      "Epoch 419/600\n",
      "1/1 [==============================] - 0s 47ms/step - loss: 102563.8594 - root_mean_squared_error: 320.2559 - val_loss: 101110.8359 - val_root_mean_squared_error: 317.9793\n",
      "Epoch 420/600\n",
      "1/1 [==============================] - 0s 46ms/step - loss: 102523.7656 - root_mean_squared_error: 320.1933 - val_loss: 101071.0391 - val_root_mean_squared_error: 317.9167\n",
      "Epoch 421/600\n",
      "1/1 [==============================] - 0s 47ms/step - loss: 102483.6953 - root_mean_squared_error: 320.1307 - val_loss: 101031.2500 - val_root_mean_squared_error: 317.8541\n",
      "Epoch 422/600\n",
      "1/1 [==============================] - 0s 44ms/step - loss: 102443.6250 - root_mean_squared_error: 320.0681 - val_loss: 100991.4766 - val_root_mean_squared_error: 317.7916\n",
      "Epoch 423/600\n",
      "1/1 [==============================] - 0s 46ms/step - loss: 102403.5703 - root_mean_squared_error: 320.0056 - val_loss: 100951.7109 - val_root_mean_squared_error: 317.7290\n",
      "Epoch 424/600\n",
      "1/1 [==============================] - 0s 43ms/step - loss: 102363.5156 - root_mean_squared_error: 319.9430 - val_loss: 100911.9609 - val_root_mean_squared_error: 317.6664\n",
      "Epoch 425/600\n",
      "1/1 [==============================] - 0s 45ms/step - loss: 102323.4844 - root_mean_squared_error: 319.8804 - val_loss: 100872.2188 - val_root_mean_squared_error: 317.6039\n",
      "Epoch 426/600\n",
      "1/1 [==============================] - 0s 42ms/step - loss: 102283.4609 - root_mean_squared_error: 319.8179 - val_loss: 100832.4922 - val_root_mean_squared_error: 317.5413\n",
      "Epoch 427/600\n",
      "1/1 [==============================] - 0s 51ms/step - loss: 102243.4609 - root_mean_squared_error: 319.7553 - val_loss: 100792.7734 - val_root_mean_squared_error: 317.4788\n",
      "Epoch 428/600\n",
      "1/1 [==============================] - 0s 92ms/step - loss: 102203.4609 - root_mean_squared_error: 319.6927 - val_loss: 100753.0547 - val_root_mean_squared_error: 317.4162\n",
      "Epoch 429/600\n",
      "1/1 [==============================] - 0s 63ms/step - loss: 102163.4609 - root_mean_squared_error: 319.6302 - val_loss: 100713.3672 - val_root_mean_squared_error: 317.3537\n",
      "Epoch 430/600\n",
      "1/1 [==============================] - 0s 55ms/step - loss: 102123.5000 - root_mean_squared_error: 319.5677 - val_loss: 100673.6797 - val_root_mean_squared_error: 317.2912\n",
      "Epoch 431/600\n",
      "1/1 [==============================] - 0s 52ms/step - loss: 102083.5156 - root_mean_squared_error: 319.5051 - val_loss: 100634.0000 - val_root_mean_squared_error: 317.2286\n",
      "Epoch 432/600\n",
      "1/1 [==============================] - 0s 60ms/step - loss: 102043.5703 - root_mean_squared_error: 319.4426 - val_loss: 100594.3438 - val_root_mean_squared_error: 317.1661\n",
      "Epoch 433/600\n",
      "1/1 [==============================] - 0s 49ms/step - loss: 102003.6250 - root_mean_squared_error: 319.3801 - val_loss: 100554.6875 - val_root_mean_squared_error: 317.1036\n",
      "Epoch 434/600\n",
      "1/1 [==============================] - 0s 47ms/step - loss: 101963.6953 - root_mean_squared_error: 319.3175 - val_loss: 100515.0547 - val_root_mean_squared_error: 317.0411\n",
      "Epoch 435/600\n",
      "1/1 [==============================] - 0s 45ms/step - loss: 101923.7656 - root_mean_squared_error: 319.2550 - val_loss: 100475.4297 - val_root_mean_squared_error: 316.9786\n",
      "Epoch 436/600\n",
      "1/1 [==============================] - 0s 46ms/step - loss: 101883.8750 - root_mean_squared_error: 319.1925 - val_loss: 100435.8125 - val_root_mean_squared_error: 316.9161\n",
      "Epoch 437/600\n",
      "1/1 [==============================] - 0s 47ms/step - loss: 101843.9844 - root_mean_squared_error: 319.1300 - val_loss: 100396.2109 - val_root_mean_squared_error: 316.8536\n",
      "Epoch 438/600\n",
      "1/1 [==============================] - 0s 48ms/step - loss: 101804.0859 - root_mean_squared_error: 319.0675 - val_loss: 100356.6016 - val_root_mean_squared_error: 316.7911\n",
      "Epoch 439/600\n",
      "1/1 [==============================] - 0s 71ms/step - loss: 101764.2109 - root_mean_squared_error: 319.0050 - val_loss: 100317.0234 - val_root_mean_squared_error: 316.7286\n",
      "Epoch 440/600\n",
      "1/1 [==============================] - 0s 49ms/step - loss: 101724.3359 - root_mean_squared_error: 318.9425 - val_loss: 100277.4609 - val_root_mean_squared_error: 316.6662\n",
      "Epoch 441/600\n",
      "1/1 [==============================] - 0s 45ms/step - loss: 101684.5000 - root_mean_squared_error: 318.8801 - val_loss: 100237.8984 - val_root_mean_squared_error: 316.6037\n",
      "Epoch 442/600\n",
      "1/1 [==============================] - 0s 48ms/step - loss: 101644.6641 - root_mean_squared_error: 318.8176 - val_loss: 100198.3438 - val_root_mean_squared_error: 316.5412\n",
      "Epoch 443/600\n",
      "1/1 [==============================] - 0s 45ms/step - loss: 101604.8203 - root_mean_squared_error: 318.7551 - val_loss: 100158.8047 - val_root_mean_squared_error: 316.4788\n",
      "Epoch 444/600\n",
      "1/1 [==============================] - 0s 56ms/step - loss: 101565.0156 - root_mean_squared_error: 318.6927 - val_loss: 100119.2812 - val_root_mean_squared_error: 316.4163\n",
      "Epoch 445/600\n",
      "1/1 [==============================] - 0s 44ms/step - loss: 101525.2109 - root_mean_squared_error: 318.6302 - val_loss: 100079.7578 - val_root_mean_squared_error: 316.3539\n",
      "Epoch 446/600\n",
      "1/1 [==============================] - 0s 42ms/step - loss: 101485.4141 - root_mean_squared_error: 318.5677 - val_loss: 100040.2734 - val_root_mean_squared_error: 316.2914\n",
      "Epoch 447/600\n",
      "1/1 [==============================] - 0s 58ms/step - loss: 101445.6250 - root_mean_squared_error: 318.5053 - val_loss: 100000.7812 - val_root_mean_squared_error: 316.2290\n",
      "Epoch 448/600\n",
      "1/1 [==============================] - 0s 46ms/step - loss: 101405.8594 - root_mean_squared_error: 318.4429 - val_loss: 99961.2891 - val_root_mean_squared_error: 316.1666\n",
      "Epoch 449/600\n",
      "1/1 [==============================] - 0s 45ms/step - loss: 101366.0859 - root_mean_squared_error: 318.3804 - val_loss: 99921.8203 - val_root_mean_squared_error: 316.1041\n",
      "Epoch 450/600\n",
      "1/1 [==============================] - 0s 41ms/step - loss: 101326.3359 - root_mean_squared_error: 318.3180 - val_loss: 99882.3672 - val_root_mean_squared_error: 316.0417\n",
      "Epoch 451/600\n",
      "1/1 [==============================] - 0s 42ms/step - loss: 101286.6094 - root_mean_squared_error: 318.2556 - val_loss: 99842.9141 - val_root_mean_squared_error: 315.9793\n",
      "Epoch 452/600\n",
      "1/1 [==============================] - 0s 40ms/step - loss: 101246.8750 - root_mean_squared_error: 318.1931 - val_loss: 99803.4766 - val_root_mean_squared_error: 315.9169\n",
      "Epoch 453/600\n",
      "1/1 [==============================] - 0s 43ms/step - loss: 101207.1641 - root_mean_squared_error: 318.1307 - val_loss: 99764.0547 - val_root_mean_squared_error: 315.8545\n",
      "Epoch 454/600\n",
      "1/1 [==============================] - 0s 41ms/step - loss: 101167.4609 - root_mean_squared_error: 318.0683 - val_loss: 99724.6328 - val_root_mean_squared_error: 315.7921\n",
      "Epoch 455/600\n",
      "1/1 [==============================] - 0s 41ms/step - loss: 101127.7578 - root_mean_squared_error: 318.0059 - val_loss: 99685.2422 - val_root_mean_squared_error: 315.7297\n",
      "Epoch 456/600\n",
      "1/1 [==============================] - 0s 41ms/step - loss: 101088.0781 - root_mean_squared_error: 317.9435 - val_loss: 99645.8516 - val_root_mean_squared_error: 315.6673\n",
      "Epoch 457/600\n",
      "1/1 [==============================] - 0s 58ms/step - loss: 101048.4141 - root_mean_squared_error: 317.8811 - val_loss: 99606.4766 - val_root_mean_squared_error: 315.6049\n",
      "Epoch 458/600\n",
      "1/1 [==============================] - 0s 62ms/step - loss: 101008.7500 - root_mean_squared_error: 317.8187 - val_loss: 99567.1016 - val_root_mean_squared_error: 315.5425\n",
      "Epoch 459/600\n",
      "1/1 [==============================] - 0s 57ms/step - loss: 100969.1094 - root_mean_squared_error: 317.7564 - val_loss: 99527.7266 - val_root_mean_squared_error: 315.4802\n",
      "Epoch 460/600\n",
      "1/1 [==============================] - 0s 57ms/step - loss: 100929.4609 - root_mean_squared_error: 317.6940 - val_loss: 99488.3984 - val_root_mean_squared_error: 315.4178\n",
      "Epoch 461/600\n",
      "1/1 [==============================] - 0s 48ms/step - loss: 100889.8359 - root_mean_squared_error: 317.6316 - val_loss: 99449.0625 - val_root_mean_squared_error: 315.3555\n",
      "Epoch 462/600\n",
      "1/1 [==============================] - 0s 56ms/step - loss: 100850.2266 - root_mean_squared_error: 317.5692 - val_loss: 99409.7422 - val_root_mean_squared_error: 315.2931\n",
      "Epoch 463/600\n",
      "1/1 [==============================] - 0s 49ms/step - loss: 100810.6250 - root_mean_squared_error: 317.5069 - val_loss: 99370.4297 - val_root_mean_squared_error: 315.2307\n",
      "Epoch 464/600\n",
      "1/1 [==============================] - 0s 50ms/step - loss: 100771.0234 - root_mean_squared_error: 317.4445 - val_loss: 99331.1250 - val_root_mean_squared_error: 315.1684\n",
      "Epoch 465/600\n",
      "1/1 [==============================] - 0s 45ms/step - loss: 100731.4531 - root_mean_squared_error: 317.3822 - val_loss: 99291.8438 - val_root_mean_squared_error: 315.1061\n",
      "Epoch 466/600\n",
      "1/1 [==============================] - 0s 44ms/step - loss: 100691.8906 - root_mean_squared_error: 317.3199 - val_loss: 99252.5625 - val_root_mean_squared_error: 315.0438\n",
      "Epoch 467/600\n",
      "1/1 [==============================] - 0s 43ms/step - loss: 100652.3203 - root_mean_squared_error: 317.2575 - val_loss: 99213.2891 - val_root_mean_squared_error: 314.9814\n",
      "Epoch 468/600\n",
      "1/1 [==============================] - 0s 40ms/step - loss: 100612.7656 - root_mean_squared_error: 317.1952 - val_loss: 99174.0391 - val_root_mean_squared_error: 314.9191\n",
      "Epoch 469/600\n",
      "1/1 [==============================] - 0s 43ms/step - loss: 100573.2500 - root_mean_squared_error: 317.1329 - val_loss: 99134.7891 - val_root_mean_squared_error: 314.8568\n",
      "Epoch 470/600\n",
      "1/1 [==============================] - 0s 44ms/step - loss: 100533.7109 - root_mean_squared_error: 317.0705 - val_loss: 99095.5625 - val_root_mean_squared_error: 314.7945\n",
      "Epoch 471/600\n",
      "1/1 [==============================] - 0s 41ms/step - loss: 100494.1953 - root_mean_squared_error: 317.0082 - val_loss: 99056.3359 - val_root_mean_squared_error: 314.7322\n",
      "Epoch 472/600\n",
      "1/1 [==============================] - 0s 43ms/step - loss: 100454.6953 - root_mean_squared_error: 316.9459 - val_loss: 99017.1250 - val_root_mean_squared_error: 314.6699\n",
      "Epoch 473/600\n",
      "1/1 [==============================] - 0s 41ms/step - loss: 100415.2109 - root_mean_squared_error: 316.8836 - val_loss: 98977.9297 - val_root_mean_squared_error: 314.6076\n",
      "Epoch 474/600\n",
      "1/1 [==============================] - 0s 39ms/step - loss: 100375.7344 - root_mean_squared_error: 316.8213 - val_loss: 98938.7500 - val_root_mean_squared_error: 314.5453\n",
      "Epoch 475/600\n",
      "1/1 [==============================] - 0s 42ms/step - loss: 100336.2656 - root_mean_squared_error: 316.7590 - val_loss: 98899.5625 - val_root_mean_squared_error: 314.4830\n",
      "Epoch 476/600\n",
      "1/1 [==============================] - 0s 44ms/step - loss: 100296.8125 - root_mean_squared_error: 316.6967 - val_loss: 98860.3984 - val_root_mean_squared_error: 314.4207\n",
      "Epoch 477/600\n",
      "1/1 [==============================] - 0s 41ms/step - loss: 100257.3594 - root_mean_squared_error: 316.6344 - val_loss: 98821.2422 - val_root_mean_squared_error: 314.3585\n",
      "Epoch 478/600\n",
      "1/1 [==============================] - 0s 41ms/step - loss: 100217.9297 - root_mean_squared_error: 316.5721 - val_loss: 98782.0938 - val_root_mean_squared_error: 314.2962\n",
      "Epoch 479/600\n",
      "1/1 [==============================] - 0s 41ms/step - loss: 100178.5000 - root_mean_squared_error: 316.5099 - val_loss: 98742.9688 - val_root_mean_squared_error: 314.2339\n",
      "Epoch 480/600\n",
      "1/1 [==============================] - 0s 41ms/step - loss: 100139.0859 - root_mean_squared_error: 316.4476 - val_loss: 98703.8516 - val_root_mean_squared_error: 314.1717\n",
      "Epoch 481/600\n",
      "1/1 [==============================] - 0s 43ms/step - loss: 100099.6953 - root_mean_squared_error: 316.3853 - val_loss: 98664.7266 - val_root_mean_squared_error: 314.1094\n",
      "Epoch 482/600\n",
      "1/1 [==============================] - 0s 47ms/step - loss: 100060.3047 - root_mean_squared_error: 316.3231 - val_loss: 98625.6328 - val_root_mean_squared_error: 314.0472\n",
      "Epoch 483/600\n",
      "1/1 [==============================] - 0s 65ms/step - loss: 100020.9297 - root_mean_squared_error: 316.2609 - val_loss: 98586.5547 - val_root_mean_squared_error: 313.9850\n",
      "Epoch 484/600\n",
      "1/1 [==============================] - 0s 59ms/step - loss: 99981.5547 - root_mean_squared_error: 316.1986 - val_loss: 98547.4766 - val_root_mean_squared_error: 313.9227\n",
      "Epoch 485/600\n",
      "1/1 [==============================] - 0s 48ms/step - loss: 99942.2031 - root_mean_squared_error: 316.1364 - val_loss: 98508.4062 - val_root_mean_squared_error: 313.8605\n",
      "Epoch 486/600\n",
      "1/1 [==============================] - 0s 49ms/step - loss: 99902.8594 - root_mean_squared_error: 316.0741 - val_loss: 98469.3672 - val_root_mean_squared_error: 313.7983\n",
      "Epoch 487/600\n",
      "1/1 [==============================] - 0s 53ms/step - loss: 99863.5391 - root_mean_squared_error: 316.0119 - val_loss: 98430.3125 - val_root_mean_squared_error: 313.7361\n",
      "Epoch 488/600\n",
      "1/1 [==============================] - 0s 52ms/step - loss: 99824.2031 - root_mean_squared_error: 315.9497 - val_loss: 98391.2891 - val_root_mean_squared_error: 313.6739\n",
      "Epoch 489/600\n",
      "1/1 [==============================] - 0s 54ms/step - loss: 99784.8984 - root_mean_squared_error: 315.8875 - val_loss: 98352.2578 - val_root_mean_squared_error: 313.6116\n",
      "Epoch 490/600\n",
      "1/1 [==============================] - 0s 43ms/step - loss: 99745.5859 - root_mean_squared_error: 315.8253 - val_loss: 98313.2500 - val_root_mean_squared_error: 313.5494\n",
      "Epoch 491/600\n",
      "1/1 [==============================] - 0s 44ms/step - loss: 99706.3047 - root_mean_squared_error: 315.7631 - val_loss: 98274.2500 - val_root_mean_squared_error: 313.4872\n",
      "Epoch 492/600\n",
      "1/1 [==============================] - 0s 44ms/step - loss: 99667.0234 - root_mean_squared_error: 315.7008 - val_loss: 98235.2734 - val_root_mean_squared_error: 313.4251\n",
      "Epoch 493/600\n",
      "1/1 [==============================] - 0s 42ms/step - loss: 99627.7656 - root_mean_squared_error: 315.6387 - val_loss: 98196.2891 - val_root_mean_squared_error: 313.3629\n",
      "Epoch 494/600\n",
      "1/1 [==============================] - 0s 44ms/step - loss: 99588.5078 - root_mean_squared_error: 315.5765 - val_loss: 98157.3203 - val_root_mean_squared_error: 313.3007\n",
      "Epoch 495/600\n",
      "1/1 [==============================] - 0s 43ms/step - loss: 99549.2656 - root_mean_squared_error: 315.5143 - val_loss: 98118.3750 - val_root_mean_squared_error: 313.2385\n",
      "Epoch 496/600\n",
      "1/1 [==============================] - 0s 40ms/step - loss: 99510.0391 - root_mean_squared_error: 315.4521 - val_loss: 98079.4375 - val_root_mean_squared_error: 313.1764\n",
      "Epoch 497/600\n",
      "1/1 [==============================] - 0s 42ms/step - loss: 99470.8203 - root_mean_squared_error: 315.3900 - val_loss: 98040.5000 - val_root_mean_squared_error: 313.1142\n",
      "Epoch 498/600\n",
      "1/1 [==============================] - 0s 41ms/step - loss: 99431.6094 - root_mean_squared_error: 315.3278 - val_loss: 98001.5859 - val_root_mean_squared_error: 313.0521\n",
      "Epoch 499/600\n",
      "1/1 [==============================] - 0s 42ms/step - loss: 99392.4141 - root_mean_squared_error: 315.2656 - val_loss: 97962.6641 - val_root_mean_squared_error: 312.9899\n",
      "Epoch 500/600\n",
      "1/1 [==============================] - 0s 42ms/step - loss: 99353.2266 - root_mean_squared_error: 315.2035 - val_loss: 97923.7812 - val_root_mean_squared_error: 312.9278\n",
      "Epoch 501/600\n",
      "1/1 [==============================] - 0s 41ms/step - loss: 99314.0469 - root_mean_squared_error: 315.1413 - val_loss: 97884.8984 - val_root_mean_squared_error: 312.8656\n",
      "Epoch 502/600\n",
      "1/1 [==============================] - 0s 40ms/step - loss: 99274.8750 - root_mean_squared_error: 315.0792 - val_loss: 97846.0234 - val_root_mean_squared_error: 312.8035\n",
      "Epoch 503/600\n",
      "1/1 [==============================] - 0s 39ms/step - loss: 99235.7109 - root_mean_squared_error: 315.0170 - val_loss: 97807.1484 - val_root_mean_squared_error: 312.7413\n",
      "Epoch 504/600\n",
      "1/1 [==============================] - 0s 50ms/step - loss: 99196.5703 - root_mean_squared_error: 314.9549 - val_loss: 97768.3047 - val_root_mean_squared_error: 312.6792\n",
      "Epoch 505/600\n",
      "1/1 [==============================] - 0s 39ms/step - loss: 99157.4453 - root_mean_squared_error: 314.8928 - val_loss: 97729.4453 - val_root_mean_squared_error: 312.6171\n",
      "Epoch 506/600\n",
      "1/1 [==============================] - 0s 58ms/step - loss: 99118.3203 - root_mean_squared_error: 314.8306 - val_loss: 97690.6250 - val_root_mean_squared_error: 312.5550\n",
      "Epoch 507/600\n",
      "1/1 [==============================] - 0s 63ms/step - loss: 99079.2109 - root_mean_squared_error: 314.7685 - val_loss: 97651.8125 - val_root_mean_squared_error: 312.4929\n",
      "Epoch 508/600\n",
      "1/1 [==============================] - 0s 59ms/step - loss: 99040.1172 - root_mean_squared_error: 314.7064 - val_loss: 97613.0000 - val_root_mean_squared_error: 312.4308\n",
      "Epoch 509/600\n",
      "1/1 [==============================] - 0s 50ms/step - loss: 99001.0391 - root_mean_squared_error: 314.6443 - val_loss: 97574.2109 - val_root_mean_squared_error: 312.3687\n",
      "Epoch 510/600\n",
      "1/1 [==============================] - 0s 49ms/step - loss: 98961.9531 - root_mean_squared_error: 314.5822 - val_loss: 97535.4141 - val_root_mean_squared_error: 312.3066\n",
      "Epoch 511/600\n",
      "1/1 [==============================] - 0s 50ms/step - loss: 98922.8906 - root_mean_squared_error: 314.5201 - val_loss: 97496.6328 - val_root_mean_squared_error: 312.2445\n",
      "Epoch 512/600\n",
      "1/1 [==============================] - 0s 47ms/step - loss: 98883.8359 - root_mean_squared_error: 314.4580 - val_loss: 97457.8750 - val_root_mean_squared_error: 312.1824\n",
      "Epoch 513/600\n",
      "1/1 [==============================] - 0s 41ms/step - loss: 98844.7969 - root_mean_squared_error: 314.3959 - val_loss: 97419.1250 - val_root_mean_squared_error: 312.1204\n",
      "Epoch 514/600\n",
      "1/1 [==============================] - 0s 44ms/step - loss: 98805.7656 - root_mean_squared_error: 314.3338 - val_loss: 97380.3828 - val_root_mean_squared_error: 312.0583\n",
      "Epoch 515/600\n",
      "1/1 [==============================] - 0s 44ms/step - loss: 98766.7500 - root_mean_squared_error: 314.2718 - val_loss: 97341.6484 - val_root_mean_squared_error: 311.9962\n",
      "Epoch 516/600\n",
      "1/1 [==============================] - 0s 43ms/step - loss: 98727.7344 - root_mean_squared_error: 314.2097 - val_loss: 97302.9375 - val_root_mean_squared_error: 311.9342\n",
      "Epoch 517/600\n",
      "1/1 [==============================] - 0s 47ms/step - loss: 98688.7422 - root_mean_squared_error: 314.1476 - val_loss: 97264.2266 - val_root_mean_squared_error: 311.8721\n",
      "Epoch 518/600\n",
      "1/1 [==============================] - 0s 49ms/step - loss: 98649.7500 - root_mean_squared_error: 314.0856 - val_loss: 97225.5234 - val_root_mean_squared_error: 311.8101\n",
      "Epoch 519/600\n",
      "1/1 [==============================] - 0s 41ms/step - loss: 98610.7656 - root_mean_squared_error: 314.0235 - val_loss: 97186.8359 - val_root_mean_squared_error: 311.7480\n",
      "Epoch 520/600\n",
      "1/1 [==============================] - 0s 42ms/step - loss: 98571.8047 - root_mean_squared_error: 313.9615 - val_loss: 97148.1641 - val_root_mean_squared_error: 311.6860\n",
      "Epoch 521/600\n",
      "1/1 [==============================] - 0s 42ms/step - loss: 98532.8594 - root_mean_squared_error: 313.8994 - val_loss: 97109.4922 - val_root_mean_squared_error: 311.6240\n",
      "Epoch 522/600\n",
      "1/1 [==============================] - 0s 43ms/step - loss: 98493.9141 - root_mean_squared_error: 313.8374 - val_loss: 97070.8438 - val_root_mean_squared_error: 311.5620\n",
      "Epoch 523/600\n",
      "1/1 [==============================] - 0s 41ms/step - loss: 98454.9844 - root_mean_squared_error: 313.7754 - val_loss: 97032.2109 - val_root_mean_squared_error: 311.4999\n",
      "Epoch 524/600\n",
      "1/1 [==============================] - 0s 45ms/step - loss: 98416.0547 - root_mean_squared_error: 313.7133 - val_loss: 96993.5703 - val_root_mean_squared_error: 311.4379\n",
      "Epoch 525/600\n",
      "1/1 [==============================] - 0s 40ms/step - loss: 98377.1406 - root_mean_squared_error: 313.6513 - val_loss: 96954.9609 - val_root_mean_squared_error: 311.3759\n",
      "Epoch 526/600\n",
      "1/1 [==============================] - 0s 41ms/step - loss: 98338.2500 - root_mean_squared_error: 313.5893 - val_loss: 96916.3359 - val_root_mean_squared_error: 311.3139\n",
      "Epoch 527/600\n",
      "1/1 [==============================] - 0s 41ms/step - loss: 98299.3594 - root_mean_squared_error: 313.5273 - val_loss: 96877.7422 - val_root_mean_squared_error: 311.2519\n",
      "Epoch 528/600\n",
      "1/1 [==============================] - 0s 42ms/step - loss: 98260.4844 - root_mean_squared_error: 313.4653 - val_loss: 96839.1562 - val_root_mean_squared_error: 311.1899\n",
      "Epoch 529/600\n",
      "1/1 [==============================] - 0s 42ms/step - loss: 98221.6250 - root_mean_squared_error: 313.4033 - val_loss: 96800.5859 - val_root_mean_squared_error: 311.1279\n",
      "Epoch 530/600\n",
      "1/1 [==============================] - 0s 57ms/step - loss: 98182.7656 - root_mean_squared_error: 313.3413 - val_loss: 96762.0234 - val_root_mean_squared_error: 311.0659\n",
      "Epoch 531/600\n",
      "1/1 [==============================] - 0s 63ms/step - loss: 98143.9297 - root_mean_squared_error: 313.2793 - val_loss: 96723.4688 - val_root_mean_squared_error: 311.0040\n",
      "Epoch 532/600\n",
      "1/1 [==============================] - 0s 51ms/step - loss: 98105.1094 - root_mean_squared_error: 313.2173 - val_loss: 96684.9141 - val_root_mean_squared_error: 310.9420\n",
      "Epoch 533/600\n",
      "1/1 [==============================] - 0s 48ms/step - loss: 98066.2734 - root_mean_squared_error: 313.1554 - val_loss: 96646.3984 - val_root_mean_squared_error: 310.8800\n",
      "Epoch 534/600\n",
      "1/1 [==============================] - 0s 55ms/step - loss: 98027.4766 - root_mean_squared_error: 313.0934 - val_loss: 96607.8750 - val_root_mean_squared_error: 310.8181\n",
      "Epoch 535/600\n",
      "1/1 [==============================] - 0s 46ms/step - loss: 97988.6797 - root_mean_squared_error: 313.0314 - val_loss: 96569.3750 - val_root_mean_squared_error: 310.7561\n",
      "Epoch 536/600\n",
      "1/1 [==============================] - 0s 50ms/step - loss: 97949.8750 - root_mean_squared_error: 312.9695 - val_loss: 96530.8672 - val_root_mean_squared_error: 310.6942\n",
      "Epoch 537/600\n",
      "1/1 [==============================] - 0s 55ms/step - loss: 97911.1094 - root_mean_squared_error: 312.9075 - val_loss: 96492.3750 - val_root_mean_squared_error: 310.6322\n",
      "Epoch 538/600\n",
      "1/1 [==============================] - 0s 43ms/step - loss: 97872.3359 - root_mean_squared_error: 312.8456 - val_loss: 96453.9062 - val_root_mean_squared_error: 310.5703\n",
      "Epoch 539/600\n",
      "1/1 [==============================] - 0s 45ms/step - loss: 97833.5859 - root_mean_squared_error: 312.7836 - val_loss: 96415.4375 - val_root_mean_squared_error: 310.5084\n",
      "Epoch 540/600\n",
      "1/1 [==============================] - 0s 43ms/step - loss: 97794.8359 - root_mean_squared_error: 312.7216 - val_loss: 96376.9922 - val_root_mean_squared_error: 310.4464\n",
      "Epoch 541/600\n",
      "1/1 [==============================] - 0s 43ms/step - loss: 97756.1172 - root_mean_squared_error: 312.6598 - val_loss: 96338.5391 - val_root_mean_squared_error: 310.3845\n",
      "Epoch 542/600\n",
      "1/1 [==============================] - 0s 43ms/step - loss: 97717.3906 - root_mean_squared_error: 312.5978 - val_loss: 96300.1016 - val_root_mean_squared_error: 310.3226\n",
      "Epoch 543/600\n",
      "1/1 [==============================] - 0s 42ms/step - loss: 97678.6797 - root_mean_squared_error: 312.5359 - val_loss: 96261.6875 - val_root_mean_squared_error: 310.2607\n",
      "Epoch 544/600\n",
      "1/1 [==============================] - 0s 48ms/step - loss: 97639.9844 - root_mean_squared_error: 312.4740 - val_loss: 96223.2734 - val_root_mean_squared_error: 310.1988\n",
      "Epoch 545/600\n",
      "1/1 [==============================] - 0s 41ms/step - loss: 97601.3047 - root_mean_squared_error: 312.4121 - val_loss: 96184.8750 - val_root_mean_squared_error: 310.1369\n",
      "Epoch 546/600\n",
      "1/1 [==============================] - 0s 42ms/step - loss: 97562.6250 - root_mean_squared_error: 312.3502 - val_loss: 96146.4922 - val_root_mean_squared_error: 310.0750\n",
      "Epoch 547/600\n",
      "1/1 [==============================] - 0s 42ms/step - loss: 97523.9531 - root_mean_squared_error: 312.2882 - val_loss: 96108.1172 - val_root_mean_squared_error: 310.0131\n",
      "Epoch 548/600\n",
      "1/1 [==============================] - 0s 42ms/step - loss: 97485.3047 - root_mean_squared_error: 312.2264 - val_loss: 96069.7500 - val_root_mean_squared_error: 309.9512\n",
      "Epoch 549/600\n",
      "1/1 [==============================] - 0s 39ms/step - loss: 97446.6641 - root_mean_squared_error: 312.1645 - val_loss: 96031.3984 - val_root_mean_squared_error: 309.8893\n",
      "Epoch 550/600\n",
      "1/1 [==============================] - 0s 42ms/step - loss: 97408.0234 - root_mean_squared_error: 312.1026 - val_loss: 95993.0547 - val_root_mean_squared_error: 309.8275\n",
      "Epoch 551/600\n",
      "1/1 [==============================] - 0s 41ms/step - loss: 97369.3984 - root_mean_squared_error: 312.0407 - val_loss: 95954.7188 - val_root_mean_squared_error: 309.7656\n",
      "Epoch 552/600\n",
      "1/1 [==============================] - 0s 41ms/step - loss: 97330.7891 - root_mean_squared_error: 311.9788 - val_loss: 95916.3984 - val_root_mean_squared_error: 309.7037\n",
      "Epoch 553/600\n",
      "1/1 [==============================] - 0s 46ms/step - loss: 97292.1953 - root_mean_squared_error: 311.9170 - val_loss: 95878.0859 - val_root_mean_squared_error: 309.6419\n",
      "Epoch 554/600\n",
      "1/1 [==============================] - 0s 65ms/step - loss: 97253.6094 - root_mean_squared_error: 311.8551 - val_loss: 95839.7891 - val_root_mean_squared_error: 309.5800\n",
      "Epoch 555/600\n",
      "1/1 [==============================] - 0s 58ms/step - loss: 97215.0234 - root_mean_squared_error: 311.7932 - val_loss: 95801.5000 - val_root_mean_squared_error: 309.5182\n",
      "Epoch 556/600\n",
      "1/1 [==============================] - 0s 58ms/step - loss: 97176.4609 - root_mean_squared_error: 311.7314 - val_loss: 95763.2266 - val_root_mean_squared_error: 309.4563\n",
      "Epoch 557/600\n",
      "1/1 [==============================] - 0s 57ms/step - loss: 97137.9141 - root_mean_squared_error: 311.6696 - val_loss: 95724.9609 - val_root_mean_squared_error: 309.3945\n",
      "Epoch 558/600\n",
      "1/1 [==============================] - 0s 47ms/step - loss: 97099.3672 - root_mean_squared_error: 311.6077 - val_loss: 95686.6953 - val_root_mean_squared_error: 309.3327\n",
      "Epoch 559/600\n",
      "1/1 [==============================] - 0s 48ms/step - loss: 97060.8281 - root_mean_squared_error: 311.5459 - val_loss: 95648.4609 - val_root_mean_squared_error: 309.2708\n",
      "Epoch 560/600\n",
      "1/1 [==============================] - 0s 54ms/step - loss: 97022.3047 - root_mean_squared_error: 311.4840 - val_loss: 95610.2266 - val_root_mean_squared_error: 309.2090\n",
      "Epoch 561/600\n",
      "1/1 [==============================] - 0s 50ms/step - loss: 96983.8047 - root_mean_squared_error: 311.4222 - val_loss: 95572.0000 - val_root_mean_squared_error: 309.1472\n",
      "Epoch 562/600\n",
      "1/1 [==============================] - 0s 43ms/step - loss: 96945.3047 - root_mean_squared_error: 311.3604 - val_loss: 95533.7812 - val_root_mean_squared_error: 309.0854\n",
      "Epoch 563/600\n",
      "1/1 [==============================] - 0s 42ms/step - loss: 96906.8047 - root_mean_squared_error: 311.2986 - val_loss: 95495.5859 - val_root_mean_squared_error: 309.0236\n",
      "Epoch 564/600\n",
      "1/1 [==============================] - 0s 45ms/step - loss: 96868.3281 - root_mean_squared_error: 311.2368 - val_loss: 95457.3984 - val_root_mean_squared_error: 308.9618\n",
      "Epoch 565/600\n",
      "1/1 [==============================] - 0s 42ms/step - loss: 96829.8672 - root_mean_squared_error: 311.1750 - val_loss: 95419.2188 - val_root_mean_squared_error: 308.9000\n",
      "Epoch 566/600\n",
      "1/1 [==============================] - 0s 43ms/step - loss: 96791.4141 - root_mean_squared_error: 311.1132 - val_loss: 95381.0547 - val_root_mean_squared_error: 308.8382\n",
      "Epoch 567/600\n",
      "1/1 [==============================] - 0s 45ms/step - loss: 96752.9609 - root_mean_squared_error: 311.0514 - val_loss: 95342.8828 - val_root_mean_squared_error: 308.7764\n",
      "Epoch 568/600\n",
      "1/1 [==============================] - 0s 41ms/step - loss: 96714.5156 - root_mean_squared_error: 310.9896 - val_loss: 95304.7500 - val_root_mean_squared_error: 308.7147\n",
      "Epoch 569/600\n",
      "1/1 [==============================] - 0s 42ms/step - loss: 96676.1094 - root_mean_squared_error: 310.9278 - val_loss: 95266.6172 - val_root_mean_squared_error: 308.6529\n",
      "Epoch 570/600\n",
      "1/1 [==============================] - 0s 43ms/step - loss: 96637.6953 - root_mean_squared_error: 310.8660 - val_loss: 95228.5000 - val_root_mean_squared_error: 308.5912\n",
      "Epoch 571/600\n",
      "1/1 [==============================] - 0s 43ms/step - loss: 96599.3047 - root_mean_squared_error: 310.8043 - val_loss: 95190.3672 - val_root_mean_squared_error: 308.5294\n",
      "Epoch 572/600\n",
      "1/1 [==============================] - 0s 42ms/step - loss: 96560.8906 - root_mean_squared_error: 310.7425 - val_loss: 95152.2734 - val_root_mean_squared_error: 308.4676\n",
      "Epoch 573/600\n",
      "1/1 [==============================] - 0s 42ms/step - loss: 96522.5156 - root_mean_squared_error: 310.6807 - val_loss: 95114.1875 - val_root_mean_squared_error: 308.4059\n",
      "Epoch 574/600\n",
      "1/1 [==============================] - 0s 42ms/step - loss: 96484.1484 - root_mean_squared_error: 310.6190 - val_loss: 95076.0938 - val_root_mean_squared_error: 308.3441\n",
      "Epoch 575/600\n",
      "1/1 [==============================] - 0s 50ms/step - loss: 96445.7969 - root_mean_squared_error: 310.5573 - val_loss: 95038.0312 - val_root_mean_squared_error: 308.2824\n",
      "Epoch 576/600\n",
      "1/1 [==============================] - 0s 65ms/step - loss: 96407.4453 - root_mean_squared_error: 310.4955 - val_loss: 94999.9766 - val_root_mean_squared_error: 308.2207\n",
      "Epoch 577/600\n",
      "1/1 [==============================] - 0s 54ms/step - loss: 96369.1172 - root_mean_squared_error: 310.4337 - val_loss: 94961.9297 - val_root_mean_squared_error: 308.1589\n",
      "Epoch 578/600\n",
      "1/1 [==============================] - 0s 51ms/step - loss: 96330.7891 - root_mean_squared_error: 310.3720 - val_loss: 94923.8984 - val_root_mean_squared_error: 308.0972\n",
      "Epoch 579/600\n",
      "1/1 [==============================] - 0s 48ms/step - loss: 96292.4766 - root_mean_squared_error: 310.3103 - val_loss: 94885.8750 - val_root_mean_squared_error: 308.0355\n",
      "Epoch 580/600\n",
      "1/1 [==============================] - 0s 49ms/step - loss: 96254.1797 - root_mean_squared_error: 310.2486 - val_loss: 94847.8516 - val_root_mean_squared_error: 307.9738\n",
      "Epoch 581/600\n",
      "1/1 [==============================] - 0s 48ms/step - loss: 96215.8828 - root_mean_squared_error: 310.1869 - val_loss: 94809.8438 - val_root_mean_squared_error: 307.9121\n",
      "Epoch 582/600\n",
      "1/1 [==============================] - 0s 54ms/step - loss: 96177.6094 - root_mean_squared_error: 310.1252 - val_loss: 94771.8516 - val_root_mean_squared_error: 307.8504\n",
      "Epoch 583/600\n",
      "1/1 [==============================] - 0s 44ms/step - loss: 96139.3281 - root_mean_squared_error: 310.0634 - val_loss: 94733.8750 - val_root_mean_squared_error: 307.7887\n",
      "Epoch 584/600\n",
      "1/1 [==============================] - 0s 43ms/step - loss: 96101.0703 - root_mean_squared_error: 310.0017 - val_loss: 94695.9062 - val_root_mean_squared_error: 307.7270\n",
      "Epoch 585/600\n",
      "1/1 [==============================] - 0s 48ms/step - loss: 96062.8281 - root_mean_squared_error: 309.9400 - val_loss: 94657.9375 - val_root_mean_squared_error: 307.6653\n",
      "Epoch 586/600\n",
      "1/1 [==============================] - 0s 46ms/step - loss: 96024.5859 - root_mean_squared_error: 309.8783 - val_loss: 94619.9766 - val_root_mean_squared_error: 307.6036\n",
      "Epoch 587/600\n",
      "1/1 [==============================] - 0s 40ms/step - loss: 95986.3672 - root_mean_squared_error: 309.8167 - val_loss: 94582.0547 - val_root_mean_squared_error: 307.5420\n",
      "Epoch 588/600\n",
      "1/1 [==============================] - 0s 42ms/step - loss: 95948.1641 - root_mean_squared_error: 309.7550 - val_loss: 94544.1250 - val_root_mean_squared_error: 307.4803\n",
      "Epoch 589/600\n",
      "1/1 [==============================] - 0s 41ms/step - loss: 95909.9375 - root_mean_squared_error: 309.6933 - val_loss: 94506.2109 - val_root_mean_squared_error: 307.4186\n",
      "Epoch 590/600\n",
      "1/1 [==============================] - 0s 43ms/step - loss: 95871.7500 - root_mean_squared_error: 309.6316 - val_loss: 94468.3125 - val_root_mean_squared_error: 307.3570\n",
      "Epoch 591/600\n",
      "1/1 [==============================] - 0s 44ms/step - loss: 95833.5703 - root_mean_squared_error: 309.5700 - val_loss: 94430.4141 - val_root_mean_squared_error: 307.2953\n",
      "Epoch 592/600\n",
      "1/1 [==============================] - 0s 43ms/step - loss: 95795.3906 - root_mean_squared_error: 309.5083 - val_loss: 94392.5234 - val_root_mean_squared_error: 307.2337\n",
      "Epoch 593/600\n",
      "1/1 [==============================] - 0s 42ms/step - loss: 95757.2344 - root_mean_squared_error: 309.4467 - val_loss: 94354.6562 - val_root_mean_squared_error: 307.1720\n",
      "Epoch 594/600\n",
      "1/1 [==============================] - 0s 42ms/step - loss: 95719.0859 - root_mean_squared_error: 309.3850 - val_loss: 94316.7891 - val_root_mean_squared_error: 307.1104\n",
      "Epoch 595/600\n",
      "1/1 [==============================] - 0s 39ms/step - loss: 95680.9453 - root_mean_squared_error: 309.3234 - val_loss: 94278.9375 - val_root_mean_squared_error: 307.0488\n",
      "Epoch 596/600\n",
      "1/1 [==============================] - 0s 40ms/step - loss: 95642.8203 - root_mean_squared_error: 309.2617 - val_loss: 94241.1016 - val_root_mean_squared_error: 306.9871\n",
      "Epoch 597/600\n",
      "1/1 [==============================] - 0s 43ms/step - loss: 95604.6953 - root_mean_squared_error: 309.2001 - val_loss: 94203.2734 - val_root_mean_squared_error: 306.9255\n",
      "Epoch 598/600\n",
      "1/1 [==============================] - 0s 68ms/step - loss: 95566.6016 - root_mean_squared_error: 309.1385 - val_loss: 94165.4609 - val_root_mean_squared_error: 306.8639\n",
      "Epoch 599/600\n",
      "1/1 [==============================] - 0s 55ms/step - loss: 95528.5000 - root_mean_squared_error: 309.0768 - val_loss: 94127.6484 - val_root_mean_squared_error: 306.8023\n",
      "Epoch 600/600\n",
      "1/1 [==============================] - 0s 47ms/step - loss: 95490.4141 - root_mean_squared_error: 309.0152 - val_loss: 94089.8359 - val_root_mean_squared_error: 306.7407\n"
     ]
    }
   ],
   "source": [
    "from tensorflow.keras.callbacks import EarlyStopping\n",
    "\n",
    "import time\n",
    "start_time = time.time()\n",
    "\n",
    "early_stop = EarlyStopping(monitor='val_root_mean_squared_error', min_delta = 0.0, patience=10, verbose=1, mode='min')\n",
    "\n",
    "history = model.fit(\n",
    "    X_train, \n",
    "    y_train, \n",
    "    epochs=600,\n",
    "    validation_data=(X_test, y_test), \n",
    "    callbacks=[early_stop]\n",
    ")\n",
    "\n",
    "end_time = time.time()"
   ]
  },
  {
   "cell_type": "code",
   "execution_count": null,
   "id": "63829fa4-4245-4aab-8747-236bfaa9e3b5",
   "metadata": {},
   "outputs": [],
   "source": []
  },
  {
   "cell_type": "code",
   "execution_count": 20,
   "id": "1daade6a-1dd4-4937-a996-0cac9d4e2e13",
   "metadata": {},
   "outputs": [
    {
     "data": {
      "text/plain": [
       "<matplotlib.legend.Legend at 0x1dd5e58c9d0>"
      ]
     },
     "execution_count": 20,
     "metadata": {},
     "output_type": "execute_result"
    },
    {
     "data": {
      "image/png": "[encoded data removed]",
      "text/plain": [
       "<Figure size 1500x700 with 2 Axes>"
      ]
     },
     "metadata": {},
     "output_type": "display_data"
    }
   ],
   "source": [
    "fig, (ax1, ax2) = plt.subplots(1, 2, figsize=(15, 7))\n",
    "fig.suptitle('RNN Model Evaluation')\n",
    "\n",
    "ax1.set_title('loss')\n",
    "#ax1.set_ylim(0, 100)\n",
    "ax1.plot(history.history['loss'])\n",
    "ax1.plot(history.history['val_loss'])\n",
    "ax1.legend(['train', 'test'], loc='upper left')\n",
    "\n",
    "ax2.set_title('RMSE')\n",
    "#ax2.set_ylim(0, 1)\n",
    "ax2.plot(history.history['root_mean_squared_error'])\n",
    "ax2.plot(history.history['val_root_mean_squared_error'])\n",
    "ax2.legend(['train', 'test'], loc='upper left')"
   ]
  },
  {
   "cell_type": "code",
   "execution_count": 21,
   "id": "59f56286-0b54-4fd7-9959-85a4e7b512d2",
   "metadata": {
    "tags": []
   },
   "outputs": [
    {
     "name": "stdout",
     "output_type": "stream",
     "text": [
      "1/1 [==============================] - 0s 233ms/step\n"
     ]
    },
    {
     "data": {
      "text/plain": [
       "306.74068160990396"
      ]
     },
     "execution_count": 21,
     "metadata": {},
     "output_type": "execute_result"
    }
   ],
   "source": [
    "from sklearn.metrics import mean_squared_error\n",
    "\n",
    "y_pred = model.predict(X_test)  # these predictions are probabilities (0-1) taken from the sigmoid function\n",
    "\n",
    "mean_squared_error(y_test, y_pred)**0.5\n"
   ]
  },
  {
   "cell_type": "markdown",
   "id": "c931bfba-d223-4fa3-9d7b-0114ac815d56",
   "metadata": {},
   "source": [
    "Now, let's say our past 9 days of stocks were as follow...."
   ]
  },
  {
   "cell_type": "code",
   "execution_count": 22,
   "id": "5fb0c223-6262-4f37-b6d8-48db8fc3d2c0",
   "metadata": {
    "tags": []
   },
   "outputs": [],
   "source": [
    "prior_days = np.array(\n",
    "    [ 383.869995,386.25,388.859985,382.359985,383.709991,386.149994,383.809998,380.579987,371.540009 ]\n",
    ")\n",
    "\n",
    "# reshape into the three dimensions for input into model\n",
    "prior_days = prior_days.reshape(1, 9, 1) # 1 row, 9 time steps (features), and 1 output/prediction)"
   ]
  },
  {
   "cell_type": "code",
   "execution_count": 23,
   "id": "ff59d611-2046-4ed6-a64e-ea282c2712e5",
   "metadata": {
    "tags": []
   },
   "outputs": [
    {
     "name": "stdout",
     "output_type": "stream",
     "text": [
      "1/1 [==============================] - 0s 28ms/step\n"
     ]
    },
    {
     "data": {
      "text/plain": [
       "array([[38.329823]], dtype=float32)"
      ]
     },
     "execution_count": 23,
     "metadata": {},
     "output_type": "execute_result"
    }
   ],
   "source": [
    "model.predict(prior_days) # note the structure of the prediction"
   ]
  },
  {
   "cell_type": "code",
   "execution_count": 24,
   "id": "3b0a98c7-7a88-41b0-84b6-3c08c24170a6",
   "metadata": {
    "tags": []
   },
   "outputs": [
    {
     "name": "stdout",
     "output_type": "stream",
     "text": [
      "1/1 [==============================] - 0s 26ms/step\n"
     ]
    }
   ],
   "source": [
    "tomorrows_temp = model.predict(prior_days)[0][0] # we see the predicted temp is embedded inside two dimensions"
   ]
  },
  {
   "cell_type": "code",
   "execution_count": 79,
   "id": "40a170d4-60ee-4d5b-99a3-2efea178986f",
   "metadata": {
    "tags": []
   },
   "outputs": [
    {
     "name": "stdout",
     "output_type": "stream",
     "text": [
      "Tomorrow's predicted stock price is 407.60.\n"
     ]
    }
   ],
   "source": [
    "print(f\"Tomorrow's predicted stock price is {tomorrows_temp:.2f}.\")"
   ]
  },
  {
   "cell_type": "markdown",
   "id": "af96f4c0-422f-4333-b470-3e53f483a221",
   "metadata": {},
   "source": [
    "### Results\n",
    "based on the past 9 days the 10th day stock price is 407"
   ]
  },
  {
   "cell_type": "code",
   "execution_count": 26,
   "id": "4dc4f8bc-d242-493a-93ce-ee68d1493ba3",
   "metadata": {},
   "outputs": [
    {
     "name": "stdout",
     "output_type": "stream",
     "text": [
      "Model: \"sequential_1\"\n",
      "_________________________________________________________________\n",
      " Layer (type)                Output Shape              Param #   \n",
      "=================================================================\n",
      " simple_rnn_1 (SimpleRNN)    (None, 64)                4224      \n",
      "                                                                 \n",
      " dense_1 (Dense)             (None, 1)                 65        \n",
      "                                                                 \n",
      "=================================================================\n",
      "Total params: 4,289\n",
      "Trainable params: 4,289\n",
      "Non-trainable params: 0\n",
      "_________________________________________________________________\n"
     ]
    }
   ],
   "source": [
    "from tensorflow.keras import Sequential\n",
    "from tensorflow.keras.layers import Dense, LSTM, SimpleRNN, GRU, Conv1D\n",
    "\n",
    "n_steps = sequence_length - 1\n",
    "n_inputs = 1\n",
    "\n",
    "model = Sequential(\n",
    "    [\n",
    "        SimpleRNN(64, input_shape=[n_steps, n_inputs]),\n",
    "        Dense(1, activation=None)\n",
    "    ]\n",
    ")\n",
    "model.summary()"
   ]
  },
  {
   "cell_type": "code",
   "execution_count": 27,
   "id": "237c9b94-0ddb-47c1-bf78-9195514d2310",
   "metadata": {},
   "outputs": [],
   "source": [
    "model = keras.models.Sequential([\n",
    "    keras.layers.SimpleRNN(64, activation='relu', return_sequences=True, input_shape=[n_steps, n_inputs]),\n",
    "    keras.layers.SimpleRNN(64, activation='relu', return_sequences=False),\n",
    "    keras.layers.Dense(1, activation=None)\n",
    "])"
   ]
  },
  {
   "cell_type": "code",
   "execution_count": 28,
   "id": "d6ed1583-e3a0-4059-ab22-ec1fcab113ba",
   "metadata": {
    "scrolled": true
   },
   "outputs": [
    {
     "name": "stdout",
     "output_type": "stream",
     "text": [
      "Epoch 1/30\n",
      "1/1 [==============================] - 2s 2s/step - loss: 303071.5938\n",
      "Epoch 2/30\n",
      "1/1 [==============================] - 0s 8ms/step - loss: 239745.2969\n",
      "Epoch 3/30\n",
      "1/1 [==============================] - 0s 10ms/step - loss: 194320.1406\n",
      "Epoch 4/30\n",
      "1/1 [==============================] - 0s 10ms/step - loss: 158899.0469\n",
      "Epoch 5/30\n",
      "1/1 [==============================] - 0s 9ms/step - loss: 132233.2188\n",
      "Epoch 6/30\n",
      "1/1 [==============================] - 0s 9ms/step - loss: 110301.7266\n",
      "Epoch 7/30\n",
      "1/1 [==============================] - 0s 9ms/step - loss: 95988.8047\n",
      "Epoch 8/30\n",
      "1/1 [==============================] - 0s 9ms/step - loss: 87825.6016\n",
      "Epoch 9/30\n",
      "1/1 [==============================] - 0s 9ms/step - loss: 77677.5859\n",
      "Epoch 10/30\n",
      "1/1 [==============================] - 0s 9ms/step - loss: 67433.0781\n",
      "Epoch 11/30\n",
      "1/1 [==============================] - 0s 10ms/step - loss: 57316.9805\n",
      "Epoch 12/30\n",
      "1/1 [==============================] - 0s 11ms/step - loss: 47172.3516\n",
      "Epoch 13/30\n",
      "1/1 [==============================] - 0s 12ms/step - loss: 37287.0859\n",
      "Epoch 14/30\n",
      "1/1 [==============================] - 0s 10ms/step - loss: 28007.5195\n",
      "Epoch 15/30\n",
      "1/1 [==============================] - 0s 9ms/step - loss: 19083.1250\n",
      "Epoch 16/30\n",
      "1/1 [==============================] - 0s 10ms/step - loss: 10840.8721\n",
      "Epoch 17/30\n",
      "1/1 [==============================] - 0s 10ms/step - loss: 4390.1836\n",
      "Epoch 18/30\n",
      "1/1 [==============================] - 0s 11ms/step - loss: 575.0457\n",
      "Epoch 19/30\n",
      "1/1 [==============================] - 0s 9ms/step - loss: 764.5463\n",
      "Epoch 20/30\n",
      "1/1 [==============================] - 0s 10ms/step - loss: 4879.2256\n",
      "Epoch 21/30\n",
      "1/1 [==============================] - 0s 10ms/step - loss: 9694.3721\n",
      "Epoch 22/30\n",
      "1/1 [==============================] - 0s 10ms/step - loss: 11859.3105\n",
      "Epoch 23/30\n",
      "1/1 [==============================] - 0s 10ms/step - loss: 10927.9736\n",
      "Epoch 24/30\n",
      "1/1 [==============================] - 0s 10ms/step - loss: 8321.6299\n",
      "Epoch 25/30\n",
      "1/1 [==============================] - 0s 10ms/step - loss: 5122.4209\n",
      "Epoch 26/30\n",
      "1/1 [==============================] - 0s 10ms/step - loss: 2444.4741\n",
      "Epoch 27/30\n",
      "1/1 [==============================] - 0s 10ms/step - loss: 776.5265\n",
      "Epoch 28/30\n",
      "1/1 [==============================] - 0s 10ms/step - loss: 108.5975\n",
      "Epoch 29/30\n",
      "1/1 [==============================] - 0s 9ms/step - loss: 177.8391\n",
      "Epoch 30/30\n",
      "1/1 [==============================] - 0s 10ms/step - loss: 616.6725\n"
     ]
    }
   ],
   "source": [
    "np.random.seed(42)\n",
    "tf.random.set_seed(42)\n",
    "\n",
    "model.compile(loss=\"mse\", optimizer='Adam')\n",
    "\n",
    "history = model.fit(X_train, y_train, epochs=30)"
   ]
  },
  {
   "cell_type": "markdown",
   "id": "509d95fd-24c9-448c-b763-3a2638d46b5e",
   "metadata": {},
   "source": [
    "### Predictions"
   ]
  },
  {
   "cell_type": "code",
   "execution_count": 29,
   "id": "d0217909-b3cd-4f62-b94e-924481a32eac",
   "metadata": {},
   "outputs": [
    {
     "name": "stdout",
     "output_type": "stream",
     "text": [
      "1/1 [==============================] - 0s 320ms/step\n"
     ]
    },
    {
     "data": {
      "text/plain": [
       "32.7212689446225"
      ]
     },
     "execution_count": 29,
     "metadata": {},
     "output_type": "execute_result"
    }
   ],
   "source": [
    "\n",
    "y_pred = model.predict(X_test)  # these predictions are probabilities (0-1) taken from the sigmoid function\n",
    "\n",
    "mean_squared_error(y_test, y_pred)**0.5\n"
   ]
  },
  {
   "cell_type": "code",
   "execution_count": 30,
   "id": "9058b301-ddee-485c-a01f-b2f78051244a",
   "metadata": {
    "tags": []
   },
   "outputs": [],
   "source": [
    "prior_days1 = np.array(\n",
    "    [ 383.869995,386.25,388.859985,382.359985,383.709991,386.149994,383.809998,380.579987,371.540009 ]\n",
    ")\n",
    "\n",
    "# reshape into the three dimensions for input into model\n",
    "prior_days1 = prior_days1.reshape(1, 9, 1) # 1 row, 9 time steps (features), and 1 output/prediction)"
   ]
  },
  {
   "cell_type": "code",
   "execution_count": 31,
   "id": "4c8d0ddd-0f9d-4e85-b7fe-4005a968084e",
   "metadata": {
    "tags": []
   },
   "outputs": [
    {
     "name": "stdout",
     "output_type": "stream",
     "text": [
      "1/1 [==============================] - 0s 26ms/step\n"
     ]
    },
    {
     "data": {
      "text/plain": [
       "array([[341.5145]], dtype=float32)"
      ]
     },
     "execution_count": 31,
     "metadata": {},
     "output_type": "execute_result"
    }
   ],
   "source": [
    "model.predict(prior_days1) # note the structure of the prediction"
   ]
  },
  {
   "cell_type": "code",
   "execution_count": 32,
   "id": "c402b37d-004f-45bb-912a-0d798687a5c7",
   "metadata": {
    "tags": []
   },
   "outputs": [
    {
     "name": "stdout",
     "output_type": "stream",
     "text": [
      "1/1 [==============================] - 0s 26ms/step\n"
     ]
    }
   ],
   "source": [
    "tomorrows_temp = model.predict(prior_days1)[0][0] # we see the predicted temp is embedded inside two dimensions"
   ]
  },
  {
   "cell_type": "code",
   "execution_count": 33,
   "id": "75af2442-9fdb-4071-abb1-301a4d0f6943",
   "metadata": {
    "tags": []
   },
   "outputs": [
    {
     "name": "stdout",
     "output_type": "stream",
     "text": [
      "Tomorrow's predicted stock close is 341.51 \n"
     ]
    }
   ],
   "source": [
    "print(f\"Tomorrow's predicted stock close is {tomorrows_temp:.2f} \")"
   ]
  },
  {
   "cell_type": "markdown",
   "id": "4354830a-4e0f-470c-a3aa-7bd692ee8da7",
   "metadata": {},
   "source": [
    "# Results\n",
    "The mean squared error is decent and pretty low at 32 and the predicted stock of 10th day is 341 and the plotted test & train data are close, this is one of the best performing model"
   ]
  },
  {
   "cell_type": "code",
   "execution_count": 34,
   "id": "1eb1f80f-97e3-40dc-8c2c-ef540a5cb3ad",
   "metadata": {},
   "outputs": [
    {
     "name": "stdout",
     "output_type": "stream",
     "text": [
      "Epoch 1/600\n",
      "1/1 [==============================] - 0s 409ms/step - loss: 1214.3917 - val_loss: 1631.0089\n",
      "Epoch 2/600\n",
      "1/1 [==============================] - 0s 41ms/step - loss: 1798.8855 - val_loss: 2076.1423\n",
      "Epoch 3/600\n",
      "1/1 [==============================] - 0s 41ms/step - loss: 2255.7720 - val_loss: 2297.8010\n",
      "Epoch 4/600\n",
      "1/1 [==============================] - 0s 42ms/step - loss: 2484.1780 - val_loss: 2273.7478\n",
      "Epoch 5/600\n",
      "1/1 [==============================] - 0s 43ms/step - loss: 2461.1526 - val_loss: 2047.9113\n",
      "Epoch 6/600\n",
      "1/1 [==============================] - 0s 45ms/step - loss: 2223.1794 - val_loss: 1661.0898\n",
      "Epoch 7/600\n",
      "1/1 [==============================] - 0s 44ms/step - loss: 1823.7291 - val_loss: 1184.1753\n",
      "Epoch 8/600\n",
      "1/1 [==============================] - 0s 50ms/step - loss: 1329.1185 - val_loss: 736.5952\n",
      "Epoch 9/600\n",
      "1/1 [==============================] - 0s 45ms/step - loss: 853.7835 - val_loss: 372.9408\n",
      "Epoch 10/600\n",
      "1/1 [==============================] - 0s 42ms/step - loss: 467.3391 - val_loss: 128.7825\n",
      "Epoch 11/600\n",
      "1/1 [==============================] - 0s 42ms/step - loss: 200.6700 - val_loss: 26.5407\n",
      "Epoch 12/600\n",
      "1/1 [==============================] - 0s 41ms/step - loss: 75.2158 - val_loss: 56.4945\n",
      "Epoch 13/600\n",
      "1/1 [==============================] - 0s 41ms/step - loss: 84.4350 - val_loss: 186.7186\n",
      "Epoch 14/600\n",
      "1/1 [==============================] - 0s 40ms/step - loss: 196.2163 - val_loss: 363.7603\n",
      "Epoch 15/600\n",
      "1/1 [==============================] - 0s 40ms/step - loss: 358.2590 - val_loss: 527.7852\n",
      "Epoch 16/600\n",
      "1/1 [==============================] - 0s 40ms/step - loss: 512.2802 - val_loss: 633.6907\n",
      "Epoch 17/600\n",
      "1/1 [==============================] - 0s 39ms/step - loss: 612.3936 - val_loss: 655.8381\n",
      "Epoch 18/600\n",
      "1/1 [==============================] - 0s 38ms/step - loss: 632.5113 - val_loss: 596.1813\n",
      "Epoch 19/600\n",
      "1/1 [==============================] - 0s 38ms/step - loss: 574.8151 - val_loss: 476.3077\n",
      "Epoch 20/600\n",
      "1/1 [==============================] - 0s 39ms/step - loss: 461.4567 - val_loss: 331.0227\n",
      "Epoch 21/600\n",
      "1/1 [==============================] - 0s 38ms/step - loss: 325.5680 - val_loss: 195.2444\n",
      "Epoch 21: early stopping\n"
     ]
    }
   ],
   "source": [
    "\n",
    "start_time = time.time()\n",
    "\n",
    "early_stop = EarlyStopping( min_delta = 0.0, patience=10, verbose=1, mode='min')\n",
    "\n",
    "history = model.fit(\n",
    "    X_train, \n",
    "    y_train, \n",
    "    epochs=600,\n",
    "    validation_data=(X_test, y_test), \n",
    "    callbacks=[early_stop]\n",
    ")\n",
    "\n",
    "end_time = time.time()"
   ]
  },
  {
   "cell_type": "code",
   "execution_count": 35,
   "id": "fcffba95-47fa-486b-84c2-aa62402826a9",
   "metadata": {},
   "outputs": [
    {
     "data": {
      "image/png": "[encoded data removed]",
      "text/plain": [
       "<Figure size 640x480 with 1 Axes>"
      ]
     },
     "metadata": {},
     "output_type": "display_data"
    }
   ],
   "source": [
    "\n",
    "plt.plot(history.history['loss'])\n",
    "plt.plot(history.history['val_loss'])\n",
    "\n",
    "plt.legend(['train', 'test'], loc='upper right')\n",
    "\n",
    "\n",
    "plt.show()"
   ]
  },
  {
   "cell_type": "code",
   "execution_count": null,
   "id": "84f2bf2e-c545-4fd9-9be6-28e593e4abc4",
   "metadata": {},
   "outputs": [],
   "source": []
  },
  {
   "cell_type": "markdown",
   "id": "dff9592e-4d8d-4f2e-84cf-538ff5e0345f",
   "metadata": {},
   "source": [
    "# LSTM with one layer"
   ]
  },
  {
   "cell_type": "code",
   "execution_count": 36,
   "id": "1b61389c-2b79-45c7-917c-d190144409f9",
   "metadata": {
    "scrolled": true
   },
   "outputs": [],
   "source": [
    "model = keras.models.Sequential([\n",
    "    keras.layers.LSTM(32, activation='relu', input_shape=[n_steps, n_inputs]),\n",
    "    keras.layers.Dense(1, activation=None)\n",
    "])"
   ]
  },
  {
   "cell_type": "code",
   "execution_count": 37,
   "id": "25deb16b-eadd-4b61-9a80-0bb09c68546c",
   "metadata": {
    "scrolled": true
   },
   "outputs": [
    {
     "name": "stdout",
     "output_type": "stream",
     "text": [
      "Epoch 1/30\n",
      "1/1 [==============================] - 2s 2s/step - loss: 202575.1719 - val_loss: 193153.7500\n",
      "Epoch 2/30\n",
      "1/1 [==============================] - 0s 33ms/step - loss: 185310.3594 - val_loss: 176579.4375\n",
      "Epoch 3/30\n",
      "1/1 [==============================] - 0s 33ms/step - loss: 192271.7969 - val_loss: 117440.0938\n",
      "Epoch 4/30\n",
      "1/1 [==============================] - 0s 33ms/step - loss: 177904.7188 - val_loss: 300104.5312\n",
      "Epoch 5/30\n",
      "1/1 [==============================] - 0s 33ms/step - loss: 252603.8438 - val_loss: 189691.5781\n",
      "Epoch 6/30\n",
      "1/1 [==============================] - 0s 32ms/step - loss: 289521.5625 - val_loss: 228676.1875\n",
      "Epoch 7/30\n",
      "1/1 [==============================] - 0s 34ms/step - loss: 260912.6250 - val_loss: 236307.9219\n",
      "Epoch 8/30\n",
      "1/1 [==============================] - 0s 36ms/step - loss: 231998.6094 - val_loss: 251183.7500\n",
      "Epoch 9/30\n",
      "1/1 [==============================] - 0s 34ms/step - loss: 243523.2656 - val_loss: 225379.1875\n",
      "Epoch 10/30\n",
      "1/1 [==============================] - 0s 34ms/step - loss: 215393.2969 - val_loss: 201279.5000\n",
      "Epoch 11/30\n",
      "1/1 [==============================] - 0s 34ms/step - loss: 194567.8906 - val_loss: 158874.5625\n",
      "Epoch 12/30\n",
      "1/1 [==============================] - 0s 35ms/step - loss: 151349.1406 - val_loss: 140076.1094\n",
      "Epoch 13/30\n",
      "1/1 [==============================] - 0s 34ms/step - loss: 142160.3594 - val_loss: 144539.0156\n",
      "Epoch 13: early stopping\n"
     ]
    }
   ],
   "source": [
    "np.random.seed(42)\n",
    "tf.random.set_seed(42)\n",
    "\n",
    "model.compile(loss=\"mean_squared_error\", optimizer='Adam')\n",
    "early_stop = EarlyStopping( min_delta = 0.0, patience=10, verbose=1, mode='min')\n",
    "\n",
    "history = model.fit(X_train, y_train, epochs=30,\n",
    "    validation_data=(X_test, y_test), \n",
    "    callbacks=[early_stop])"
   ]
  },
  {
   "cell_type": "markdown",
   "id": "cb146d17-a668-448b-ba65-bd1a54246cc8",
   "metadata": {},
   "source": [
    "### Predictions"
   ]
  },
  {
   "cell_type": "code",
   "execution_count": 38,
   "id": "1f29b071-7b5b-4753-9232-84e8850e1d0f",
   "metadata": {},
   "outputs": [
    {
     "name": "stdout",
     "output_type": "stream",
     "text": [
      "1/1 [==============================] - 0s 166ms/step\n"
     ]
    }
   ],
   "source": [
    "#Predict:\n",
    "y_pred = model.predict(X_test)\n"
   ]
  },
  {
   "cell_type": "code",
   "execution_count": 39,
   "id": "1ca0b4a5-6764-4e87-97af-5d2b8b389d7a",
   "metadata": {},
   "outputs": [
    {
     "data": {
      "image/png": "[encoded data removed]",
      "text/plain": [
       "<Figure size 640x480 with 1 Axes>"
      ]
     },
     "metadata": {},
     "output_type": "display_data"
    }
   ],
   "source": [
    "\n",
    "plt.plot(history.history['loss'])\n",
    "plt.plot(history.history['val_loss'])\n",
    "\n",
    "plt.legend(['train', 'test'], loc='upper right')\n",
    "\n",
    "\n",
    "plt.show()"
   ]
  },
  {
   "cell_type": "code",
   "execution_count": null,
   "id": "795ba149-73de-4a67-8ac7-b516115421b7",
   "metadata": {},
   "outputs": [],
   "source": []
  },
  {
   "cell_type": "code",
   "execution_count": 80,
   "id": "0b5f263e-8bb9-4118-896f-2d05c710a3e1",
   "metadata": {},
   "outputs": [
    {
     "name": "stdout",
     "output_type": "stream",
     "text": [
      "1/1 [==============================] - 0s 23ms/step\n"
     ]
    },
    {
     "data": {
      "text/plain": [
       "27.4027801094376"
      ]
     },
     "execution_count": 80,
     "metadata": {},
     "output_type": "execute_result"
    }
   ],
   "source": [
    "\n",
    "y_pred = model.predict(X_test)  # these predictions are probabilities (0-1) taken from the sigmoid function\n",
    "\n",
    "mean_squared_error(y_test, y_pred)**0.5\n"
   ]
  },
  {
   "cell_type": "code",
   "execution_count": 81,
   "id": "0f8e75ac-e63c-4162-ab61-945b9be9e3be",
   "metadata": {
    "tags": []
   },
   "outputs": [],
   "source": [
    "prior_days2 = np.array(\n",
    "    [ 383.869995,386.25,388.859985,382.359985,383.709991,386.149994,383.809998,380.579987,371.540009 ]\n",
    ")\n",
    "\n",
    "# reshape into the three dimensions for input into model\n",
    "prior_days2 = prior_days2.reshape(1, 9, 1) # 1 row, 59 time steps (features), and 1 output/prediction)"
   ]
  },
  {
   "cell_type": "code",
   "execution_count": 82,
   "id": "dfef17d3-fbbb-43a6-bea1-a4d1a0edb4c3",
   "metadata": {
    "tags": []
   },
   "outputs": [
    {
     "name": "stdout",
     "output_type": "stream",
     "text": [
      "1/1 [==============================] - 0s 20ms/step\n"
     ]
    },
    {
     "data": {
      "text/plain": [
       "array([[407.59747]], dtype=float32)"
      ]
     },
     "execution_count": 82,
     "metadata": {},
     "output_type": "execute_result"
    }
   ],
   "source": [
    "model.predict(prior_days2) # note the structure of the prediction"
   ]
  },
  {
   "cell_type": "code",
   "execution_count": 83,
   "id": "a6693f09-beea-427a-9d97-4283d48f69a7",
   "metadata": {
    "tags": []
   },
   "outputs": [
    {
     "name": "stdout",
     "output_type": "stream",
     "text": [
      "1/1 [==============================] - 0s 32ms/step\n"
     ]
    }
   ],
   "source": [
    "tomorrows_temp = model.predict(prior_days2)[0][0] # we see the predicted temp is embedded inside two dimensions"
   ]
  },
  {
   "cell_type": "code",
   "execution_count": 84,
   "id": "8d084245-77b7-4b2d-8014-344f1d0e3286",
   "metadata": {
    "tags": []
   },
   "outputs": [
    {
     "name": "stdout",
     "output_type": "stream",
     "text": [
      "Tomorrow's predicted stock close is 407.60 \n"
     ]
    }
   ],
   "source": [
    "print(f\"Tomorrow's predicted stock close is {tomorrows_temp:.2f} \")"
   ]
  },
  {
   "cell_type": "markdown",
   "id": "fa67899f-044d-4a3b-82d9-f06fa8322ab6",
   "metadata": {},
   "source": [
    "## Results\n",
    "as we keep proceding with different models, currently the LTSM with one layer performs very well & at 12.7 mean squared error, the prediced stock price of 10th day is 407.6"
   ]
  },
  {
   "cell_type": "markdown",
   "id": "bb38283e-2471-4e77-92e4-fa0c05bbac8f",
   "metadata": {},
   "source": [
    "# LSTM with more layers"
   ]
  },
  {
   "cell_type": "code",
   "execution_count": 45,
   "id": "8234e599-115e-4e2b-9220-07ebda4b80ea",
   "metadata": {
    "scrolled": true
   },
   "outputs": [],
   "source": [
    "model = keras.models.Sequential([\n",
    "    keras.layers.LSTM(64, activation='relu', return_sequences=True, input_shape=[n_steps, n_inputs]),\n",
    "    keras.layers.LSTM(64, activation='relu', return_sequences=False),\n",
    "    keras.layers.Dense(1, activation=None)\n",
    "])"
   ]
  },
  {
   "cell_type": "code",
   "execution_count": 46,
   "id": "83781074-869e-4359-b756-32279d1b22ea",
   "metadata": {
    "scrolled": true
   },
   "outputs": [
    {
     "name": "stdout",
     "output_type": "stream",
     "text": [
      "Epoch 1/50\n",
      "1/1 [==============================] - 3s 3s/step - loss: 97826.4297 - val_loss: 107189.1641\n",
      "Epoch 2/50\n",
      "1/1 [==============================] - 0s 67ms/step - loss: 108869.4375 - val_loss: 79739.7891\n",
      "Epoch 3/50\n",
      "1/1 [==============================] - 0s 73ms/step - loss: 80221.6094 - val_loss: 70735.0156\n",
      "Epoch 4/50\n",
      "1/1 [==============================] - 0s 66ms/step - loss: 74013.4609 - val_loss: 64239.6445\n",
      "Epoch 5/50\n",
      "1/1 [==============================] - 0s 72ms/step - loss: 69100.5234 - val_loss: 59102.6250\n",
      "Epoch 6/50\n",
      "1/1 [==============================] - 0s 73ms/step - loss: 60434.8555 - val_loss: 48297.4688\n",
      "Epoch 7/50\n",
      "1/1 [==============================] - 0s 74ms/step - loss: 49648.5938 - val_loss: 42794.8164\n",
      "Epoch 8/50\n",
      "1/1 [==============================] - 0s 59ms/step - loss: 45228.6172 - val_loss: 43814.2344\n",
      "Epoch 9/50\n",
      "1/1 [==============================] - 0s 63ms/step - loss: 44307.1797 - val_loss: 40081.5117\n",
      "Epoch 10/50\n",
      "1/1 [==============================] - 0s 56ms/step - loss: 40236.0703 - val_loss: 33730.7461\n",
      "Epoch 11/50\n",
      "1/1 [==============================] - 0s 53ms/step - loss: 33926.3555 - val_loss: 27019.3730\n",
      "Epoch 12/50\n",
      "1/1 [==============================] - 0s 52ms/step - loss: 27710.0371 - val_loss: 18937.9219\n",
      "Epoch 13/50\n",
      "1/1 [==============================] - 0s 52ms/step - loss: 19820.4727 - val_loss: 12661.6992\n",
      "Epoch 14/50\n",
      "1/1 [==============================] - 0s 51ms/step - loss: 12799.3467 - val_loss: 7458.4824\n",
      "Epoch 15/50\n",
      "1/1 [==============================] - 0s 50ms/step - loss: 7029.1592 - val_loss: 3509.9241\n",
      "Epoch 16/50\n",
      "1/1 [==============================] - 0s 51ms/step - loss: 3789.8958 - val_loss: 533.8977\n",
      "Epoch 17/50\n",
      "1/1 [==============================] - 0s 51ms/step - loss: 822.1749 - val_loss: 137.1141\n",
      "Epoch 18/50\n",
      "1/1 [==============================] - 0s 51ms/step - loss: 149.9121 - val_loss: 2147.8665\n",
      "Epoch 19/50\n",
      "1/1 [==============================] - 0s 52ms/step - loss: 2251.1831 - val_loss: 2655.4099\n",
      "Epoch 20/50\n",
      "1/1 [==============================] - 0s 52ms/step - loss: 3061.7561 - val_loss: 3918.9773\n",
      "Epoch 21/50\n",
      "1/1 [==============================] - 0s 54ms/step - loss: 4296.2666 - val_loss: 4273.1499\n",
      "Epoch 22/50\n",
      "1/1 [==============================] - 0s 53ms/step - loss: 5075.1318 - val_loss: 2959.5254\n",
      "Epoch 23/50\n",
      "1/1 [==============================] - 0s 51ms/step - loss: 3357.1667 - val_loss: 1645.0859\n",
      "Epoch 24/50\n",
      "1/1 [==============================] - 0s 50ms/step - loss: 1938.8126 - val_loss: 668.2967\n",
      "Epoch 25/50\n",
      "1/1 [==============================] - 0s 50ms/step - loss: 897.5204 - val_loss: 239.2893\n",
      "Epoch 26/50\n",
      "1/1 [==============================] - 0s 48ms/step - loss: 414.3272 - val_loss: 72.2983\n",
      "Epoch 27/50\n",
      "1/1 [==============================] - 0s 50ms/step - loss: 208.0289 - val_loss: 99.5250\n",
      "Epoch 28/50\n",
      "1/1 [==============================] - 0s 49ms/step - loss: 223.4486 - val_loss: 254.9506\n",
      "Epoch 29/50\n",
      "1/1 [==============================] - 0s 50ms/step - loss: 241.6827 - val_loss: 416.4271\n",
      "Epoch 30/50\n",
      "1/1 [==============================] - 0s 49ms/step - loss: 557.9276 - val_loss: 555.3219\n",
      "Epoch 31/50\n",
      "1/1 [==============================] - 0s 49ms/step - loss: 767.7773 - val_loss: 659.6525\n",
      "Epoch 32/50\n",
      "1/1 [==============================] - 0s 49ms/step - loss: 835.1019 - val_loss: 741.4832\n",
      "Epoch 33/50\n",
      "1/1 [==============================] - 0s 50ms/step - loss: 773.9689 - val_loss: 701.9221\n",
      "Epoch 34/50\n",
      "1/1 [==============================] - 0s 49ms/step - loss: 675.7424 - val_loss: 526.7018\n",
      "Epoch 35/50\n",
      "1/1 [==============================] - 0s 49ms/step - loss: 531.3201 - val_loss: 341.4020\n",
      "Epoch 36/50\n",
      "1/1 [==============================] - 0s 49ms/step - loss: 377.5348 - val_loss: 168.1177\n",
      "Epoch 36: early stopping\n"
     ]
    }
   ],
   "source": [
    "np.random.seed(42)\n",
    "tf.random.set_seed(42)\n",
    "\n",
    "model.compile(loss=\"mse\", optimizer='Adam')\n",
    "\n",
    "history = model.fit(X_train, y_train, epochs=50,validation_data=(X_test, y_test), \n",
    "    callbacks=[early_stop])"
   ]
  },
  {
   "cell_type": "markdown",
   "id": "c0d91b13-b377-441b-8880-0cbe28127028",
   "metadata": {},
   "source": [
    "### Predictions"
   ]
  },
  {
   "cell_type": "code",
   "execution_count": 47,
   "id": "15185309-9d4d-4a3e-99ec-9122effca6fe",
   "metadata": {},
   "outputs": [
    {
     "name": "stdout",
     "output_type": "stream",
     "text": [
      "1/1 [==============================] - 0s 358ms/step\n"
     ]
    }
   ],
   "source": [
    "#Predict:\n",
    "y_pred = model.predict(X_test)"
   ]
  },
  {
   "cell_type": "code",
   "execution_count": 48,
   "id": "91c049c5-120a-47d8-8dd8-17a5248f81cf",
   "metadata": {},
   "outputs": [
    {
     "data": {
      "image/png": "[encoded data removed]",
      "text/plain": [
       "<Figure size 640x480 with 1 Axes>"
      ]
     },
     "metadata": {},
     "output_type": "display_data"
    }
   ],
   "source": [
    "\n",
    "plt.plot(history.history['loss'])\n",
    "plt.plot(history.history['val_loss'])\n",
    "\n",
    "plt.legend(['train', 'test'], loc='upper right')\n",
    "\n",
    "\n",
    "plt.show()"
   ]
  },
  {
   "cell_type": "code",
   "execution_count": null,
   "id": "dfc58242-c72a-44ea-a831-19bff3379fe9",
   "metadata": {},
   "outputs": [],
   "source": []
  },
  {
   "cell_type": "code",
   "execution_count": 49,
   "id": "aa9427c8-cf6e-44aa-a193-8aa564b04b3d",
   "metadata": {},
   "outputs": [
    {
     "data": {
      "text/plain": [
       "12.966021723979999"
      ]
     },
     "execution_count": 49,
     "metadata": {},
     "output_type": "execute_result"
    }
   ],
   "source": [
    "\n",
    "\n",
    "mean_squared_error(y_test, y_pred)**0.5\n"
   ]
  },
  {
   "cell_type": "code",
   "execution_count": 50,
   "id": "914fc3f0-cf09-43d5-bde7-c686566bc8ca",
   "metadata": {
    "tags": []
   },
   "outputs": [],
   "source": [
    "prior_days3 = np.array(\n",
    "    [ 383.869995,386.25,388.859985,382.359985,383.709991,386.149994,383.809998,380.579987,371.540009 ]\n",
    ")\n",
    "\n",
    "# reshape into the three dimensions for input into model\n",
    "prior_days3 = prior_days3.reshape(1, 9, 1) # 1 row, 59 time steps (features), and 1 output/prediction)"
   ]
  },
  {
   "cell_type": "code",
   "execution_count": 51,
   "id": "0f989dec-39ba-470b-8d33-ba251d5e76ba",
   "metadata": {
    "tags": []
   },
   "outputs": [
    {
     "name": "stdout",
     "output_type": "stream",
     "text": [
      "1/1 [==============================] - 0s 28ms/step\n"
     ]
    },
    {
     "data": {
      "text/plain": [
       "array([[374.10727]], dtype=float32)"
      ]
     },
     "execution_count": 51,
     "metadata": {},
     "output_type": "execute_result"
    }
   ],
   "source": [
    "model.predict(prior_days3) # note the structure of the prediction"
   ]
  },
  {
   "cell_type": "code",
   "execution_count": 52,
   "id": "a7be09f2-7f77-405f-949b-33fc68afd98e",
   "metadata": {
    "tags": []
   },
   "outputs": [
    {
     "name": "stdout",
     "output_type": "stream",
     "text": [
      "1/1 [==============================] - 0s 26ms/step\n"
     ]
    }
   ],
   "source": [
    "tomorrows_temp = model.predict(prior_days3)[0][0] # we see the predicted temp is embedded inside two dimensions"
   ]
  },
  {
   "cell_type": "code",
   "execution_count": 53,
   "id": "dc0f9d3c-0c2f-4c4b-86b9-f484541d9ac8",
   "metadata": {
    "tags": []
   },
   "outputs": [
    {
     "name": "stdout",
     "output_type": "stream",
     "text": [
      "Tomorrow's predicted stock close is 374.11 \n"
     ]
    }
   ],
   "source": [
    "print(f\"Tomorrow's predicted stock close is {tomorrows_temp:.2f} \")"
   ]
  },
  {
   "cell_type": "markdown",
   "id": "a74b1ccf-52c1-4dd6-b48f-1dc19bbf700c",
   "metadata": {},
   "source": [
    "## Results\n",
    "\n",
    "The LTSM performs very well with multiple layers, LSTM addresses this problem by introducing a memory cell that can store information over long periods of time and by using gates that control the flow of information through the network.\n",
    "This is our second best model with 12.9 mean squared error & 10th day predicted closing price is 374.1"
   ]
  },
  {
   "cell_type": "markdown",
   "id": "9b9dd38a-c04d-4aee-bdd6-8733356ef0b5",
   "metadata": {},
   "source": [
    "# GRU (with more layers)"
   ]
  },
  {
   "cell_type": "code",
   "execution_count": 54,
   "id": "9295ad52-5d97-4ebc-9d9f-665a3c7bb1be",
   "metadata": {},
   "outputs": [],
   "source": [
    "model = keras.models.Sequential([\n",
    "    keras.layers.GRU(64, activation='relu', return_sequences=True, input_shape=[n_steps, n_inputs]),\n",
    "    keras.layers.GRU(64, activation='relu', return_sequences=False),\n",
    "    keras.layers.Dense(1, activation=None)\n",
    "])"
   ]
  },
  {
   "cell_type": "code",
   "execution_count": 55,
   "id": "405f7d04-607c-4c9f-8e34-00c752988fd1",
   "metadata": {
    "scrolled": true
   },
   "outputs": [
    {
     "name": "stdout",
     "output_type": "stream",
     "text": [
      "Epoch 1/50\n",
      "1/1 [==============================] - 4s 4s/step - loss: 139840.6719 - val_loss: 129556.4453\n",
      "Epoch 2/50\n",
      "1/1 [==============================] - 0s 50ms/step - loss: 131120.7969 - val_loss: 123324.2109\n",
      "Epoch 3/50\n",
      "1/1 [==============================] - 0s 63ms/step - loss: 124855.6016 - val_loss: 114850.1641\n",
      "Epoch 4/50\n",
      "1/1 [==============================] - 0s 54ms/step - loss: 116311.8516 - val_loss: 107435.2578\n",
      "Epoch 5/50\n",
      "1/1 [==============================] - 0s 53ms/step - loss: 108784.5859 - val_loss: 102394.5234\n",
      "Epoch 6/50\n",
      "1/1 [==============================] - 0s 52ms/step - loss: 103795.2109 - val_loss: 98367.2734\n",
      "Epoch 7/50\n",
      "1/1 [==============================] - 0s 54ms/step - loss: 99734.3047 - val_loss: 94639.7500\n",
      "Epoch 8/50\n",
      "1/1 [==============================] - 0s 52ms/step - loss: 95977.3203 - val_loss: 91188.6328\n",
      "Epoch 9/50\n",
      "1/1 [==============================] - 0s 57ms/step - loss: 92479.0703 - val_loss: 88114.9609\n",
      "Epoch 10/50\n",
      "1/1 [==============================] - 0s 55ms/step - loss: 89389.3594 - val_loss: 84607.8125\n",
      "Epoch 11/50\n",
      "1/1 [==============================] - 0s 52ms/step - loss: 85815.5000 - val_loss: 81878.4297\n",
      "Epoch 12/50\n",
      "1/1 [==============================] - 0s 63ms/step - loss: 83077.6953 - val_loss: 78155.2422\n",
      "Epoch 13/50\n",
      "1/1 [==============================] - 0s 60ms/step - loss: 79293.3047 - val_loss: 73542.6797\n",
      "Epoch 14/50\n",
      "1/1 [==============================] - 0s 65ms/step - loss: 74636.0859 - val_loss: 68999.0000\n",
      "Epoch 15/50\n",
      "1/1 [==============================] - 0s 55ms/step - loss: 70039.4844 - val_loss: 64110.7500\n",
      "Epoch 16/50\n",
      "1/1 [==============================] - 0s 58ms/step - loss: 65048.0898 - val_loss: 58829.7070\n",
      "Epoch 17/50\n",
      "1/1 [==============================] - 0s 61ms/step - loss: 59749.3984 - val_loss: 52296.4219\n",
      "Epoch 18/50\n",
      "1/1 [==============================] - 0s 73ms/step - loss: 53152.6445 - val_loss: 47390.1133\n",
      "Epoch 19/50\n",
      "1/1 [==============================] - 0s 59ms/step - loss: 48167.3672 - val_loss: 42669.4453\n",
      "Epoch 20/50\n",
      "1/1 [==============================] - 0s 69ms/step - loss: 43438.0273 - val_loss: 38332.1523\n",
      "Epoch 21/50\n",
      "1/1 [==============================] - 0s 61ms/step - loss: 39000.0898 - val_loss: 33805.9688\n",
      "Epoch 22/50\n",
      "1/1 [==============================] - 0s 67ms/step - loss: 34450.7695 - val_loss: 29668.0332\n",
      "Epoch 23/50\n",
      "1/1 [==============================] - 0s 65ms/step - loss: 30228.3887 - val_loss: 25611.8457\n",
      "Epoch 24/50\n",
      "1/1 [==============================] - 0s 55ms/step - loss: 26147.3164 - val_loss: 21005.5840\n",
      "Epoch 25/50\n",
      "1/1 [==============================] - 0s 54ms/step - loss: 21497.2500 - val_loss: 17095.9688\n",
      "Epoch 26/50\n",
      "1/1 [==============================] - 0s 56ms/step - loss: 17550.6738 - val_loss: 13805.6143\n",
      "Epoch 27/50\n",
      "1/1 [==============================] - 0s 58ms/step - loss: 14192.7021 - val_loss: 10269.9404\n",
      "Epoch 28/50\n",
      "1/1 [==============================] - 0s 57ms/step - loss: 10587.0488 - val_loss: 7239.8853\n",
      "Epoch 29/50\n",
      "1/1 [==============================] - 0s 65ms/step - loss: 7501.8032 - val_loss: 4892.9570\n",
      "Epoch 30/50\n",
      "1/1 [==============================] - 0s 58ms/step - loss: 5116.6104 - val_loss: 3750.0781\n",
      "Epoch 31/50\n",
      "1/1 [==============================] - 0s 63ms/step - loss: 4266.5342 - val_loss: 4267.9731\n",
      "Epoch 32/50\n",
      "1/1 [==============================] - 0s 65ms/step - loss: 4499.0439 - val_loss: 2134.6487\n",
      "Epoch 33/50\n",
      "1/1 [==============================] - 0s 70ms/step - loss: 2282.3337 - val_loss: 344.2678\n",
      "Epoch 34/50\n",
      "1/1 [==============================] - 0s 71ms/step - loss: 426.7879 - val_loss: 90.1377\n",
      "Epoch 35/50\n",
      "1/1 [==============================] - 0s 60ms/step - loss: 142.2489 - val_loss: 37.5165\n",
      "Epoch 36/50\n",
      "1/1 [==============================] - 0s 65ms/step - loss: 75.3563 - val_loss: 26.8923\n",
      "Epoch 37/50\n",
      "1/1 [==============================] - 0s 60ms/step - loss: 57.5067 - val_loss: 26.0115\n",
      "Epoch 38/50\n",
      "1/1 [==============================] - 0s 60ms/step - loss: 52.6536 - val_loss: 26.8132\n",
      "Epoch 39/50\n",
      "1/1 [==============================] - 0s 67ms/step - loss: 51.4862 - val_loss: 27.4707\n",
      "Epoch 40/50\n",
      "1/1 [==============================] - 0s 78ms/step - loss: 51.1867 - val_loss: 27.8072\n",
      "Epoch 41/50\n",
      "1/1 [==============================] - 0s 75ms/step - loss: 51.0750 - val_loss: 27.9410\n",
      "Epoch 42/50\n",
      "1/1 [==============================] - 0s 70ms/step - loss: 51.0025 - val_loss: 27.9769\n",
      "Epoch 43/50\n",
      "1/1 [==============================] - 0s 67ms/step - loss: 50.9400 - val_loss: 27.9708\n",
      "Epoch 44/50\n",
      "1/1 [==============================] - 0s 72ms/step - loss: 50.8818 - val_loss: 27.9468\n",
      "Epoch 45/50\n",
      "1/1 [==============================] - 0s 64ms/step - loss: 50.8407 - val_loss: 28.1338\n",
      "Epoch 46/50\n",
      "1/1 [==============================] - 0s 53ms/step - loss: 50.8034 - val_loss: 28.0276\n",
      "Epoch 47/50\n",
      "1/1 [==============================] - 0s 57ms/step - loss: 50.7487 - val_loss: 27.9759\n",
      "Epoch 47: early stopping\n"
     ]
    }
   ],
   "source": [
    "np.random.seed(42)\n",
    "tf.random.set_seed(42)\n",
    "\n",
    "model.compile(loss=\"mse\", optimizer='RMSprop')\n",
    "\n",
    "history = model.fit(X_train, y_train, epochs=50,validation_data=(X_test, y_test), \n",
    "    callbacks=[early_stop])"
   ]
  },
  {
   "cell_type": "markdown",
   "id": "09cc303b-a782-424c-bc68-820aff9b4e6e",
   "metadata": {},
   "source": [
    "### Predictions"
   ]
  },
  {
   "cell_type": "code",
   "execution_count": 56,
   "id": "d5708637-a689-4e12-8e31-38ffde3ea0c7",
   "metadata": {},
   "outputs": [
    {
     "name": "stdout",
     "output_type": "stream",
     "text": [
      "1/1 [==============================] - 0s 431ms/step\n"
     ]
    }
   ],
   "source": [
    "#Predict:\n",
    "y_pred = model.predict(X_test)"
   ]
  },
  {
   "cell_type": "code",
   "execution_count": null,
   "id": "ce496cb8-f343-429a-b418-ff8d50f9ecf4",
   "metadata": {},
   "outputs": [],
   "source": []
  },
  {
   "cell_type": "code",
   "execution_count": 57,
   "id": "0babd44d-8e2c-46d5-b724-46ea99fcb7c9",
   "metadata": {},
   "outputs": [
    {
     "data": {
      "text/plain": [
       "5.289214455847014"
      ]
     },
     "execution_count": 57,
     "metadata": {},
     "output_type": "execute_result"
    }
   ],
   "source": [
    "mean_squared_error(y_test, y_pred)**0.5"
   ]
  },
  {
   "cell_type": "code",
   "execution_count": 58,
   "id": "65154925-3211-4de4-9c25-c1948abc8dce",
   "metadata": {},
   "outputs": [
    {
     "data": {
      "image/png": "[encoded data removed]",
      "text/plain": [
       "<Figure size 640x480 with 1 Axes>"
      ]
     },
     "metadata": {},
     "output_type": "display_data"
    }
   ],
   "source": [
    "\n",
    "plt.plot(history.history['loss'])\n",
    "plt.plot(history.history['val_loss'])\n",
    "\n",
    "plt.legend(['train', 'test'], loc='upper right')\n",
    "\n",
    "\n",
    "plt.show()"
   ]
  },
  {
   "cell_type": "code",
   "execution_count": null,
   "id": "db071e12-2f90-4dfd-9935-fcee2542b2f0",
   "metadata": {},
   "outputs": [],
   "source": []
  },
  {
   "cell_type": "code",
   "execution_count": 59,
   "id": "f2be0a21-a099-4b9a-805a-999aa243761e",
   "metadata": {
    "tags": []
   },
   "outputs": [],
   "source": [
    "prior_days4 = np.array(\n",
    "    [ 383.869995,386.25,388.859985,382.359985,383.709991,386.149994,383.809998,380.579987,371.540009 ]\n",
    ")\n",
    "\n",
    "# reshape into the three dimensions for input into model\n",
    "prior_days4 = prior_days4.reshape(1, 9, 1) # 1 row, 59 time steps (features), and 1 output/prediction)"
   ]
  },
  {
   "cell_type": "code",
   "execution_count": 60,
   "id": "9c89159c-2641-4721-96be-b5196bbfc12a",
   "metadata": {
    "tags": []
   },
   "outputs": [
    {
     "name": "stdout",
     "output_type": "stream",
     "text": [
      "1/1 [==============================] - 0s 37ms/step\n"
     ]
    },
    {
     "data": {
      "text/plain": [
       "array([[378.2499]], dtype=float32)"
      ]
     },
     "execution_count": 60,
     "metadata": {},
     "output_type": "execute_result"
    }
   ],
   "source": [
    "model.predict(prior_days4) # note the structure of the prediction"
   ]
  },
  {
   "cell_type": "code",
   "execution_count": 61,
   "id": "679ce43b-146f-467f-9e7d-a8f9cce48a7f",
   "metadata": {
    "tags": []
   },
   "outputs": [
    {
     "name": "stdout",
     "output_type": "stream",
     "text": [
      "1/1 [==============================] - 0s 42ms/step\n"
     ]
    }
   ],
   "source": [
    "tomorrows_temp = model.predict(prior_days4)[0][0] # we see the predicted temp is embedded inside two dimensions"
   ]
  },
  {
   "cell_type": "code",
   "execution_count": 62,
   "id": "f84c3ed0-70d7-4763-8021-e53c43bdd369",
   "metadata": {
    "tags": []
   },
   "outputs": [
    {
     "name": "stdout",
     "output_type": "stream",
     "text": [
      "Tomorrow's predicted stock close is 378.25 \n"
     ]
    }
   ],
   "source": [
    "print(f\"Tomorrow's predicted stock close is {tomorrows_temp:.2f} \")"
   ]
  },
  {
   "cell_type": "markdown",
   "id": "c985fc39-afc3-4e53-8fa9-aac8f8ed8694",
   "metadata": {},
   "source": [
    "# Results\n",
    "The GRU is the best performing model as per our data, we can observe that the mean squared error is the least at 5.2 and the 10th day closing stock price is 378.25"
   ]
  },
  {
   "cell_type": "markdown",
   "id": "9fe23e0b-bb35-413e-9eb2-b1c6fbbb4c67",
   "metadata": {},
   "source": [
    "# Conv1D"
   ]
  },
  {
   "cell_type": "markdown",
   "id": "c46d5e4f-9278-4550-b8a6-f2693b608857",
   "metadata": {},
   "source": [
    "### Last Layer: GRU (you can change it to SimpleRNN or LSTM as well)"
   ]
  },
  {
   "cell_type": "code",
   "execution_count": 63,
   "id": "f7700ce9-6b31-45a7-afd9-53e11bf80c6b",
   "metadata": {
    "scrolled": true
   },
   "outputs": [],
   "source": [
    "model = keras.models.Sequential([\n",
    "    keras.layers.Conv1D(filters=20, kernel_size=3, strides=1, padding=\"valid\", input_shape=[n_steps, n_inputs]),\n",
    "    keras.layers.GRU(64, activation='relu', return_sequences=True),\n",
    "    keras.layers.GRU(32, activation='relu', return_sequences=False),\n",
    "    keras.layers.Dense(1, activation=None)\n",
    "])"
   ]
  },
  {
   "cell_type": "code",
   "execution_count": 64,
   "id": "ba4ab0f3-2c23-4ef0-82fb-9a1ad45f162e",
   "metadata": {
    "scrolled": true
   },
   "outputs": [
    {
     "name": "stdout",
     "output_type": "stream",
     "text": [
      "Epoch 1/50\n",
      "1/1 [==============================] - 4s 4s/step - loss: 119438.1016 - val_loss: 113412.7188\n",
      "Epoch 2/50\n",
      "1/1 [==============================] - 0s 39ms/step - loss: 114833.7969 - val_loss: 109534.0938\n",
      "Epoch 3/50\n",
      "1/1 [==============================] - 0s 48ms/step - loss: 110927.8359 - val_loss: 106497.6484\n",
      "Epoch 4/50\n",
      "1/1 [==============================] - 0s 50ms/step - loss: 107747.8594 - val_loss: 102692.6875\n",
      "Epoch 5/50\n",
      "1/1 [==============================] - 0s 51ms/step - loss: 104004.3906 - val_loss: 99788.8359\n",
      "Epoch 6/50\n",
      "1/1 [==============================] - 0s 45ms/step - loss: 101288.2734 - val_loss: 99712.1562\n",
      "Epoch 7/50\n",
      "1/1 [==============================] - 0s 53ms/step - loss: 100414.8047 - val_loss: 95178.5000\n",
      "Epoch 8/50\n",
      "1/1 [==============================] - 0s 47ms/step - loss: 96495.5391 - val_loss: 92559.6250\n",
      "Epoch 9/50\n",
      "1/1 [==============================] - 0s 47ms/step - loss: 93781.4297 - val_loss: 90408.8984\n",
      "Epoch 10/50\n",
      "1/1 [==============================] - 0s 47ms/step - loss: 91648.3594 - val_loss: 88551.4766\n",
      "Epoch 11/50\n",
      "1/1 [==============================] - 0s 49ms/step - loss: 89787.0234 - val_loss: 86648.4062\n",
      "Epoch 12/50\n",
      "1/1 [==============================] - 0s 48ms/step - loss: 87885.4453 - val_loss: 84775.7109\n",
      "Epoch 13/50\n",
      "1/1 [==============================] - 0s 54ms/step - loss: 85990.0156 - val_loss: 82772.2891\n",
      "Epoch 14/50\n",
      "1/1 [==============================] - 0s 48ms/step - loss: 83966.5547 - val_loss: 80660.7734\n",
      "Epoch 15/50\n",
      "1/1 [==============================] - 0s 56ms/step - loss: 81846.1094 - val_loss: 78391.3438\n",
      "Epoch 16/50\n",
      "1/1 [==============================] - 0s 63ms/step - loss: 79597.6953 - val_loss: 76044.3359\n",
      "Epoch 17/50\n",
      "1/1 [==============================] - 0s 63ms/step - loss: 77242.7031 - val_loss: 73518.7656\n",
      "Epoch 18/50\n",
      "1/1 [==============================] - 0s 56ms/step - loss: 74704.8750 - val_loss: 70732.2188\n",
      "Epoch 19/50\n",
      "1/1 [==============================] - 0s 53ms/step - loss: 71870.7656 - val_loss: 67300.2266\n",
      "Epoch 20/50\n",
      "1/1 [==============================] - 0s 48ms/step - loss: 68395.2969 - val_loss: 63513.5000\n",
      "Epoch 21/50\n",
      "1/1 [==============================] - 0s 47ms/step - loss: 64579.1328 - val_loss: 59722.7852\n",
      "Epoch 22/50\n",
      "1/1 [==============================] - 0s 47ms/step - loss: 60728.0898 - val_loss: 55842.1055\n",
      "Epoch 23/50\n",
      "1/1 [==============================] - 0s 44ms/step - loss: 56738.1914 - val_loss: 51466.0625\n",
      "Epoch 24/50\n",
      "1/1 [==============================] - 0s 48ms/step - loss: 52289.1445 - val_loss: 47338.7305\n",
      "Epoch 25/50\n",
      "1/1 [==============================] - 0s 49ms/step - loss: 48170.4648 - val_loss: 43331.6875\n",
      "Epoch 26/50\n",
      "1/1 [==============================] - 0s 45ms/step - loss: 44112.4453 - val_loss: 39047.5586\n",
      "Epoch 27/50\n",
      "1/1 [==============================] - 0s 45ms/step - loss: 39812.9805 - val_loss: 34774.1445\n",
      "Epoch 28/50\n",
      "1/1 [==============================] - 0s 47ms/step - loss: 35487.9609 - val_loss: 30363.8105\n",
      "Epoch 29/50\n",
      "1/1 [==============================] - 0s 45ms/step - loss: 31006.9727 - val_loss: 24531.9629\n",
      "Epoch 30/50\n",
      "1/1 [==============================] - 0s 52ms/step - loss: 25140.1562 - val_loss: 19792.1797\n",
      "Epoch 31/50\n",
      "1/1 [==============================] - 0s 44ms/step - loss: 20290.8633 - val_loss: 15544.6797\n",
      "Epoch 32/50\n",
      "1/1 [==============================] - 0s 45ms/step - loss: 16038.5557 - val_loss: 11486.8506\n",
      "Epoch 33/50\n",
      "1/1 [==============================] - 0s 46ms/step - loss: 11853.9922 - val_loss: 7992.2227\n",
      "Epoch 34/50\n",
      "1/1 [==============================] - 0s 44ms/step - loss: 8297.5576 - val_loss: 5015.2051\n",
      "Epoch 35/50\n",
      "1/1 [==============================] - 0s 45ms/step - loss: 5256.5171 - val_loss: 2669.7661\n",
      "Epoch 36/50\n",
      "1/1 [==============================] - 0s 45ms/step - loss: 2849.8960 - val_loss: 968.3188\n",
      "Epoch 37/50\n",
      "1/1 [==============================] - 0s 46ms/step - loss: 1088.6190 - val_loss: 36.3730\n",
      "Epoch 38/50\n",
      "1/1 [==============================] - 0s 45ms/step - loss: 137.1376 - val_loss: 632.7523\n",
      "Epoch 39/50\n",
      "1/1 [==============================] - 0s 45ms/step - loss: 689.2548 - val_loss: 1767.0934\n",
      "Epoch 40/50\n",
      "1/1 [==============================] - 0s 45ms/step - loss: 1764.0555 - val_loss: 2797.4121\n",
      "Epoch 41/50\n",
      "1/1 [==============================] - 0s 43ms/step - loss: 2718.8513 - val_loss: 3120.0645\n",
      "Epoch 42/50\n",
      "1/1 [==============================] - 0s 44ms/step - loss: 3101.9749 - val_loss: 3359.1680\n",
      "Epoch 43/50\n",
      "1/1 [==============================] - 0s 45ms/step - loss: 3300.9341 - val_loss: 3641.5808\n",
      "Epoch 44/50\n",
      "1/1 [==============================] - 0s 45ms/step - loss: 3571.8743 - val_loss: 3363.6179\n",
      "Epoch 45/50\n",
      "1/1 [==============================] - 0s 46ms/step - loss: 3283.5083 - val_loss: 2653.8484\n",
      "Epoch 46/50\n",
      "1/1 [==============================] - 0s 47ms/step - loss: 2531.3108 - val_loss: 1193.5916\n",
      "Epoch 47/50\n",
      "1/1 [==============================] - 0s 50ms/step - loss: 1184.1096 - val_loss: 750.9124\n",
      "Epoch 47: early stopping\n"
     ]
    }
   ],
   "source": [
    "np.random.seed(42)\n",
    "tf.random.set_seed(42)\n",
    "\n",
    "model.compile(loss=\"mse\", optimizer='Adam')\n",
    "\n",
    "history = model.fit(X_train, y_train, epochs=50, validation_data=(X_test, y_test), \n",
    "    callbacks=[early_stop])"
   ]
  },
  {
   "cell_type": "markdown",
   "id": "68719ca2-f911-4f26-95f2-f90c5bf8f372",
   "metadata": {},
   "source": [
    "### Predictions"
   ]
  },
  {
   "cell_type": "code",
   "execution_count": 65,
   "id": "d84748c8-fa43-499f-9257-41d6ca013ef8",
   "metadata": {},
   "outputs": [
    {
     "name": "stdout",
     "output_type": "stream",
     "text": [
      "1/1 [==============================] - 0s 477ms/step\n"
     ]
    }
   ],
   "source": [
    "#Predict:\n",
    "y_pred = model.predict(X_test)"
   ]
  },
  {
   "cell_type": "code",
   "execution_count": 66,
   "id": "d6c7c6d0-932b-4c7d-9614-fec706f42c5f",
   "metadata": {},
   "outputs": [
    {
     "data": {
      "text/plain": [
       "27.4027801094376"
      ]
     },
     "execution_count": 66,
     "metadata": {},
     "output_type": "execute_result"
    }
   ],
   "source": [
    "mean_squared_error(y_test, y_pred)**0.5"
   ]
  },
  {
   "cell_type": "code",
   "execution_count": 67,
   "id": "20c914a4-aaba-403e-93e3-d02378f9c0cd",
   "metadata": {},
   "outputs": [
    {
     "data": {
      "image/png": "[encoded data removed]",
      "text/plain": [
       "<Figure size 640x480 with 1 Axes>"
      ]
     },
     "metadata": {},
     "output_type": "display_data"
    }
   ],
   "source": [
    "\n",
    "plt.plot(history.history['loss'])\n",
    "plt.plot(history.history['val_loss'])\n",
    "\n",
    "plt.legend(['train', 'test'], loc='upper right')\n",
    "\n",
    "\n",
    "plt.show()"
   ]
  },
  {
   "cell_type": "code",
   "execution_count": null,
   "id": "e03729ce-487c-484d-aa1a-320ffcad3716",
   "metadata": {},
   "outputs": [],
   "source": []
  },
  {
   "cell_type": "code",
   "execution_count": 68,
   "id": "4668378a-3433-44e4-aa57-84aa1c8d3001",
   "metadata": {
    "tags": []
   },
   "outputs": [],
   "source": [
    "prior_days5 = np.array(\n",
    "    [ 383.869995,386.25,388.859985,382.359985,383.709991,386.149994,383.809998,380.579987,371.540009 ]\n",
    ")\n",
    "\n",
    "# reshape into the three dimensions for input into model\n",
    "prior_days5 = prior_days5.reshape(1, 9, 1) # 1 row, 59 time steps (features), and 1 output/prediction)"
   ]
  },
  {
   "cell_type": "code",
   "execution_count": 69,
   "id": "045854e6-564f-4f60-9670-8717a24e4992",
   "metadata": {
    "tags": []
   },
   "outputs": [
    {
     "name": "stdout",
     "output_type": "stream",
     "text": [
      "1/1 [==============================] - 0s 34ms/step\n"
     ]
    },
    {
     "data": {
      "text/plain": [
       "array([[407.59747]], dtype=float32)"
      ]
     },
     "execution_count": 69,
     "metadata": {},
     "output_type": "execute_result"
    }
   ],
   "source": [
    "model.predict(prior_days5) # note the structure of the prediction"
   ]
  },
  {
   "cell_type": "code",
   "execution_count": 70,
   "id": "11893441-47c8-45d3-8ce8-898360f08226",
   "metadata": {
    "tags": []
   },
   "outputs": [
    {
     "name": "stdout",
     "output_type": "stream",
     "text": [
      "1/1 [==============================] - 0s 32ms/step\n"
     ]
    }
   ],
   "source": [
    "tomorrows_temp = model.predict(prior_days5)[0][0] # we see the predicted temp is embedded inside two dimensions"
   ]
  },
  {
   "cell_type": "code",
   "execution_count": 71,
   "id": "7ab0038f-d9cd-4447-99bf-8fcd76900c4b",
   "metadata": {
    "tags": []
   },
   "outputs": [
    {
     "name": "stdout",
     "output_type": "stream",
     "text": [
      "Tomorrow's predicted stock close is 407.60 \n"
     ]
    }
   ],
   "source": [
    "print(f\"Tomorrow's predicted stock close is {tomorrows_temp:.2f} \")"
   ]
  },
  {
   "cell_type": "markdown",
   "id": "d5a728b7-c222-4f6d-b788-d48525fe26d7",
   "metadata": {},
   "source": [
    "## Results\n",
    "the 10th day predicted stock price is 407.6, we can see that the plotted data is on par with our actual & predicted values but this is not as good as GRU model"
   ]
  },
  {
   "cell_type": "markdown",
   "id": "b774900d-6dea-4789-a4fc-6bfad6dabec0",
   "metadata": {},
   "source": [
    "# Discussion & Conclusion"
   ]
  },
  {
   "cell_type": "markdown",
   "id": "99746912-38db-4cd9-afb4-c475a312d57a",
   "metadata": {},
   "source": [
    "GRU is a simplified version of LSTM that also uses gates to control the flow of information but has fewer parameters than LSTM. GRU is faster to train and requires less memory than LSTM but may not perform as well on more complex problems.\n",
    "GRU has given us the least mean squared error and we had predicted the closing price of 10th day based on few 9 days data we gathered.\n",
    "This method follows a different approach compared to our previous method where we had standardized the values and splitted the data based on chronological order.\n",
    "The first method was train sequentially on each 9 days split to predict the 10th day, though the second model has also trained on previous 9 days and predicted the 10th day as target column, howoever when testing this we had given a array of input data ourselves and it had predicted the 10th day based on past 9 days. "
   ]
  }
 ],
 "metadata": {
  "kernelspec": {
   "display_name": "tf",
   "language": "python",
   "name": "tf"
  },
  "language_info": {
   "codemirror_mode": {
    "name": "ipython",
    "version": 3
   },
   "file_extension": ".py",
   "mimetype": "text/x-python",
   "name": "python",
   "nbconvert_exporter": "python",
   "pygments_lexer": "ipython3",
   "version": "3.9.16"
  }
 },
 "nbformat": 4,
 "nbformat_minor": 5
}
