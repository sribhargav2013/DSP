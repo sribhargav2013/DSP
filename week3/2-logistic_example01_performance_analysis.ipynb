{
 "cells": [
  {
   "cell_type": "markdown",
   "metadata": {},
   "source": [
    "## Performance analysis of classification models\n",
    "\n",
    "In this notebook, we will analyze the performance of the classification models that we have trained in the previous notebook. We will use the following metrics:\n",
    "* Accuracy\n",
    "* Precision\n",
    "* Recall\n",
    "* F1 score"
   ]
  },
  {
   "cell_type": "code",
   "execution_count": 4,
   "metadata": {},
   "outputs": [],
   "source": [
    "import pandas as pd\n",
    "import numpy as np\n",
    "import matplotlib.pyplot as plt\n",
    "from sklearn.metrics import confusion_matrix\n",
    "\n",
    "import pickle"
   ]
  },
  {
   "cell_type": "code",
   "execution_count": 5,
   "metadata": {},
   "outputs": [],
   "source": [
    "log_reg_model = pickle.load(open('./data/logistic_model_example01.pkl', \"rb\"))"
   ]
  },
  {
   "cell_type": "code",
   "execution_count": 6,
   "metadata": {},
   "outputs": [
    {
     "data": {
      "text/html": [
       "<div>\n",
       "<style scoped>\n",
       "    .dataframe tbody tr th:only-of-type {\n",
       "        vertical-align: middle;\n",
       "    }\n",
       "\n",
       "    .dataframe tbody tr th {\n",
       "        vertical-align: top;\n",
       "    }\n",
       "\n",
       "    .dataframe thead th {\n",
       "        text-align: right;\n",
       "    }\n",
       "</style>\n",
       "<table border=\"1\" class=\"dataframe\">\n",
       "  <thead>\n",
       "    <tr style=\"text-align: right;\">\n",
       "      <th></th>\n",
       "      <th>kgs_smoked</th>\n",
       "      <th>cancer</th>\n",
       "    </tr>\n",
       "  </thead>\n",
       "  <tbody>\n",
       "    <tr>\n",
       "      <th>0</th>\n",
       "      <td>-0.659560</td>\n",
       "      <td>0</td>\n",
       "    </tr>\n",
       "    <tr>\n",
       "      <th>1</th>\n",
       "      <td>5.781490</td>\n",
       "      <td>0</td>\n",
       "    </tr>\n",
       "    <tr>\n",
       "      <th>2</th>\n",
       "      <td>-8.247713</td>\n",
       "      <td>0</td>\n",
       "    </tr>\n",
       "  </tbody>\n",
       "</table>\n",
       "</div>"
      ],
      "text/plain": [
       "   kgs_smoked  cancer\n",
       "0   -0.659560       0\n",
       "1    5.781490       0\n",
       "2   -8.247713       0"
      ]
     },
     "execution_count": 6,
     "metadata": {},
     "output_type": "execute_result"
    }
   ],
   "source": [
    "df = pd.read_csv('./data/logistic_example01.csv')\n",
    "df.head(3)"
   ]
  },
  {
   "cell_type": "code",
   "execution_count": 7,
   "metadata": {},
   "outputs": [],
   "source": [
    "X = df[['kgs_smoked']]\n",
    "y = df[['cancer']]"
   ]
  },
  {
   "cell_type": "code",
   "execution_count": 8,
   "metadata": {},
   "outputs": [],
   "source": [
    "model_preds = log_reg_model.predict(X)"
   ]
  },
  {
   "cell_type": "code",
   "execution_count": 9,
   "metadata": {},
   "outputs": [],
   "source": [
    "c_matrix = confusion_matrix(y, model_preds)"
   ]
  },
  {
   "cell_type": "code",
   "execution_count": 10,
   "metadata": {},
   "outputs": [],
   "source": [
    "TP = c_matrix[1][1]\n",
    "TN = c_matrix[0][0]\n",
    "FP = c_matrix[0][1]\n",
    "FN = c_matrix[1][0]\n"
   ]
  },
  {
   "cell_type": "code",
   "execution_count": 11,
   "metadata": {},
   "outputs": [],
   "source": [
    "accuracy = (TP + TN) / (TP + TN + FP + FN)\n",
    "precision = TP / (TP + FP)\n",
    "recall = TP / (TP + FN)\n",
    "f1 = 2 * (precision * recall) / (precision + recall)"
   ]
  },
  {
   "cell_type": "code",
   "execution_count": 12,
   "metadata": {},
   "outputs": [
    {
     "name": "stdout",
     "output_type": "stream",
     "text": [
      "Accuracy:   0.72\n",
      "Precision:  0.77\n",
      "Recall:     0.71\n",
      "F1:         0.74\n"
     ]
    }
   ],
   "source": [
    "print(f'{\"Accuracy:\":12s}{accuracy:.2f}')\n",
    "print(f'{\"Precision:\":12s}{precision:.2f}')\n",
    "print(f'{\"Recall:\":12s}{recall:>.2f}')\n",
    "print(f'{\"F1:\":12s}{f1:>.2f}')"
   ]
  },
  {
   "attachments": {},
   "cell_type": "markdown",
   "metadata": {},
   "source": [
    "But which is the best metric to use? The answer is: it depends on the problem. \n",
    "\n",
    "In this case, we indicate that the cost of a test is 1000, but the cost of loosing a life is immersable (well, insurance companies try to do this - let's say it's $10,000,000). Now, from our sample population of smokers, we see that about 50% of them die of cancer. If smokers make up 10% of the population, then we can expect that 5% of the population will die of cancer. If we apply this model to the entire population (some random individual), the cost of a missed diagnosis is 10,000,000*5% = 500,000.\n",
    "\n",
    "So, we can see that the cost of a missed diagnosis is much higher than the cost of a false positive. So, we should optimize for recall."
   ]
  },
  {
   "attachments": {},
   "cell_type": "markdown",
   "metadata": {},
   "source": [
    "# Cost Weight Learning\n",
    "\n",
    "We only know one model so far, later we will need to compare multiple models and determin which one will be our chosen model. In such cases, we need to know which score is more effective for our given context. In the above screnerio, if we give a person the test and they don't have cancer, it costs $1,000. If we don't give this person a test but they have cancer, we avoided the $1000 spent, but the cost of the life was 10,000,0000. In this particular case, we use a null model that is assume everyone has cancer and give them the test. \n",
    "\n",
    "Later examples will have the costs between the two errors be closer, and in such cases, a model with sufficient performance can result in cost savings and/or profit for a company.\n",
    "\n"
   ]
  }
 ],
 "metadata": {
  "kernelspec": {
   "display_name": "Python 3.9 (XPython)",
   "language": "python",
   "name": "pythonjvsc74a57bd0b056086e24cb5602cbcb82122035cd3d6ee2ccbf5df29c16e348c108b0f83be3"
  },
  "language_info": {
   "codemirror_mode": {
    "name": "ipython",
    "version": 3
   },
   "file_extension": ".py",
   "mimetype": "text/x-python",
   "name": "python",
   "nbconvert_exporter": "python",
   "pygments_lexer": "ipython3",
   "version": "3.9.13"
  },
  "orig_nbformat": 4,
  "vscode": {
   "interpreter": {
    "hash": "b056086e24cb5602cbcb82122035cd3d6ee2ccbf5df29c16e348c108b0f83be3"
   }
  }
 },
 "nbformat": 4,
 "nbformat_minor": 2
}
